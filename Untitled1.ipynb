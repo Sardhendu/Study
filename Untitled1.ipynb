{
 "cells": [
  {
   "cell_type": "code",
   "execution_count": 3,
   "metadata": {
    "collapsed": true
   },
   "outputs": [],
   "source": [
    "a = [3,1,3,4,7,2]"
   ]
  },
  {
   "cell_type": "code",
   "execution_count": 4,
   "metadata": {},
   "outputs": [
    {
     "data": {
      "text/plain": [
       "[(1, 1), (5, 2), (0, 3), (2, 3), (3, 4), (4, 7)]"
      ]
     },
     "execution_count": 4,
     "metadata": {},
     "output_type": "execute_result"
    }
   ],
   "source": [
    "sorted(enumerate(a), key=lambda x: x[1])"
   ]
  },
  {
   "cell_type": "code",
   "execution_count": 6,
   "metadata": {},
   "outputs": [
    {
     "data": {
      "text/plain": [
       "[1, 5, 0, 2, 3, 4]"
      ]
     },
     "execution_count": 6,
     "metadata": {},
     "output_type": "execute_result"
    }
   ],
   "source": [
    "sorted(range(len(a)), key=lambda x:a[x])"
   ]
  },
  {
   "cell_type": "code",
   "execution_count": 8,
   "metadata": {},
   "outputs": [
    {
     "data": {
      "text/plain": [
       "3"
      ]
     },
     "execution_count": 8,
     "metadata": {},
     "output_type": "execute_result"
    }
   ],
   "source": [
    "a.pop(0)"
   ]
  },
  {
   "cell_type": "code",
   "execution_count": 41,
   "metadata": {},
   "outputs": [
    {
     "name": "stdout",
     "output_type": "stream",
     "text": [
      "[1, 3, 4, 4, 4, 4, 5]\n"
     ]
    },
    {
     "data": {
      "text/plain": [
       "[3]"
      ]
     },
     "execution_count": 41,
     "metadata": {},
     "output_type": "execute_result"
    }
   ],
   "source": [
    "score_arr = [4,4,1,4,5,4,3]\n",
    "name_arr = ['s','a','e','r','t','y','o']\n",
    "\n",
    "ind_srt = sorted(range(len(score_arr)), key=lambda x:score_arr[x])\n",
    "score_arr = [score_[i] for i in ind_srt]\n",
    "print(score_arr)\n",
    "\n",
    "      \n",
    "idx_arr =[]\n",
    "break_num = 0\n",
    "if len(score_arr) > 1:\n",
    "    for i in range(0, len(score_arr)-1):\n",
    "        if score_arr[i+1] != score_arr[i]:\n",
    "            break_num += 1\n",
    "            \n",
    "        if break_num == 1:\n",
    "            idx_arr += [score_arr[i+1]]\n",
    "\n",
    "        if break_num == 2:\n",
    "            break\n",
    "idx_arr"
   ]
  },
  {
   "cell_type": "code",
   "execution_count": null,
   "metadata": {
    "collapsed": true
   },
   "outputs": [],
   "source": [
    "np."
   ]
  },
  {
   "cell_type": "code",
   "execution_count": null,
   "metadata": {
    "collapsed": true
   },
   "outputs": [],
   "source": [
    "score_arr = []\n",
    "person_arr = []\n",
    "for score, name in zip(score_, name_):\n",
    "    if len(set(score_arr)) <=2:\n",
    "            score_arr += [score]\n",
    "            person_arr += [name]\n",
    "    else:            \n",
    "        if score < min(score_arr):\n",
    "            score_arr[0] = score\n",
    "            person_arr[0] = name\n",
    "        elif score == min(score_arr) or score < min(score_arr):\n",
    "            score_arr += [score]\n",
    "            person_arr += [name]\n",
    "        else:\n",
    "            pass\n",
    "\n",
    "    print (score_arr)\n",
    "    print(person_arr)\n",
    "    ind_srt = sorted(range(len(score_arr)), key=lambda x:score_arr[x])\n",
    "    print (ind_srt)\n",
    "    score_arr = [score_arr[i] for i in ind_srt]\n",
    "    person_arr = [person_arr[i] for i in ind_srt]\n",
    "\n",
    "print(person_arr[:-1])"
   ]
  },
  {
   "cell_type": "code",
   "execution_count": null,
   "metadata": {
    "collapsed": true
   },
   "outputs": [],
   "source": []
  },
  {
   "cell_type": "code",
   "execution_count": 27,
   "metadata": {},
   "outputs": [
    {
     "data": {
      "text/plain": [
       "[2, 3, 4, 5]"
      ]
     },
     "execution_count": 27,
     "metadata": {},
     "output_type": "execute_result"
    }
   ],
   "source": [
    "a = [1,2,3,4,5]\n",
    "a[1:]"
   ]
  },
  {
   "cell_type": "code",
   "execution_count": 26,
   "metadata": {},
   "outputs": [
    {
     "name": "stdout",
     "output_type": "stream",
     "text": [
      "n =  5\n",
      "n =  4\n",
      "n =  3\n",
      "n =  2\n",
      "n =  1\n",
      "ret =  1\n",
      "{0: 1, 1: 1}\n",
      "ret =  2\n",
      "{0: 1, 1: 1, 2: 2}\n",
      "ret =  4\n",
      "{0: 1, 1: 1, 2: 2, 3: 4}\n",
      "ret =  7\n",
      "{0: 1, 1: 1, 2: 2, 3: 4, 4: 7}\n",
      "ret =  13\n",
      "{0: 1, 1: 1, 2: 2, 3: 4, 4: 7, 5: 13}\n"
     ]
    },
    {
     "data": {
      "text/plain": [
       "13"
      ]
     },
     "execution_count": 26,
     "metadata": {},
     "output_type": "execute_result"
    }
   ],
   "source": [
    "seen = {0: 1}\n",
    "\n",
    "def combine(n):\n",
    "    if n < 0:\n",
    "        return 0\n",
    "    if n in seen:\n",
    "        return seen[n]\n",
    "    print ('n = ', n)\n",
    "    ret = combine(n - 1) + combine(n - 2) + combine(n - 3)\n",
    "    print ('ret = ', ret)\n",
    "#     print('ret1 ', ret)\n",
    "#     ret += \n",
    "#     print ('n2 = ', n)\n",
    "#     print('ret2 ', ret)\n",
    "#     ret += combine(n - 3)\n",
    "#     print ('n3 = ', n)\n",
    "#     print('ret3 ', ret)\n",
    "    seen[n] = ret\n",
    "    print (seen)\n",
    "    return ret\n",
    "\n",
    "combine(5)"
   ]
  },
  {
   "cell_type": "code",
   "execution_count": 1,
   "metadata": {},
   "outputs": [
    {
     "name": "stdout",
     "output_type": "stream",
     "text": [
      "n =  10\n",
      "n =  8\n",
      "n =  6\n",
      "n =  4\n",
      "n =  2\n",
      "ret =  1\n",
      "{0: 1, 2: 1}\n",
      "n =  1\n",
      "ret =  0\n",
      "{0: 1, 1: 0, 2: 1}\n",
      "ret =  1\n",
      "{0: 1, 1: 0, 2: 1, 4: 1}\n",
      "n =  3\n",
      "ret =  1\n",
      "{0: 1, 1: 0, 2: 1, 3: 1, 4: 1}\n",
      "ret =  3\n",
      "{0: 1, 1: 0, 2: 1, 3: 1, 4: 1, 6: 3}\n",
      "n =  5\n",
      "ret =  3\n",
      "{0: 1, 1: 0, 2: 1, 3: 1, 4: 1, 5: 3, 6: 3}\n",
      "ret =  8\n",
      "{0: 1, 1: 0, 2: 1, 3: 1, 4: 1, 5: 3, 6: 3, 8: 8}\n",
      "n =  7\n",
      "ret =  5\n",
      "{0: 1, 1: 0, 2: 1, 3: 1, 4: 1, 5: 3, 6: 3, 7: 5, 8: 8}\n",
      "ret =  17\n",
      "{0: 1, 1: 0, 2: 1, 3: 1, 4: 1, 5: 3, 6: 3, 7: 5, 8: 8, 10: 17}\n"
     ]
    },
    {
     "data": {
      "text/plain": [
       "17"
      ]
     },
     "execution_count": 1,
     "metadata": {},
     "output_type": "execute_result"
    }
   ],
   "source": [
    "seen = {0: 1}\n",
    "def combine(n):\n",
    "    if n < 0:\n",
    "        return 0\n",
    "    if n in seen:\n",
    "        return seen[n]\n",
    "    print ('n = ', n)\n",
    "    ret = combine(n - 2) + combine(n - 3) + combine(n - 5) + combine(n - 6)\n",
    "    print ('ret = ', ret)\n",
    "#     print('ret1 ', ret)\n",
    "#     ret += \n",
    "#     print ('n2 = ', n)\n",
    "#     print('ret2 ', ret)\n",
    "#     ret += combine(n - 3)\n",
    "#     print ('n3 = ', n)\n",
    "#     print('ret3 ', ret)\n",
    "    seen[n] = ret\n",
    "    print (seen)\n",
    "    return ret\n",
    "\n",
    "combine(10)"
   ]
  },
  {
   "cell_type": "code",
   "execution_count": 14,
   "metadata": {},
   "outputs": [
    {
     "name": "stdout",
     "output_type": "stream",
     "text": [
      "n =  10\n",
      "n =  8\n",
      "n =  6\n",
      "n =  4\n",
      "n =  2\n",
      "ret =  1\n",
      "{0: 1, 2: 1}\n",
      "n =  1\n",
      "ret =  0\n",
      "{0: 1, 1: 0, 2: 1}\n",
      "ret =  1\n",
      "{0: 1, 1: 0, 2: 1, 4: 1}\n",
      "n =  3\n",
      "ret =  1\n",
      "{0: 1, 1: 0, 2: 1, 3: 1, 4: 1}\n",
      "ret =  3\n",
      "{0: 1, 1: 0, 2: 1, 3: 1, 4: 1, 6: 3}\n",
      "n =  5\n",
      "ret =  3\n",
      "{0: 1, 1: 0, 2: 1, 3: 1, 4: 1, 5: 3, 6: 3}\n",
      "ret =  8\n",
      "{0: 1, 1: 0, 2: 1, 3: 1, 4: 1, 5: 3, 6: 3, 8: 8}\n",
      "n =  7\n",
      "ret =  5\n",
      "{0: 1, 1: 0, 2: 1, 3: 1, 4: 1, 5: 3, 6: 3, 7: 5, 8: 8}\n",
      "ret =  17\n",
      "{0: 1, 1: 0, 2: 1, 3: 1, 4: 1, 5: 3, 6: 3, 7: 5, 8: 8, 10: 17}\n"
     ]
    },
    {
     "data": {
      "text/plain": [
       "17"
      ]
     },
     "execution_count": 14,
     "metadata": {},
     "output_type": "execute_result"
    }
   ],
   "source": [
    "seen = {0: 1}\n",
    "\n",
    "class pp():\n",
    "    def __init__(self, coins):\n",
    "        self.coins = coins\n",
    "        \n",
    "    def combine(self, n):\n",
    "        if n < 0:\n",
    "            return 0\n",
    "        if n in seen:\n",
    "            return seen[n]\n",
    "        print ('n = ', n)\n",
    "        ret = self.combine(n - self.coins[0])\n",
    "        for j in self.coins[1:]:\n",
    "            ret += self.combine(n - j) \n",
    "        print ('ret = ', ret)\n",
    "    #     print('ret1 ', ret)\n",
    "    #     ret += \n",
    "    #     print ('n2 = ', n)\n",
    "    #     print('ret2 ', ret)\n",
    "    #     ret += combine(n - 3)\n",
    "    #     print ('n3 = ', n)\n",
    "    #     print('ret3 ', ret)\n",
    "        seen[n] = ret\n",
    "        print (seen)\n",
    "        return ret\n",
    "\n",
    "pp([2,5,3,6]).combine(10)"
   ]
  },
  {
   "cell_type": "code",
   "execution_count": null,
   "metadata": {
    "collapsed": true
   },
   "outputs": [],
   "source": [
    "def get_countries(s, p):\n",
    "    print (s)\n",
    "    print (p)\n",
    "    print ('')\n",
    "    url = \"https://jsonmock.hackerrank.com/api/countries/search?name=%s\"%str(s)\n",
    "    r = urllib.request.urlopen(url)\n",
    "    res_body = r.read()\n",
    "    content = json.loads(res_body.decode(\"utf-8\"))\n",
    "    dat =  content['data']\n",
    "    count_ = 0\n",
    "    for d in dat:\n",
    "        try:\n",
    "            nm = d['name']\n",
    "            # print (d['population'])\n",
    "            pop = d['population']\n",
    "            for name_split in nm.split(' '):\n",
    "                if s.lower() in name_split.lower() and int(pop)>p:\n",
    "                    count_ += 1 \n",
    "        except KeyError:\n",
    "            pass\n",
    "    return count_\n",
    "            "
   ]
  },
  {
   "cell_type": "code",
   "execution_count": 15,
   "metadata": {},
   "outputs": [
    {
     "name": "stdout",
     "output_type": "stream",
     "text": [
      "[[0, 0, 0, 0], [0, 0, 0, 0], [0, 0, 0, 0]]\n"
     ]
    }
   ],
   "source": [
    "n = 3\n",
    "m = 4\n",
    "a = [0] * n\n",
    "for i in range(n):\n",
    "    a[i] = [0] * m\n",
    "print(a)"
   ]
  },
  {
   "cell_type": "code",
   "execution_count": 16,
   "metadata": {},
   "outputs": [
    {
     "data": {
      "text/plain": [
       "0"
      ]
     },
     "execution_count": 16,
     "metadata": {},
     "output_type": "execute_result"
    }
   ],
   "source": [
    "a[0][0]"
   ]
  },
  {
   "cell_type": "code",
   "execution_count": 31,
   "metadata": {},
   "outputs": [
    {
     "name": "stdout",
     "output_type": "stream",
     "text": [
      "[[0, 0, 0, 0, 0, 0, 0, 0, 0, 0, 0], [0, 0, 0, 0, 0, 0, 0, 0, 0, 0, 0], [0, 0, 0, 0, 0, 0, 0, 0, 0, 0, 0], [0, 0, 0, 0, 0, 0, 0, 0, 0, 0, 0]]\n",
      "[[1, 0, 1, 0, 1, 0, 1, 0, 1, 0, 1], [1, 0, 0, 0, 0, 0, 0, 0, 0, 0, 0], [1, 0, 0, 0, 0, 0, 0, 0, 0, 0, 0], [1, 0, 0, 0, 0, 0, 0, 0, 0, 0, 0]]\n",
      "[[1, 0, 1, 0, 1, 0, 1, 0, 1, 0, 1], [1, 0, 1, 1, 1, 1, 2, 1, 2, 2, 2], [1, 0, 1, 1, 1, 2, 2, 2, 3, 3, 4], [1, 0, 1, 1, 1, 2, 3, 2, 4, 4, 5]]\n"
     ]
    }
   ],
   "source": [
    "n = [2,3,5,6]\n",
    "m = list(range(0,11))\n",
    "\n",
    "a = [0] * len(n)\n",
    "for i in range(0,len(n)):\n",
    "    a[i] = [0] * len(m)\n",
    "print(a)\n",
    "\n",
    "\n",
    "for i in range(0,len(n)):\n",
    "    a[i][0] = 1\n",
    "\n",
    "for j in range(0,len(m)):\n",
    "    if (m[j] % n[0]) == 0:\n",
    "        a[0][j] = 1\n",
    "    else:\n",
    "        a[0][j] = 0\n",
    "    \n",
    "print (a)\n",
    "\n",
    "for i in range(1,len(n)):\n",
    "    for j in range(1,len(m)):\n",
    "        if j-n[i] < 0:\n",
    "            put = 0\n",
    "        else:\n",
    "            put = a[i][j-n[i]]\n",
    "        a[i][j] = put + a[i-1][j]\n",
    "print (a)\n",
    "        "
   ]
  },
  {
   "cell_type": "code",
   "execution_count": 3,
   "metadata": {},
   "outputs": [
    {
     "name": "stdout",
     "output_type": "stream",
     "text": [
      "['b', 'c']\n",
      "No\n"
     ]
    }
   ],
   "source": [
    "\n",
    "\n",
    "\n",
    "# input_str = 'abu-1-tuba'\n",
    "input_str = 'Abc'\n",
    "\n",
    "alpha =['a','b','c','d','e','f','g','h','i','j','k','l','m','n','o','p','q','r','s','t','u','v','w','x','y','z']\n",
    "alpha = set(alpha)\n",
    "\n",
    "removed_char = [i for i in input_str if i in alpha or i.upper() in alpha ]\n",
    "\n",
    "print(removed_char)\n",
    "\n",
    "out = 'Yes'\n",
    "i = 0\n",
    "j = len(removed_char) - 1\n",
    "\n",
    "# if len(removed_char) > 1:\n",
    "while i<j:\n",
    "    if removed_char[i].lower() != removed_char[j].lower():\n",
    "        out = 'No'\n",
    "    i += 1\n",
    "    j -= 1\n",
    "print (out)\n",
    "    \n",
    "    "
   ]
  },
  {
   "cell_type": "code",
   "execution_count": 9,
   "metadata": {},
   "outputs": [
    {
     "name": "stdout",
     "output_type": "stream",
     "text": [
      "0 0 1\n",
      "4 0 2\n",
      "16\n",
      "0\n",
      "16\n"
     ]
    }
   ],
   "source": [
    "\n",
    "\n",
    "x1,y1,r1 = int(0),int(0),int(1)\n",
    "x2,y2,r2 = int(4),int(0),int(2)\n",
    "\n",
    "\n",
    "print (x1,y1,r1)\n",
    "print (x2,y2,r2)\n",
    "\n",
    "# Pythogorean\n",
    "sum_sq = pow((x1 - x2),2) + pow((y1 - y2),2)\n",
    "print (pow((x1 - x2),2))\n",
    "print (pow((y1 - y2),2))\n",
    "print (sum_sq)\n",
    "\n",
    "\n",
    "# dist = pow(sum_sq, 0.5)\n",
    "# r_sum = r1 + r2\n",
    "\n",
    "# print (dist, r_sum)\n",
    "\n",
    "# if dist<= r_sum:\n",
    "#     print ('YES')\n",
    "# else:\n",
    "#     print ('NO')\n",
    "  \n",
    "\n",
    "\n",
    "    \n",
    "    \n",
    "\n",
    "x1,y1,r1 = list(input_str)\n",
    "x2,y2,r2 = list(input_str2)\n",
    "\n",
    "\n",
    "x1,y1,r1 = int(x1),int(y1),int(r1)\n",
    "x2,y2,r2 = int(x2),int(y2),int(r2)\n",
    "\n",
    "\n",
    "#print (x1,y1,r1)\n",
    "#print (x2,y2,r2)\n",
    "\n",
    "# Pythogorean\n",
    "sum_sq = pow((x1 - x2),2) + pow((y1 - y2),2)\n",
    "#print (sum_sq)\n",
    "\n",
    "dist = pow(sum_sq, 0.5)\n",
    "r_sum = r1 + r2\n",
    "\n",
    "#print (dist, r_sum)\n",
    "\n",
    "if dist<= r_sum:\n",
    "  print ('YES')\n",
    "else:\n",
    "  print ('NO')\n",
    "  "
   ]
  },
  {
   "cell_type": "code",
   "execution_count": null,
   "metadata": {
    "collapsed": true
   },
   "outputs": [],
   "source": [
    "if len(A1) == len(A2) and len(A1)=3:\n",
    "  x1,y1,r1 = int(A1[0]),int(A1[1]),int(A1[2])\n",
    "  x2,y2,r2 = int(A2[0]),int(A2[1]),int(A2[2])\n",
    "\n",
    "\n",
    "  #print (x1,y1,r1)\n",
    "  #print (x2,y2,r2)\n",
    "\n",
    "  # Pythogorean\n",
    "  sum_sq = pow((x1 - x2),2) + pow((y1 - y2),2)\n",
    "  #print (sum_sq)\n",
    "\n",
    "  dist = pow(sum_sq, 0.5)\n",
    "  r_sum = r1 + r2\n",
    "\n",
    "  #print (dist, r_sum)\n",
    "\n",
    "  if dist<= r_sum:\n",
    "    print ('YES')\n",
    "  else:\n",
    "    print ('NO')\n",
    "else:\n",
    "  print ('NO')\n",
    "\n",
    "\n"
   ]
  },
  {
   "cell_type": "code",
   "execution_count": null,
   "metadata": {
    "collapsed": true
   },
   "outputs": [],
   "source": []
  },
  {
   "cell_type": "code",
   "execution_count": null,
   "metadata": {
    "collapsed": true
   },
   "outputs": [],
   "source": []
  }
 ],
 "metadata": {
  "kernelspec": {
   "display_name": "Python 3",
   "language": "python",
   "name": "python3"
  },
  "language_info": {
   "codemirror_mode": {
    "name": "ipython",
    "version": 3
   },
   "file_extension": ".py",
   "mimetype": "text/x-python",
   "name": "python",
   "nbconvert_exporter": "python",
   "pygments_lexer": "ipython3",
   "version": "3.5.4"
  }
 },
 "nbformat": 4,
 "nbformat_minor": 2
}
