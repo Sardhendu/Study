{
 "cells": [
  {
   "cell_type": "code",
   "execution_count": 3,
   "metadata": {},
   "outputs": [],
   "source": [
    "a = [3,1,3,4,7,2]"
   ]
  },
  {
   "cell_type": "code",
   "execution_count": 4,
   "metadata": {},
   "outputs": [
    {
     "data": {
      "text/plain": [
       "[(1, 1), (5, 2), (0, 3), (2, 3), (3, 4), (4, 7)]"
      ]
     },
     "execution_count": 4,
     "metadata": {},
     "output_type": "execute_result"
    }
   ],
   "source": [
    "sorted(enumerate(a), key=lambda x: x[1])"
   ]
  },
  {
   "cell_type": "code",
   "execution_count": 6,
   "metadata": {},
   "outputs": [
    {
     "data": {
      "text/plain": [
       "[1, 5, 0, 2, 3, 4]"
      ]
     },
     "execution_count": 6,
     "metadata": {},
     "output_type": "execute_result"
    }
   ],
   "source": [
    "sorted(range(len(a)), key=lambda x:a[x])"
   ]
  },
  {
   "cell_type": "code",
   "execution_count": 8,
   "metadata": {},
   "outputs": [
    {
     "data": {
      "text/plain": [
       "3"
      ]
     },
     "execution_count": 8,
     "metadata": {},
     "output_type": "execute_result"
    }
   ],
   "source": [
    "a.pop(0)"
   ]
  },
  {
   "cell_type": "code",
   "execution_count": 41,
   "metadata": {},
   "outputs": [
    {
     "name": "stdout",
     "output_type": "stream",
     "text": [
      "[1, 3, 4, 4, 4, 4, 5]\n"
     ]
    },
    {
     "data": {
      "text/plain": [
       "[3]"
      ]
     },
     "execution_count": 41,
     "metadata": {},
     "output_type": "execute_result"
    }
   ],
   "source": [
    "score_arr = [4,4,1,4,5,4,3]\n",
    "name_arr = ['s','a','e','r','t','y','o']\n",
    "\n",
    "ind_srt = sorted(range(len(score_arr)), key=lambda x:score_arr[x])\n",
    "score_arr = [score_[i] for i in ind_srt]\n",
    "print(score_arr)\n",
    "\n",
    "      \n",
    "idx_arr =[]\n",
    "break_num = 0\n",
    "if len(score_arr) > 1:\n",
    "    for i in range(0, len(score_arr)-1):\n",
    "        if score_arr[i+1] != score_arr[i]:\n",
    "            break_num += 1\n",
    "            \n",
    "        if break_num == 1:\n",
    "            idx_arr += [score_arr[i+1]]\n",
    "\n",
    "        if break_num == 2:\n",
    "            break\n",
    "idx_arr"
   ]
  },
  {
   "cell_type": "code",
   "execution_count": null,
   "metadata": {
    "collapsed": true
   },
   "outputs": [],
   "source": [
    "np."
   ]
  },
  {
   "cell_type": "code",
   "execution_count": null,
   "metadata": {
    "collapsed": true
   },
   "outputs": [],
   "source": [
    "score_arr = []\n",
    "person_arr = []\n",
    "for score, name in zip(score_, name_):\n",
    "    if len(set(score_arr)) <=2:\n",
    "            score_arr += [score]\n",
    "            person_arr += [name]\n",
    "    else:            \n",
    "        if score < min(score_arr):\n",
    "            score_arr[0] = score\n",
    "            person_arr[0] = name\n",
    "        elif score == min(score_arr) or score < min(score_arr):\n",
    "            score_arr += [score]\n",
    "            person_arr += [name]\n",
    "        else:\n",
    "            pass\n",
    "\n",
    "    print (score_arr)\n",
    "    print(person_arr)\n",
    "    ind_srt = sorted(range(len(score_arr)), key=lambda x:score_arr[x])\n",
    "    print (ind_srt)\n",
    "    score_arr = [score_arr[i] for i in ind_srt]\n",
    "    person_arr = [person_arr[i] for i in ind_srt]\n",
    "\n",
    "print(person_arr[:-1])"
   ]
  }
 ],
 "metadata": {
  "kernelspec": {
   "display_name": "Python 3",
   "language": "python",
   "name": "python3"
  },
  "language_info": {
   "codemirror_mode": {
    "name": "ipython",
    "version": 3
   },
   "file_extension": ".py",
   "mimetype": "text/x-python",
   "name": "python",
   "nbconvert_exporter": "python",
   "pygments_lexer": "ipython3",
   "version": "3.5.4"
  }
 },
 "nbformat": 4,
 "nbformat_minor": 2
}
