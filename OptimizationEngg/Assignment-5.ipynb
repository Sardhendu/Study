{
 "cells": [
  {
   "cell_type": "code",
   "execution_count": 1,
   "metadata": {
    "collapsed": true
   },
   "outputs": [],
   "source": [
    "import numpy as np"
   ]
  },
  {
   "cell_type": "code",
   "execution_count": 39,
   "metadata": {},
   "outputs": [
    {
     "name": "stdout",
     "output_type": "stream",
     "text": [
      "(3, 1)\n",
      "(3, 1)\n",
      "(3, 1)\n"
     ]
    }
   ],
   "source": [
    "A = np.array([[1,0,0],[0,2,0],[0,0,3]])\n",
    "b = np.array([[1,1,1]])\n",
    "x_curr = np.array([[0,0,0]]).T\n",
    "r_curr = np.array([[1,1,1]]).T\n",
    "p_prev = np.array([[0,0,0]]).T\n",
    "beta_curr = 0\n",
    "epsilon = 10e-12\n",
    "\n",
    "print (x_curr.shape)\n",
    "print (r_curr.shape)\n",
    "print (p_prev.shape)"
   ]
  },
  {
   "cell_type": "code",
   "execution_count": 2,
   "metadata": {},
   "outputs": [
    {
     "name": "stdout",
     "output_type": "stream",
     "text": [
      "(3, 1)\n",
      "(3, 1)\n",
      "(3, 1)\n"
     ]
    }
   ],
   "source": [
    "A = np.array([[2,1,0],[1,2,1],[0,1,2]])\n",
    "b = np.array([[1,1,1]])\n",
    "x_curr = np.array([[0,0,0]]).T\n",
    "r_curr = np.array([[1,1,1]]).T\n",
    "p_prev = np.array([[0,0,0]]).T\n",
    "beta_curr = 0\n",
    "epsilon = 10e-12\n",
    "\n",
    "print (x_curr.shape)\n",
    "print (r_curr.shape)\n",
    "print (p_prev.shape)"
   ]
  },
  {
   "cell_type": "code",
   "execution_count": 4,
   "metadata": {},
   "outputs": [
    {
     "name": "stdout",
     "output_type": "stream",
     "text": [
      "r_norm  1.73205080757\n",
      "p_curr  [[1]\n",
      " [1]\n",
      " [1]]\n",
      "alpha_curr  [[ 0.3]]\n",
      "x_new  [[ 0.3]\n",
      " [ 0.3]\n",
      " [ 0.3]]\n",
      "r_new  [[ 0.1]\n",
      " [-0.2]\n",
      " [ 0.1]]\n",
      "\n",
      "P-conjugate  [[0]]\n",
      "\n",
      "\n",
      "\n",
      "r_norm  0.244948974278\n",
      "beta_curr  [[ 0.02]]\n",
      "p_curr  [[ 0.12]\n",
      " [-0.18]\n",
      " [ 0.12]]\n",
      "alpha_curr  [[ 1.66666667]]\n",
      "x_new  [[ 0.2]\n",
      " [-0.3]\n",
      " [ 0.2]]\n",
      "r_new  [[ -3.33066907e-16]\n",
      " [ -4.99600361e-16]\n",
      " [ -3.33066907e-16]]\n",
      "\n",
      "P-conjugate  [[  7.77156117e-16]]\n",
      "\n",
      "r-orthogonal  [[  2.22044605e-16]]\n",
      "\n",
      "\n",
      "r_norm  6.86635019778e-16\n",
      "beta_curr  [[  7.85779417e-30]]\n",
      "p_curr  [[ -3.33066907e-16]\n",
      " [ -4.99600361e-16]\n",
      " [ -3.33066907e-16]]\n",
      "alpha_curr  [[ 0.29310345]]\n",
      "x_new  [[ -9.76230591e-17]\n",
      " [ -1.46434589e-16]\n",
      " [ -9.76230591e-17]]\n",
      "r_new  [[  8.61379933e-18]\n",
      " [ -1.14850658e-17]\n",
      " [  8.61379933e-18]]\n",
      "\n",
      "P-conjugate  [[  1.99840144e-17]]\n",
      "\n",
      "r-orthogonal  [[  3.33066907e-17]]\n",
      "\n",
      "\n",
      "r_norm  1.67422165064e-17\n",
      "beta_curr  [[ 0.00059453]]\n",
      "p_curr  [[  8.41578095e-18]\n",
      " [ -1.17820933e-17]\n",
      " [  8.41578095e-18]]\n",
      "alpha_curr  [[ 1.70588235]]\n",
      "x_new  [[  1.43563322e-17]\n",
      " [ -2.00988651e-17]\n",
      " [  1.43563322e-17]]\n",
      "r_new  [[  9.70668692e-32]\n",
      " [  1.38666956e-31]\n",
      " [  9.70668692e-32]]\n",
      "\n",
      "P-conjugate  [[  1.14950265e-46]]\n",
      "\n",
      "r-orthogonal  [[  3.28429328e-47]]\n",
      "\n",
      "\n",
      "r_norm  1.95121702731e-31\n",
      "beta_curr  [[  1.35826730e-28]]\n",
      "p_curr  [[  9.70668692e-32]\n",
      " [  1.38666956e-31]\n",
      " [  9.70668692e-32]]\n",
      "alpha_curr  [[ 0.29289941]]\n",
      "x_new  [[  2.84308286e-32]\n",
      " [  4.06154694e-32]\n",
      " [  2.84308286e-32]]\n",
      "r_new  [[ -4.10257266e-34]\n",
      " [  5.74360173e-34]\n",
      " [ -4.10257266e-34]]\n",
      "\n",
      "P-conjugate  [[  4.66796291e-50]]\n",
      "\n",
      "r-orthogonal  [[  7.96299555e-50]]\n",
      "\n",
      "\n",
      "r_norm  8.16401651821e-34\n",
      "beta_curr  [[  1.75063898e-05]]\n",
      "p_curr  [[ -4.08557976e-34]\n",
      " [  5.76787731e-34]\n",
      " [ -4.08557976e-34]]\n",
      "alpha_curr  [[ 1.70707071]]\n",
      "x_new  [[ -6.97437353e-34]\n",
      " [  9.84617439e-34]\n",
      " [ -6.97437353e-34]]\n",
      "r_new  [[ -6.09817996e-47]\n",
      " [ -8.62982270e-47]\n",
      " [ -6.09817996e-47]]\n",
      "\n",
      "P-conjugate  [[  1.55518504e-77]]\n",
      "\n",
      "r-orthogonal  [[  4.55422951e-78]]\n",
      "\n",
      "\n"
     ]
    }
   ],
   "source": [
    "i = 0\n",
    "while i <=5:\n",
    "    r_norm = np.linalg.norm(r_curr)\n",
    "    print ('r_norm ', r_norm)\n",
    "    \n",
    "    if i>0:\n",
    "        beta_curr = np.dot(r_curr.T, r_curr)/np.dot(r_prev.T, r_prev)\n",
    "        print ('beta_curr ', beta_curr)\n",
    "        \n",
    "    p_curr = r_curr + beta_curr*p_prev\n",
    "    print ('p_curr ', p_curr)\n",
    "    alpha_curr = np.dot(r_curr.T, r_curr) / np.dot(np.dot(p_curr.T, A), p_curr)\n",
    "    print( 'alpha_curr ', alpha_curr)\n",
    "    x_new = x_curr + alpha_curr*p_curr\n",
    "    print ('x_new ', x_new)\n",
    "    r_new = r_curr - alpha_curr*np.dot(A, p_curr)\n",
    "    print ('r_new ', r_new)\n",
    "    \n",
    "    print ('')\n",
    "    print ('P-conjugate ', np.dot(p_curr.T, np.dot(A,p_prev)))\n",
    "    print ('')\n",
    "    if i>0:\n",
    "        print ('r-orthogonal ', np.dot(r_curr.T, r_prev))\n",
    "    \n",
    "    print ('')\n",
    "    print ('')\n",
    "    r_prev = r_curr\n",
    "    r_curr = r_new\n",
    "    p_prev = p_curr\n",
    "     \n",
    "    i += 1"
   ]
  },
  {
   "cell_type": "code",
   "execution_count": null,
   "metadata": {
    "collapsed": true
   },
   "outputs": [],
   "source": []
  }
 ],
 "metadata": {
  "kernelspec": {
   "display_name": "Python 3",
   "language": "python",
   "name": "python3"
  },
  "language_info": {
   "codemirror_mode": {
    "name": "ipython",
    "version": 3
   },
   "file_extension": ".py",
   "mimetype": "text/x-python",
   "name": "python",
   "nbconvert_exporter": "python",
   "pygments_lexer": "ipython3",
   "version": "3.6.1"
  }
 },
 "nbformat": 4,
 "nbformat_minor": 2
}
