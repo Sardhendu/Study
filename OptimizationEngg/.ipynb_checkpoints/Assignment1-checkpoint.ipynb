{
 "cells": [
  {
   "cell_type": "code",
   "execution_count": null,
   "metadata": {
    "collapsed": true
   },
   "outputs": [],
   "source": [
    "from __future__ import division\n",
    "from __future__ import print_function\n",
    "from __future__ import absolute_import\n",
    "\n",
    "import numpy as np"
   ]
  },
  {
   "cell_type": "code",
   "execution_count": 16,
   "metadata": {
    "collapsed": true
   },
   "outputs": [],
   "source": [
    "values = np.linspace(-1,1,100000)\n",
    "values2 = np.linspace(-10,10, 100000)\n",
    "fx = []\n",
    "fx2 = []\n",
    "for x,y in zip(values, values2):\n",
    "    fxval  = pow(x, 4) - (6*pow(x,3)) + (3*pow(x,2)) + (10*x)\n",
    "    fxval2  = pow(y, 4) - (6*pow(y,3)) + (3*pow(y,2)) + (10*y)\n",
    "    \n",
    "    fx.append(fxval)\n",
    "    fx2.append(fxval2)\n",
    "#     print(x, fxval)\n",
    "# print (fx)"
   ]
  },
  {
   "cell_type": "code",
   "execution_count": 17,
   "metadata": {},
   "outputs": [
    {
     "data": {
      "text/plain": [
       "[<matplotlib.lines.Line2D at 0x111f92780>]"
      ]
     },
     "execution_count": 17,
     "metadata": {},
     "output_type": "execute_result"
    },
    {
     "data": {
      "image/png": "[encoded data removed]",
      "text/plain": [
       "<matplotlib.figure.Figure at 0x111a5cba8>"
      ]
     },
     "metadata": {},
     "output_type": "display_data"
    }
   ],
   "source": [
    "import matplotlib.pyplot as plt\n",
    "%matplotlib inline\n",
    "plt.plot(values, fx)"
   ]
  },
  {
   "cell_type": "code",
   "execution_count": 19,
   "metadata": {},
   "outputs": [
    {
     "data": {
      "text/plain": [
       "[<matplotlib.lines.Line2D at 0x1127472b0>]"
      ]
     },
     "execution_count": 19,
     "metadata": {},
     "output_type": "execute_result"
    },
    {
     "data": {
      "image/png": "[encoded data removed]",
      "text/plain": [
       "<matplotlib.figure.Figure at 0x1127e2358>"
      ]
     },
     "metadata": {},
     "output_type": "display_data"
    }
   ],
   "source": [
    "import matplotlib.pyplot as plt\n",
    "%matplotlib inline\n",
    "plt.plot(values2, fx2)"
   ]
  },
  {
   "cell_type": "code",
   "execution_count": 12,
   "metadata": {},
   "outputs": [
    {
     "data": {
      "text/plain": [
       "21515"
      ]
     },
     "execution_count": 12,
     "metadata": {},
     "output_type": "execute_result"
    }
   ],
   "source": [
    "np.argmin(fx)"
   ]
  },
  {
   "cell_type": "code",
   "execution_count": 15,
   "metadata": {},
   "outputs": [
    {
     "data": {
      "text/plain": [
       "-0.56969569695696953"
      ]
     },
     "execution_count": 15,
     "metadata": {},
     "output_type": "execute_result"
    }
   ],
   "source": [
    "values[np.argmin(fx)]"
   ]
  },
  {
   "cell_type": "code",
   "execution_count": 21,
   "metadata": {},
   "outputs": [
    {
     "name": "stdout",
     "output_type": "stream",
     "text": [
      "1 2\n",
      "1 4\n",
      "1 5\n",
      "2 2\n",
      "2 4\n",
      "2 5\n",
      "3 2\n",
      "3 4\n",
      "3 5\n"
     ]
    }
   ],
   "source": [
    "from itertools import product\n",
    "x1 = np.array([1,2,3])\n",
    "x2 = np.array([2,4,5])\n",
    "\n",
    "for i,j in product(x1,x2):\n",
    "    print (i,j)"
   ]
  },
  {
   "cell_type": "markdown",
   "metadata": {},
   "source": [
    "Question 2.4:"
   ]
  },
  {
   "cell_type": "code",
   "execution_count": 6,
   "metadata": {},
   "outputs": [
    {
     "name": "stdout",
     "output_type": "stream",
     "text": [
      "[[1.0, -1.0], [1.0, 1.0]]\n",
      "\n",
      "[[-1.0, -1.0], [-1.0, 1.0]]\n"
     ]
    }
   ],
   "source": [
    "from itertools import product\n",
    "import numpy as np\n",
    "qx1 = []\n",
    "qx2 = []\n",
    "only_qx1 = []\n",
    "only_qx2 = []\n",
    "\n",
    "X1 = np.linspace(-1,1,100)\n",
    "X2 = np.linspace(-1,1,100)\n",
    "\n",
    "# for x1 in X1:\n",
    "#     cn1 = pow((x1-1),2) + pow(x2,2)\n",
    "#     if cn1 == 1:\n",
    "#         only_qx1.append(x1)\n",
    "# only_qx1\n",
    "for x1, x2 in product(X1,X2):\n",
    "#     print (x1,x2)\n",
    "    \n",
    "    if x1==0 and x2==0:\n",
    "        print ('12312312312321312312312312')\n",
    "    cn1 = pow((x1-1),2) + pow(x2,2)\n",
    "    cn2 = pow((x1+1),2) + pow(x2,2)\n",
    "\n",
    "    if cn1 == 1 and cn2 == 1:\n",
    "        qx1.append(x1)\n",
    "        qx1.append(x2)\n",
    "    elif cn1 == 1:\n",
    "        only_qx1.append([x1,x2])\n",
    "    elif cn2 == 1:\n",
    "        only_qx2.append([x1,x2])\n",
    "\n",
    "print (only_qx1)\n",
    "print ('')\n",
    "print (only_qx2)"
   ]
  },
  {
   "cell_type": "code",
   "execution_count": 28,
   "metadata": {},
   "outputs": [
    {
     "name": "stdout",
     "output_type": "stream",
     "text": [
      "[]\n"
     ]
    }
   ],
   "source": [
    "print (qx1)"
   ]
  },
  {
   "cell_type": "markdown",
   "metadata": {
    "collapsed": true
   },
   "source": [
    "## Assignment 2:\n",
    "------------"
   ]
  },
  {
   "cell_type": "code",
   "execution_count": null,
   "metadata": {
    "collapsed": true
   },
   "outputs": [],
   "source": [
    "import numpy as np\n",
    "import \n",
    "\n",
    "X1 = np.linspace(-1,1,100)\n",
    "X2 = np.linspace(-1,1,100)\n",
    "\n",
    "s1 = []\n",
    "s2 = []\n",
    "for x1,x2 in product(X1,X2):\n",
    "    c1 = x1+x2\n",
    "    c2 = x1-x2\n",
    "    if c1 <= 1 and x1>=0:\n",
    "        s1.append([x1,x2])\n",
    "    \n",
    "    if c2 >=0 and x1<=1:\n",
    "        s2.apped([x1,x2])"
   ]
  }
 ],
 "metadata": {
  "kernelspec": {
   "display_name": "Python 3",
   "language": "python",
   "name": "python3"
  },
  "language_info": {
   "codemirror_mode": {
    "name": "ipython",
    "version": 3
   },
   "file_extension": ".py",
   "mimetype": "text/x-python",
   "name": "python",
   "nbconvert_exporter": "python",
   "pygments_lexer": "ipython3",
   "version": "3.6.1"
  }
 },
 "nbformat": 4,
 "nbformat_minor": 1
}
