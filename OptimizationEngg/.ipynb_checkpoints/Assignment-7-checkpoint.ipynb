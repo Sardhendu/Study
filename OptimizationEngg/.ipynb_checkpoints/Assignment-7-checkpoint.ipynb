{
 "cells": [
  {
   "cell_type": "code",
   "execution_count": 1,
   "metadata": {
    "collapsed": true
   },
   "outputs": [],
   "source": [
    "from __future__ import division\n",
    " \n",
    "import numpy as np"
   ]
  },
  {
   "cell_type": "code",
   "execution_count": 17,
   "metadata": {},
   "outputs": [
    {
     "name": "stdout",
     "output_type": "stream",
     "text": [
      "[[ 1  1  1]\n",
      " [ 1 -1  1]\n",
      " [ 0  1  1]]\n",
      "[[-1.]\n",
      " [-1.]\n",
      " [ 1.]\n",
      " [ 1.]]\n",
      "[[-1.]\n",
      " [-1.]\n",
      " [ 1.]\n",
      " [ 1.]]\n"
     ]
    },
    {
     "data": {
      "text/plain": [
       "array([[ 0.],\n",
       "       [ 0.],\n",
       "       [ 0.]])"
      ]
     },
     "execution_count": 17,
     "metadata": {},
     "output_type": "execute_result"
    }
   ],
   "source": [
    "A = np.array([[1,1,1,1], [1,-1,-1,1],[0,1,0,1]])\n",
    "\n",
    "B = A[:,[0,1,3]]\n",
    "N = A[:,[2]]\n",
    "\n",
    "print ('B: ', B)\n",
    "print (Z)\n",
    "\n",
    "B_inv = np.linalg.inv(B)\n",
    "\n",
    "Z = -1 * np.dot(B_inv, N)\n",
    "\n",
    "Z = Z.flatten()\n",
    "Z = np.append(Z, 1)\n",
    "Z = Z.reshape(4,1)\n",
    "\n",
    "print ('Z: ', Z)\n",
    "np.dot(A, Z)"
   ]
  },
  {
   "cell_type": "code",
   "execution_count": null,
   "metadata": {
    "collapsed": true
   },
   "outputs": [],
   "source": []
  }
 ],
 "metadata": {
  "kernelspec": {
   "display_name": "Python 3",
   "language": "python",
   "name": "python3"
  },
  "language_info": {
   "codemirror_mode": {
    "name": "ipython",
    "version": 3
   },
   "file_extension": ".py",
   "mimetype": "text/x-python",
   "name": "python",
   "nbconvert_exporter": "python",
   "pygments_lexer": "ipython3",
   "version": "3.6.1"
  }
 },
 "nbformat": 4,
 "nbformat_minor": 2
}
