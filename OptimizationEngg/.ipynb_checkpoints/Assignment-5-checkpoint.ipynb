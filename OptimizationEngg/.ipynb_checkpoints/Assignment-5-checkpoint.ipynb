{
 "cells": [
  {
   "cell_type": "code",
   "execution_count": 1,
   "metadata": {
    "collapsed": true
   },
   "outputs": [],
   "source": [
    "import numpy as np"
   ]
  },
  {
   "cell_type": "code",
   "execution_count": 39,
   "metadata": {},
   "outputs": [
    {
     "name": "stdout",
     "output_type": "stream",
     "text": [
      "(3, 1)\n",
      "(3, 1)\n",
      "(3, 1)\n"
     ]
    }
   ],
   "source": [
    "A = np.array([[1,0,0],[0,2,0],[0,0,3]])\n",
    "b = np.array([[1,1,1]])\n",
    "x_curr = np.array([[0,0,0]]).T\n",
    "r_curr = np.array([[1,1,1]]).T\n",
    "p_prev = np.array([[0,0,0]]).T\n",
    "beta_curr = 0\n",
    "epsilon = 10e-12\n",
    "\n",
    "print (x_curr.shape)\n",
    "print (r_curr.shape)\n",
    "print (p_prev.shape)"
   ]
  },
  {
   "cell_type": "code",
   "execution_count": 5,
   "metadata": {},
   "outputs": [
    {
     "name": "stdout",
     "output_type": "stream",
     "text": [
      "(3, 1)\n",
      "(3, 1)\n",
      "(3, 1)\n"
     ]
    }
   ],
   "source": [
    "A = np.array([[2,1,0],[1,2,1],[0,1,2]])\n",
    "b = np.array([[1,1,1]])\n",
    "x_curr = np.array([[0,0,0]]).T\n",
    "r_curr = np.array([[1,1,1]]).T\n",
    "p_prev = np.array([[0,0,0]]).T\n",
    "beta_curr = 0\n",
    "epsilon = 10e-12\n",
    "\n",
    "print (x_curr.shape)\n",
    "print (r_curr.shape)\n",
    "print (p_prev.shape)"
   ]
  },
  {
   "cell_type": "code",
   "execution_count": 7,
   "metadata": {
    "scrolled": false
   },
   "outputs": [
    {
     "name": "stdout",
     "output_type": "stream",
     "text": [
      "r_norm  1.22003867756e-46\n",
      "p_curr  [[ -7.15237525e-39]\n",
      " [  1.00974708e-38]\n",
      " [ -7.15237525e-39]]\n",
      "alpha_curr  [[  1.24393523e-16]]\n",
      "x_new  [[ -8.89709156e-55]\n",
      " [  1.25605996e-54]\n",
      " [ -8.89709156e-55]]\n",
      "r_new  [[ -6.09817991e-47]\n",
      " [ -8.62982277e-47]\n",
      " [ -6.09817991e-47]]\n",
      "\n",
      "P-conjugate  [[  6.83522531e-72]]\n",
      "\n",
      "\n",
      "\n",
      "r_norm  1.22003867751e-46\n",
      "aaaaaaaaa  [[ -6.09817991e-47]\n",
      " [ -8.62982277e-47]\n",
      " [ -6.09817991e-47]]\n",
      "bbbbbbbbb  [[ -6.09817996e-47]\n",
      " [ -8.62982270e-47]\n",
      " [ -6.09817996e-47]]\n",
      "beta_curr  [[ 1.]]\n",
      "p_curr  [[ -7.15237531e-39]\n",
      " [  1.00974707e-38]\n",
      " [ -7.15237531e-39]]\n",
      "alpha_curr  [[  1.24393523e-16]]\n",
      "x_new  [[ -8.89709164e-55]\n",
      " [  1.25605995e-54]\n",
      " [ -8.89709164e-55]]\n",
      "r_new  [[ -6.09817986e-47]\n",
      " [ -8.62982284e-47]\n",
      " [ -6.09817986e-47]]\n",
      "\n",
      "P-conjugate  [[  1.19660119e-76]]\n",
      "\n",
      "r-orthogonal  [[  1.48849437e-92]]\n",
      "\n",
      "\n",
      "r_norm  1.22003867746e-46\n",
      "aaaaaaaaa  [[ -6.09817986e-47]\n",
      " [ -8.62982284e-47]\n",
      " [ -6.09817986e-47]]\n",
      "bbbbbbbbb  [[ -6.09817991e-47]\n",
      " [ -8.62982277e-47]\n",
      " [ -6.09817991e-47]]\n",
      "beta_curr  [[ 1.]]\n",
      "p_curr  [[ -7.15237538e-39]\n",
      " [  1.00974706e-38]\n",
      " [ -7.15237538e-39]]\n",
      "alpha_curr  [[  1.24393523e-16]]\n",
      "x_new  [[ -8.89709171e-55]\n",
      " [  1.25605994e-54]\n",
      " [ -8.89709171e-55]]\n",
      "r_new  [[ -6.09817981e-47]\n",
      " [ -8.62982292e-47]\n",
      " [ -6.09817981e-47]]\n",
      "\n",
      "P-conjugate  [[  1.19660119e-76]]\n",
      "\n",
      "r-orthogonal  [[  1.48849437e-92]]\n",
      "\n",
      "\n",
      "r_norm  1.22003867741e-46\n",
      "aaaaaaaaa  [[ -6.09817981e-47]\n",
      " [ -8.62982292e-47]\n",
      " [ -6.09817981e-47]]\n",
      "bbbbbbbbb  [[ -6.09817986e-47]\n",
      " [ -8.62982284e-47]\n",
      " [ -6.09817986e-47]]\n",
      "beta_curr  [[ 1.]]\n",
      "p_curr  [[ -7.15237544e-39]\n",
      " [  1.00974705e-38]\n",
      " [ -7.15237544e-39]]\n",
      "alpha_curr  [[  1.24393523e-16]]\n",
      "x_new  [[ -8.89709179e-55]\n",
      " [  1.25605993e-54]\n",
      " [ -8.89709179e-55]]\n",
      "r_new  [[ -6.09817975e-47]\n",
      " [ -8.62982299e-47]\n",
      " [ -6.09817975e-47]]\n",
      "\n",
      "P-conjugate  [[  1.19660119e-76]]\n",
      "\n",
      "r-orthogonal  [[  1.48849437e-92]]\n",
      "\n",
      "\n",
      "r_norm  1.22003867737e-46\n",
      "aaaaaaaaa  [[ -6.09817975e-47]\n",
      " [ -8.62982299e-47]\n",
      " [ -6.09817975e-47]]\n",
      "bbbbbbbbb  [[ -6.09817981e-47]\n",
      " [ -8.62982292e-47]\n",
      " [ -6.09817981e-47]]\n",
      "beta_curr  [[ 1.]]\n",
      "p_curr  [[ -7.15237550e-39]\n",
      " [  1.00974704e-38]\n",
      " [ -7.15237550e-39]]\n",
      "alpha_curr  [[  1.24393523e-16]]\n",
      "x_new  [[ -8.89709186e-55]\n",
      " [  1.25605992e-54]\n",
      " [ -8.89709186e-55]]\n",
      "r_new  [[ -6.09817970e-47]\n",
      " [ -8.62982306e-47]\n",
      " [ -6.09817970e-47]]\n",
      "\n",
      "P-conjugate  [[  1.19660119e-76]]\n",
      "\n",
      "r-orthogonal  [[  1.48849437e-92]]\n",
      "\n",
      "\n",
      "r_norm  1.22003867732e-46\n",
      "aaaaaaaaa  [[ -6.09817970e-47]\n",
      " [ -8.62982306e-47]\n",
      " [ -6.09817970e-47]]\n",
      "bbbbbbbbb  [[ -6.09817975e-47]\n",
      " [ -8.62982299e-47]\n",
      " [ -6.09817975e-47]]\n",
      "beta_curr  [[ 1.]]\n",
      "p_curr  [[ -7.15237556e-39]\n",
      " [  1.00974703e-38]\n",
      " [ -7.15237556e-39]]\n",
      "alpha_curr  [[  1.24393523e-16]]\n",
      "x_new  [[ -8.89709194e-55]\n",
      " [  1.25605991e-54]\n",
      " [ -8.89709194e-55]]\n",
      "r_new  [[ -6.09817965e-47]\n",
      " [ -8.62982314e-47]\n",
      " [ -6.09817965e-47]]\n",
      "\n",
      "P-conjugate  [[  1.19660119e-76]]\n",
      "\n",
      "r-orthogonal  [[  1.48849437e-92]]\n",
      "\n",
      "\n"
     ]
    }
   ],
   "source": [
    "i = 0\n",
    "while i <=5:\n",
    "    r_norm = np.linalg.norm(r_curr)\n",
    "    print ('r_norm ', r_norm)\n",
    "    \n",
    "    if i>0:\n",
    "        beta_curr = np.dot(r_curr.T, r_curr)/np.dot(r_prev.T, r_prev)\n",
    "#         print ('aaaaaaaaa ', r_curr)\n",
    "#         print ('bbbbbbbbb ', r_prev)\n",
    "        print ('beta_curr ', beta_curr)\n",
    "        \n",
    "    p_curr = r_curr + beta_curr*p_prev\n",
    "    print ('p_curr ', p_curr)\n",
    "    alpha_curr = np.dot(r_curr.T, r_curr) / np.dot(np.dot(p_curr.T, A), p_curr)\n",
    "    print( 'alpha_curr ', alpha_curr)\n",
    "    x_new = x_curr + alpha_curr*p_curr\n",
    "    print ('x_new ', x_new)\n",
    "    r_new = r_curr - alpha_curr*np.dot(A, p_curr)\n",
    "    print ('r_new ', r_new)\n",
    "    \n",
    "    print ('')\n",
    "    print ('P-conjugate ', np.dot(p_curr.T, np.dot(A,p_prev)))\n",
    "    print ('')\n",
    "    if i>0:\n",
    "        print ('r-orthogonal ', np.dot(r_curr.T, r_prev))\n",
    "    \n",
    "    print ('')\n",
    "    print ('')\n",
    "    r_prev = r_curr\n",
    "    r_curr = r_new\n",
    "    p_prev = p_curr\n",
    "     \n",
    "    i += 1"
   ]
  },
  {
   "cell_type": "code",
   "execution_count": 2,
   "metadata": {},
   "outputs": [
    {
     "data": {
      "text/plain": [
       "6.5574385243020004"
      ]
     },
     "execution_count": 2,
     "metadata": {},
     "output_type": "execute_result"
    }
   ],
   "source": [
    "import numpy as np\n",
    "\n",
    "a = np.array([[1,2,3], [2,3,4]])\n",
    "\n",
    "np.linalg.norm(a)"
   ]
  },
  {
   "cell_type": "code",
   "execution_count": null,
   "metadata": {
    "collapsed": true
   },
   "outputs": [],
   "source": []
  }
 ],
 "metadata": {
  "kernelspec": {
   "display_name": "Python 3",
   "language": "python",
   "name": "python3"
  },
  "language_info": {
   "codemirror_mode": {
    "name": "ipython",
    "version": 3
   },
   "file_extension": ".py",
   "mimetype": "text/x-python",
   "name": "python",
   "nbconvert_exporter": "python",
   "pygments_lexer": "ipython3",
   "version": "3.6.1"
  }
 },
 "nbformat": 4,
 "nbformat_minor": 2
}
