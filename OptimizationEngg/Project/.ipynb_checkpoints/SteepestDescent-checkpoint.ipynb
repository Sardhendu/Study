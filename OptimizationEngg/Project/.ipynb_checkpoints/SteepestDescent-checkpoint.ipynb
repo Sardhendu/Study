{
 "cells": [
  {
   "cell_type": "code",
   "execution_count": 16,
   "metadata": {
    "collapsed": true
   },
   "outputs": [],
   "source": [
    "from __future__ import division\n",
    "from __future__ import print_function\n",
    "from __future__ import absolute_import\n",
    "\n",
    "from sympy.solvers import solve\n",
    "from sympy import Symbol\n",
    "import numpy as np\n",
    "import cmath\n",
    "from scipy.optimize import linesearch\n",
    "import scipy as sp\n",
    "import scipy.optimize\n",
    "\n",
    "import matplotlib.pyplot as plt\n",
    "import matplotlib\n",
    "%matplotlib inline"
   ]
  },
  {
   "cell_type": "markdown",
   "metadata": {},
   "source": [
    "# STEEPEST DESCENT\n",
    "-----------"
   ]
  },
  {
   "cell_type": "code",
   "execution_count": 17,
   "metadata": {
    "collapsed": true
   },
   "outputs": [],
   "source": [
    "# x1 = Symbol('x1')\n",
    "# x2 = Symbol('x2')\n",
    "# f = 100*pow(x2-pow(x1,2),2) + pow(1-x1,2)\n",
    "# print(f)\n",
    "# deriv_1 = np.array([f.diff(x1), f.diff(x2)])\n",
    "# print(deriv_1[0])\n",
    "# print(deriv_1[1])\n",
    "\n",
    "# x1 = Symbol('x1')\n",
    "# x2 = Symbol('x2')\n",
    "# f = pow((x1+x2),4) + x2**2\n",
    "# print(f)\n",
    "# deriv_1 = np.array([f.diff(x1), f.diff(x2)])\n",
    "# print(deriv_1[0])\n",
    "# print(deriv_1[1])\n",
    "\n",
    "# x1 = Symbol('x1')\n",
    "# x2 = Symbol('x2')\n",
    "# f = (x1-1)**2 + (x2-1)**2 + 100*(x1**2 + x2**2 -0.25)**2\n",
    "# print(f)\n",
    "# deriv_1 = np.array([f.diff(x1), f.diff(x2)])\n",
    "# print(deriv_1[0])\n",
    "# print(deriv_1[1])"
   ]
  },
  {
   "cell_type": "code",
   "execution_count": 18,
   "metadata": {
    "collapsed": true
   },
   "outputs": [],
   "source": [
    "\n",
    "epsilon = 10e-5\n",
    "\n",
    "# class SetFunction()\n",
    "#     def __init__(self):\n",
    "#         self.fnc = \n",
    "def function3(x):\n",
    "    x1 = x[0]\n",
    "    x2 = x[1]\n",
    "    return (-x1 + 1)**2 + 100*(-x1**2 + x2)**2\n",
    "\n",
    "def objective3(x):\n",
    "    x1 = x[0]\n",
    "    x2 = x[1]\n",
    "    a = -400*x1*(-x1**2 + x2) + 2*x1 - 2\n",
    "    b = -200*x1**2 + 200*x2\n",
    "    return [a,b]\n",
    "\n",
    "######################################################\n",
    "\n",
    "def function4(x):\n",
    "    x1 = x[0]\n",
    "    x2 = x[1]\n",
    "    return x2**2 + (x1 + x2)**4\n",
    "\n",
    "def objective4(x):\n",
    "    x1 = x[0]\n",
    "    x2 = x[1]\n",
    "    a = 4*(x1 + x2)**3\n",
    "    b = 2*x2 + 4*(x1 + x2)**3\n",
    "    return [a,b]\n",
    "\n",
    "######################################################\n",
    "\n",
    "def function5a(x):\n",
    "    x1 = x[0]\n",
    "    x2 = x[1]\n",
    "    return (x1-1)**2 + (x2-1)**2 + (x1**2 + x2**2 -0.25)**2\n",
    "\n",
    "def objective5a(x):\n",
    "    x1 = x[0]\n",
    "    x2 = x[1]\n",
    "    a = 4*x1*(x1**2 + x2**2 - 0.25) + 2*x1 - 2\n",
    "    b = 4*x2*(x1**2 + x2**2 - 0.25) + 2*x2 - 2\n",
    "    return [a,b]\n",
    "\n",
    "######################################################\n",
    "\n",
    "def function5b(x):\n",
    "    x1 = x[0]\n",
    "    x2 = x[1]\n",
    "    return (x1 - 1)**2 + (x2 - 1)**2 + 10*(x1**2 + x2**2 - 0.25)**2\n",
    "\n",
    "def objective5b(x):\n",
    "    x1 = x[0]\n",
    "    x2 = x[1]\n",
    "    a = 40*x1*(x1**2 + x2**2 - 0.25) + 2*x1 - 2\n",
    "    b = 40*x2*(x1**2 + x2**2 - 0.25) + 2*x2 - 2\n",
    "    return [a,b]\n",
    "\n",
    "######################################################\n",
    "\n",
    "def function5c(x):\n",
    "    x1 = x[0]\n",
    "    x2 = x[1]\n",
    "    return (x1 - 1)**2 + (x2 - 1)**2 + 100*(x1**2 + x2**2 - 0.25)**2\n",
    "\n",
    "def objective5c(x):\n",
    "    x1 = x[0]\n",
    "    x2 = x[1]\n",
    "    a = 400*x1*(x1**2 + x2**2 - 0.25) + 2*x1 - 2\n",
    "    b = 400*x2*(x1**2 + x2**2 - 0.25) + 2*x2 - 2\n",
    "    return [a,b]\n",
    "\n",
    "######################################################\n",
    "alpha_arr = []\n",
    "def steepestDescentUpdate(xk, deriv1_xk, Q=[], function=None, objective=None):\n",
    "    \"\"\"\n",
    "        xk:        Current value \n",
    "        deriv1_xk: First order derivative of function f(xk)\n",
    "        Q :        Q formed when we convert the function in standard form\n",
    "                   Also equivallent to Hessian matrix, Computation is needed only once\n",
    "                   No update is required,\n",
    "                   Note: The hessian in Newton is computationally expensive, since we do the matrix inversion\n",
    "        \n",
    "        pk (Search direction) = - deriv1_xk \n",
    "    \"\"\"\n",
    "    pk = -1 * deriv1_xk # We just take a step in the negative direction of the gradient\n",
    "    if len(Q) >=1 :\n",
    "        alpha = -1 * np.dot(np.transpose(pk), deriv1_xk) / np.dot(np.dot(np.transpose(pk), Q), pk)\n",
    "    else: # Implementing the line search algorithm\n",
    "        a = linesearch.line_search_wolfe2(function,objective,xk,pk)\n",
    "        if not a[0]:\n",
    "            alpha = float(alpha_arr[len(alpha_arr)-1]/2)\n",
    "        else:\n",
    "            alpha_arr.append(a[0])\n",
    "            alpha = alpha_arr[len(alpha_arr)-1]\n",
    "\n",
    "    xk1 = xk - alpha*deriv1_xk\n",
    "    return xk1"
   ]
  },
  {
   "cell_type": "code",
   "execution_count": null,
   "metadata": {
    "collapsed": true
   },
   "outputs": [],
   "source": []
  },
  {
   "cell_type": "code",
   "execution_count": 19,
   "metadata": {
    "collapsed": true
   },
   "outputs": [],
   "source": [
    "def iterateNonQuadratic(f, xk, deriv_1, function, objective, numFeature, numSteps, should_print):\n",
    "    fx_arr = []\n",
    "    gradientNorm_arr = []\n",
    "    alpha_arr = []\n",
    "    for step in range(numSteps):\n",
    "#         print('stepstepstep ', step)\n",
    "        # Solve for gradient\n",
    "        fx = f.evalf(subs={x1:xk[0], x2:xk[1]})\n",
    "        fx_arr.append(fx)\n",
    "        gradient_xk = np.array([eq.evalf(subs={x1:xk[0], x2:xk[1]}) for eq in deriv_1], dtype='float32')\n",
    "        gradientNorm = np.linalg.norm(gradient_xk)\n",
    "        gradientNorm_arr.append(np.linalg.norm(gradientNorm))\n",
    "        \n",
    "        if should_print:\n",
    "            if (step+1)%should_print == 0:\n",
    "                print('')\n",
    "                print ('##########################################################')\n",
    "                print ('Function F at x: f(x) ', fx)\n",
    "                print ('Gradient at xk%s is: '%str(step), gradient_xk)\n",
    "                print (\"####### Gradient Norm: \", gradientNorm)\n",
    "                print('The updated Value xk%s is \\n'%(step+1), xk)\n",
    "                \n",
    "                \n",
    "        if np.sum((gradientNorm/(1+np.abs(gradient_xk))) <= epsilon) == len(gradient_xk) or (step == 1000):\n",
    "            print('The check (gradient norm equation reach a val < epsilon, HENCE BREAKING OUT OF LOOP)')\n",
    "            break\n",
    "#         print()\n",
    "\n",
    "#         pk = -1 * gradient_xk\n",
    "        xk1 = steepestDescentUpdate(xk=xk, deriv1_xk=gradient_xk, \n",
    "                                    Q=[], function=function, objective=objective)\n",
    "        \n",
    "#         print('aaaaaa ', a[0], a)\n",
    "#\n",
    "        xk = xk1\n",
    "        \n",
    "    return fx_arr, gradientNorm_arr\n",
    "\n",
    "\n",
    "def iterateQuadratic(f, xk, deriv_1, Q, numFeatures, numSteps, should_print):\n",
    "    fx_arr = []\n",
    "    gradientNorm_arr = []\n",
    "    for step in range(numSteps): \n",
    "        if numFeatures == 3:\n",
    "            fx = f.evalf(subs={x1:xk[0], x2:xk[1], x3:xk[2]})\n",
    "            gradient_xk = np.array([eq.evalf(subs={x1:xk[0], x2:xk[1], x3:xk[2]}) \n",
    "                                 for eq in deriv_1], dtype='float32')\n",
    "            Q_lv = np.array([cell.evalf(subs={x1:xk[0], x2:xk[1], x3:xk[2]}) \n",
    "                          for rows in Q \n",
    "                          for cell in rows], dtype='float32').reshape(3,3)\n",
    "            \n",
    "        elif numFeatures == 2:\n",
    "            fx = f.evalf(subs={x1:xk[0], x2:xk[1]})\n",
    "            gradient_xk = np.array([eq.evalf(subs={x1:xk[0], x2:xk[1]}) for eq in deriv_1], dtype='float32')\n",
    "            Q_lv = np.array([cell.evalf(subs={x1:xk[0], x2:xk[1]}) \n",
    "                          for rows in Q\n",
    "                          for cell in rows], dtype='float32').reshape(2,2)\n",
    "        else:\n",
    "            raise ValueError('Num Features doesnt match the hadled condition')\n",
    "            \n",
    "        fx_arr.append(fx)\n",
    "        gradientNorm = np.linalg.norm(gradient_xk)\n",
    "        gradientNorm_arr.append(gradientNorm)\n",
    "        \n",
    "        if should_print:\n",
    "            if (step+1)%should_print == 0:\n",
    "                print('')\n",
    "                print ('##########################################################')\n",
    "                print ('Function F at x: f(x) ', fx)\n",
    "                print ('Gradient at xk%s is: '%str(step), gradient_xk)\n",
    "                print (\"####### Gradient Norm: \", gradientNorm)\n",
    "                print('The updated Value xk%s is \\n'%(step+1), xk)\n",
    "                \n",
    "#         print ((gradientNorm/(1+np.abs(gradient_xk))))\n",
    "#         print ((gradientNorm/(1+np.abs(gradient_xk))) <= epsilon)\n",
    "#         print (np.sum((gradientNorm/(1+np.abs(gradient_xk))) <= epsilon))\n",
    "        if np.sum((gradientNorm/(1+np.abs(gradient_xk))) <= epsilon) == len(gradient_xk) or (step == 1000):\n",
    "            print('The check (gradient norm equation reach a val < epsilon, HENCE BREAKING OUT OF LOOP)')\n",
    "            break\n",
    "            \n",
    "#         print ('21121212222232')\n",
    "        \n",
    "        xk1 = steepestDescentUpdate(xk=xk, deriv1_xk=gradient_xk, Q=Q_lv)\n",
    "        xk = xk1\n",
    "        \n",
    "    return fx_arr, gradientNorm_arr\n",
    "\n",
    "        "
   ]
  },
  {
   "cell_type": "markdown",
   "metadata": {},
   "source": [
    "## PLOT"
   ]
  },
  {
   "cell_type": "code",
   "execution_count": 20,
   "metadata": {
    "collapsed": true
   },
   "outputs": [],
   "source": [
    "# def plot(x):\n",
    "#     plt.plot(np.arange(len(x)), x, edgecolor='k')\n",
    "#     plt.xlabel(\"Number of Iteration\")\n",
    "#     plt.ylabel('Loss Function')\n",
    "#     plt.grid(True)\n",
    "    \n",
    "def plot(x_arr, rows=1, columns=2, figsize=(12, 6)):\n",
    "    fig1, axs = plt.subplots(rows,columns, figsize=figsize, facecolor='w', edgecolor='k')\n",
    "    if columns>1:\n",
    "        axs = axs.ravel()\n",
    "    for no, arrVal in enumerate(x_arr):\n",
    "        axs[no].plot(np.arange(len(arrVal)), arrVal)\n",
    "    "
   ]
  },
  {
   "cell_type": "markdown",
   "metadata": {},
   "source": [
    "## Test subject for example 12.1 in book page: 404"
   ]
  },
  {
   "cell_type": "code",
   "execution_count": 21,
   "metadata": {
    "collapsed": true
   },
   "outputs": [],
   "source": [
    "# x1 = Symbol('x1')\n",
    "# x2 = Symbol('x2')\n",
    "# x3 = Symbol('x3')\n",
    "\n",
    "# f = 0.5*pow(x1,2) + 0.5*5*pow(x2,2) + 0.5*25*pow(x3,2) + x1 +x2 +x3\n",
    "# deriv_1 = np.array([f.diff(x1), f.diff(x2), f.diff(x3)])\n",
    "# print ('First order Derivative: ', deriv_1)\n",
    "# Q = np.array([d_eq.diff(xn) for d_eq in deriv_1 for xn in [x1,x2,x3]]).reshape(3,3)  # Q is obtained by converting the funciton into quadratic form, which is equivallent to 2nd order derivative in all our case\n",
    "# print ('Second order Derivative: \\n', Q)\n",
    "\n",
    "# # Initialize Xk\n",
    "# xk = np.array([0,0,0])\n",
    "\n",
    "# iterate(xk, deriv_1, Q, numFeatures=3, numSteps=5, should_print=1)"
   ]
  },
  {
   "cell_type": "markdown",
   "metadata": {},
   "source": [
    "#### Solution d(1)"
   ]
  },
  {
   "cell_type": "code",
   "execution_count": 22,
   "metadata": {
    "scrolled": false
   },
   "outputs": [
    {
     "name": "stdout",
     "output_type": "stream",
     "text": [
      "First order Derivative:  [2*x1 2*x2 2*x3]\n",
      "Second order Derivative: \n",
      " [[2 0 0]\n",
      " [0 2 0]\n",
      " [0 0 2]]\n",
      "\n",
      "##########################################################\n",
      "Function F at x: f(x)  3.00000000000000\n",
      "Gradient at xk0 is:  [ 2.  2.  2.]\n",
      "####### Gradient Norm:  3.4641\n",
      "The updated Value xk1 is \n",
      " [1 1 1]\n",
      "\n",
      "##########################################################\n",
      "Function F at x: f(x)  0.e-125\n",
      "Gradient at xk1 is:  [ 0.  0.  0.]\n",
      "####### Gradient Norm:  0.0\n",
      "The updated Value xk2 is \n",
      " [ 0.  0.  0.]\n",
      "The check (gradient norm equation reach a val < epsilon, HENCE BREAKING OUT OF LOOP)\n"
     ]
    },
    {
     "data": {
      "image/png": "[encoded data removed]",
      "text/plain": [
       "<matplotlib.figure.Figure at 0x117f2cc88>"
      ]
     },
     "metadata": {},
     "output_type": "display_data"
    }
   ],
   "source": [
    "x1 = Symbol('x1')\n",
    "x2 = Symbol('x2')\n",
    "x3 = Symbol('x3')\n",
    "\n",
    "f = pow(x1,2) + pow(x2,2) + pow(x3,2)\n",
    "deriv_1 = np.array([f.diff(x1), f.diff(x2), f.diff(x3)])\n",
    "print ('First order Derivative: ', deriv_1)\n",
    "Q = np.array([d_eq.diff(xn) for d_eq in deriv_1 for xn in [x1,x2,x3]]).reshape(3,3)  # Q is obtained by converting the funciton into quadratic form, which is equivallent to 2nd order derivative in all our case\n",
    "print ('Second order Derivative: \\n', Q)\n",
    "\n",
    "# Initialize Xk\n",
    "xk = np.array([1,1,1])\n",
    "\n",
    "fx_array, gradientNorm_arr = iterateQuadratic(f, xk, deriv_1, Q, numFeatures=3, numSteps=10, should_print=1)\n",
    "\n",
    "plot([fx_array, gradientNorm_arr])\n"
   ]
  },
  {
   "cell_type": "markdown",
   "metadata": {},
   "source": [
    "# Solution d(2)"
   ]
  },
  {
   "cell_type": "code",
   "execution_count": 23,
   "metadata": {},
   "outputs": [
    {
     "name": "stdout",
     "output_type": "stream",
     "text": [
      "First order Derivative:  [2*x1 - 2*x2 -2*x1 + 4*x2 - 2]\n",
      "Second order Derivative: \n",
      " [[2 -2]\n",
      " [-2 4]]\n",
      "\n",
      "##########################################################\n",
      "Function F at x: f(x)  -0.999998092651367\n",
      "Gradient at xk19 is:  [-0.00195312  0.        ]\n",
      "####### Gradient Norm:  0.00195312\n",
      "The updated Value xk20 is \n",
      " [ 0.99804688  0.99902344]\n",
      "The check (gradient norm equation reach a val < epsilon, HENCE BREAKING OUT OF LOOP)\n"
     ]
    },
    {
     "data": {
      "image/png": "[encoded data removed]",
      "text/plain": [
       "<matplotlib.figure.Figure at 0x117a0d048>"
      ]
     },
     "metadata": {},
     "output_type": "display_data"
    }
   ],
   "source": [
    "x1 = Symbol('x1')\n",
    "x2 = Symbol('x2')\n",
    "f = pow(x1,2) + 2*pow(x2,2) - 2*x1*x2 - 2*x2\n",
    "deriv_1 = np.array([f.diff(x1), f.diff(x2)])\n",
    "print ('First order Derivative: ', deriv_1)\n",
    "Q = np.array([d_eq.diff(xn) for d_eq in deriv_1 for xn in [x1,x2]]).reshape(2,2)  # Q is obtained by converting the funciton into quadratic form, which is equivallent to 2nd order derivative in all our case\n",
    "print ('Second order Derivative: \\n', Q)\n",
    "\n",
    "# Initialize Xk\n",
    "xk = np.array([0,0], dtype='float32')\n",
    "\n",
    "fx_array, gradientNorm_arr = iterateQuadratic(f, xk, deriv_1, Q, numFeatures=2, numSteps=100, should_print=20)\n",
    "\n",
    "plot([fx_array,gradientNorm_arr])"
   ]
  },
  {
   "cell_type": "markdown",
   "metadata": {},
   "source": [
    "# Solution d(3)"
   ]
  },
  {
   "cell_type": "code",
   "execution_count": 24,
   "metadata": {
    "scrolled": false
   },
   "outputs": [
    {
     "name": "stdout",
     "output_type": "stream",
     "text": [
      "-400*x1*(-x1**2 + x2) + 2*x1 - 2\n",
      "-200*x1**2 + 200*x2\n",
      "\n",
      "##########################################################\n",
      "Function F at x: f(x)  0.0150698487956580\n",
      "Gradient at xk199 is:  [ 0.04843838 -0.16716735]\n",
      "####### Gradient Norm:  0.174044\n",
      "The updated Value xk200 is \n",
      " [ 0.87752557  0.76921529]\n",
      "\n",
      "##########################################################\n",
      "Function F at x: f(x)  0.00883585478540781\n",
      "Gradient at xk399 is:  [-0.00465412 -0.10101829]\n",
      "####### Gradient Norm:  0.101125\n",
      "The updated Value xk400 is \n",
      " [ 0.90613657  0.8205784 ]\n",
      "\n",
      "##########################################################\n",
      "Function F at x: f(x)  0.000696189349073831\n",
      "Gradient at xk599 is:  [-0.01642014 -0.01865064]\n",
      "####### Gradient Norm:  0.0248489\n",
      "The updated Value xk600 is \n",
      " [ 0.97363108  0.94786423]\n",
      "\n",
      "##########################################################\n",
      "Function F at x: f(x)  0.000255809840570128\n",
      "Gradient at xk799 is:  [-0.01136822 -0.01046872]\n",
      "####### Gradient Norm:  0.0154541\n",
      "The updated Value xk800 is \n",
      " [ 0.98401451  0.96823221]\n",
      "\n",
      "##########################################################\n",
      "Function F at x: f(x)  0.000133922759985553\n",
      "Gradient at xk999 is:  [-0.00902464 -0.00713723]\n",
      "####### Gradient Norm:  0.0115058\n",
      "The updated Value xk1000 is \n",
      " [ 0.988433    0.97696412]\n"
     ]
    },
    {
     "data": {
      "image/png": "[encoded data removed]",
      "text/plain": [
       "<matplotlib.figure.Figure at 0x117af3358>"
      ]
     },
     "metadata": {},
     "output_type": "display_data"
    }
   ],
   "source": [
    "x1 = Symbol('x1')\n",
    "x2 = Symbol('x2')\n",
    "f = (-x1 + 1)**2 + 100*(-x1**2 + x2)**2\n",
    "deriv_1 = np.array([f.diff(x1), f.diff(x2)])\n",
    "print(deriv_1[0])\n",
    "print(deriv_1[1])\n",
    "\n",
    "# Initialize Xk\n",
    "xk = np.array([-1.2,1], dtype='float32')\n",
    "\n",
    "fx_array, gradientNorm_arr = iterateNonQuadratic(f, xk, deriv_1, \n",
    "                                                 function3, objective3,\n",
    "                                                 numFeature=2, numSteps=1000, should_print=200)  \n",
    "plot([fx_array, gradientNorm_arr])"
   ]
  },
  {
   "cell_type": "code",
   "execution_count": 25,
   "metadata": {
    "collapsed": true,
    "scrolled": false
   },
   "outputs": [],
   "source": [
    "# x1 = Symbol('x1')\n",
    "# x2 = Symbol('x2')\n",
    "# f = 100*pow(x2-pow(x1,2),2) + pow(1-x1,2)\n",
    "# deriv_1 = np.array([f.diff(x1), f.diff(x2)])\n",
    "# Q = np.array([[deriv_1[0].diff(x1),deriv_1[0].diff(x2)],\n",
    "#               [deriv_1[1].diff(x1),deriv_1[1].diff(x2)]])\n",
    "# print ('Q: \\n', Q)\n",
    "\n",
    "\n",
    "# # Initialize Xk\n",
    "# xk = np.array([-1.2,1], dtype='float32')\n",
    "\n",
    "# # fx_array = iterate(f, xk, deriv_1, Q, Bk, numFeatures=2, numSteps=5)\n",
    "\n",
    "# fx_array, gradientNorm_arr = iterateQuadratic(f, xk, deriv_1, Q, numFeatures=2, numSteps=1000, should_print=100)\n",
    "\n",
    "# plot([fx_array, gradientNorm_arr])"
   ]
  },
  {
   "cell_type": "markdown",
   "metadata": {},
   "source": [
    "# Solution d(4)"
   ]
  },
  {
   "cell_type": "code",
   "execution_count": 26,
   "metadata": {
    "scrolled": false
   },
   "outputs": [
    {
     "name": "stdout",
     "output_type": "stream",
     "text": [
      "4*(x1 + x2)**3\n",
      "2*x2 + 4*(x1 + x2)**3\n",
      "\n",
      "##########################################################\n",
      "Function F at x: f(x)  9.24427635043128e-6\n",
      "Gradient at xk49 is:  [ 0.00066729  0.00017385]\n",
      "####### Gradient Norm:  0.000689562\n",
      "The updated Value xk50 is \n",
      " [ 0.05529591 -0.00024672]\n",
      "\n",
      "##########################################################\n",
      "Function F at x: f(x)  1.97367953299658e-6\n",
      "Gradient at xk99 is:  [ 0.00020741  0.00060821]\n",
      "####### Gradient Norm:  0.000642599\n",
      "The updated Value xk100 is \n",
      " [ 0.03708915  0.0002004 ]\n",
      "\n",
      "##########################################################\n",
      "Function F at x: f(x)  7.90933709587264e-7\n",
      "Gradient at xk149 is:  [  1.06050167e-04   6.74165785e-05]\n",
      "####### Gradient Norm:  0.000125665\n",
      "The updated Value xk150 is \n",
      " [  2.98376791e-02  -1.93167944e-05]\n",
      "\n",
      "##########################################################\n",
      "Function F at x: f(x)  4.32718857559886e-7\n",
      "Gradient at xk199 is:  [  6.74404728e-05   1.06940148e-04]\n",
      "####### Gradient Norm:  0.000126429\n",
      "The updated Value xk200 is \n",
      " [  2.56223474e-02   1.97498375e-05]\n",
      "\n",
      "##########################################################\n",
      "Function F at x: f(x)  2.75546926793227e-7\n",
      "Gradient at xk249 is:  [  4.77518588e-05   1.51820088e-04]\n",
      "####### Gradient Norm:  0.000159153\n",
      "The updated Value xk250 is \n",
      " [  2.28027310e-02   5.20341127e-05]\n",
      "The check (gradient norm equation reach a val < epsilon, HENCE BREAKING OUT OF LOOP)\n"
     ]
    },
    {
     "data": {
      "image/png": "[encoded data removed]",
      "text/plain": [
       "<matplotlib.figure.Figure at 0x117f487f0>"
      ]
     },
     "metadata": {},
     "output_type": "display_data"
    }
   ],
   "source": [
    "x1 = Symbol('x1')\n",
    "x2 = Symbol('x2')\n",
    "f = x2**2 + (x1 + x2)**4\n",
    "deriv_1 = np.array([f.diff(x1), f.diff(x2)])\n",
    "print(deriv_1[0])\n",
    "print(deriv_1[1])\n",
    "\n",
    "# Initialize Xk\n",
    "xk = np.array([2,-2], dtype='float32')\n",
    "\n",
    "fx_array, gradientNorm_arr = iterateNonQuadratic(f, xk, deriv_1, \n",
    "                                                 function4, objective4,\n",
    "                                                 numFeature=2, numSteps=300, should_print=50)  \n",
    "plot([fx_array, gradientNorm_arr])"
   ]
  },
  {
   "cell_type": "code",
   "execution_count": 27,
   "metadata": {
    "collapsed": true,
    "scrolled": false
   },
   "outputs": [],
   "source": [
    "# x1 = Symbol('x1')\n",
    "# x2 = Symbol('x2')\n",
    "# f = pow(x1+x2,4) + pow(x2,2)\n",
    "# deriv_1 = np.array([f.diff(x1), f.diff(x2)])\n",
    "# Q = np.array([[deriv_1[0].diff(x1),deriv_1[0].diff(x2)],\n",
    "#                     [deriv_1[1].diff(x1),deriv_1[1].diff(x2)]])\n",
    "# print(deriv_1[0])\n",
    "# print(deriv_1[1])\n",
    "# print ('Q: \\n', Q)\n",
    "\n",
    "\n",
    "# # Initialize Xk\n",
    "# xk = np.array([2,-2], dtype='float32')\n",
    "\n",
    "# # fx_array = iterate(f, xk, deriv_1, Q, Bk, numFeatures=2, numSteps=5)\n",
    "\n",
    "# fx_array, gradientNorm_arr = iterateQuadratic(f, xk, deriv_1, numFeatures=2, numSteps=1000, should_print=200)\n",
    "\n",
    "# plot([fx_array, gradientNorm_arr])"
   ]
  },
  {
   "cell_type": "markdown",
   "metadata": {},
   "source": [
    "# Solution d(5)"
   ]
  },
  {
   "cell_type": "markdown",
   "metadata": {},
   "source": [
    "### a : (x1 - 1)**2 + (x2 - 1)**2 + (x1**2 + x2**2 - 0.25)**2\n"
   ]
  },
  {
   "cell_type": "code",
   "execution_count": 28,
   "metadata": {},
   "outputs": [
    {
     "name": "stdout",
     "output_type": "stream",
     "text": [
      "4*x1*(x1**2 + x2**2 - 0.25) + 2*x1 - 2\n",
      "4*x2*(x1**2 + x2**2 - 0.25) + 2*x2 - 2\n",
      "The check (gradient norm equation reach a val < epsilon, HENCE BREAKING OUT OF LOOP)\n"
     ]
    },
    {
     "data": {
      "image/png": "[encoded data removed]",
      "text/plain": [
       "<matplotlib.figure.Figure at 0x1179d7d68>"
      ]
     },
     "metadata": {},
     "output_type": "display_data"
    }
   ],
   "source": [
    "x1 = Symbol('x1')\n",
    "x2 = Symbol('x2')\n",
    "f = (x1-1)**2 + (x2-1)**2 + (x1**2 + x2**2 -0.25)**2\n",
    "deriv_1 = np.array([f.diff(x1), f.diff(x2)])\n",
    "print(deriv_1[0])\n",
    "print(deriv_1[1])\n",
    "\n",
    "# Initialize Xk\n",
    "xk = np.array([1,-1], dtype='float32')\n",
    "\n",
    "fx_array, gradientNorm_arr = iterateNonQuadratic(f, xk, deriv_1, \n",
    "                                                 function5a, objective5a,\n",
    "                                                 numFeature=2, numSteps=300, should_print=50)  \n",
    "plot([fx_array, gradientNorm_arr])"
   ]
  },
  {
   "cell_type": "code",
   "execution_count": 29,
   "metadata": {
    "collapsed": true
   },
   "outputs": [],
   "source": [
    "# c = 1\n",
    "# x1 = Symbol('x1')\n",
    "# x2 = Symbol('x2')\n",
    "# f = pow(x1-1, 2) + pow(x2-1, 2) + c*pow((pow(x1,0) + pow(x2,2) - 0.25), 2)\n",
    "# deriv_1 = np.array([f.diff(x1), f.diff(x2)])\n",
    "# Q = np.array([[deriv_1[0].diff(x1),deriv_1[0].diff(x2)],\n",
    "#                     [deriv_1[1].diff(x1),deriv_1[1].diff(x2)]])\n",
    "\n",
    "# print ('Q: \\n', Q)\n",
    "\n",
    "\n",
    "# # Initialize Xk\n",
    "# xk = np.array([1,-1], dtype='float32')\n",
    "\n",
    "# # fx_array = iterate(f, xk, deriv_1, Q, Bk, numFeatures=2, numSteps=5)\n",
    "\n",
    "# fx_array, gradientNorm_arr = iterate(f, xk, deriv_1, Q, numFeatures=2, numSteps=1000, should_print=100)\n",
    "\n",
    "# plot([fx_array, gradientNorm_arr])"
   ]
  },
  {
   "cell_type": "markdown",
   "metadata": {},
   "source": [
    "### b : (x1 - 1)**2 + (x2 - 1)**2 + 10*(x1**2 + x2**2 - 0.25)**2"
   ]
  },
  {
   "cell_type": "code",
   "execution_count": 30,
   "metadata": {},
   "outputs": [
    {
     "name": "stdout",
     "output_type": "stream",
     "text": [
      "40*x1*(x1**2 + x2**2 - 0.25) + 2*x1 - 2\n",
      "40*x2*(x1**2 + x2**2 - 0.25) + 2*x2 - 2\n",
      "The check (gradient norm equation reach a val < epsilon, HENCE BREAKING OUT OF LOOP)\n"
     ]
    },
    {
     "data": {
      "image/png": "[encoded data removed]",
      "text/plain": [
       "<matplotlib.figure.Figure at 0x117ff7ac8>"
      ]
     },
     "metadata": {},
     "output_type": "display_data"
    }
   ],
   "source": [
    "x1 = Symbol('x1')\n",
    "x2 = Symbol('x2')\n",
    "f = (x1-1)**2 + (x2-1)**2 + 10*(x1**2 + x2**2 -0.25)**2\n",
    "deriv_1 = np.array([f.diff(x1), f.diff(x2)])\n",
    "print(deriv_1[0])\n",
    "print(deriv_1[1])\n",
    "\n",
    "# Initialize Xk\n",
    "xk = np.array([1,-1], dtype='float32')\n",
    "\n",
    "fx_array, gradientNorm_arr = iterateNonQuadratic(f, xk, deriv_1, \n",
    "                                                 function5b, objective5b,\n",
    "                                                 numFeature=2, numSteps=300, should_print=50)  \n",
    "plot([fx_array, gradientNorm_arr])"
   ]
  },
  {
   "cell_type": "code",
   "execution_count": 31,
   "metadata": {
    "collapsed": true
   },
   "outputs": [],
   "source": [
    "# c = 10\n",
    "# x1 = Symbol('x1')\n",
    "# x2 = Symbol('x2')\n",
    "# f = pow(x1-1, 2) + pow(x2-1, 2) + c*pow((pow(x1,0) + pow(x2,2) - 0.25), 2)\n",
    "# deriv_1 = np.array([f.diff(x1), f.diff(x2)])\n",
    "# Q = np.array([[deriv_1[0].diff(x1),deriv_1[0].diff(x2)],\n",
    "#                     [deriv_1[1].diff(x1),deriv_1[1].diff(x2)]])\n",
    "\n",
    "# print ('Q: \\n', Q)\n",
    "\n",
    "\n",
    "# # Initialize Xk\n",
    "# xk = np.array([1,-1], dtype='float32')\n",
    "\n",
    "# # fx_array = iterate(f, xk, deriv_1, Q, Bk, numFeatures=2, numSteps=5)\n",
    "\n",
    "# fx_array, gradientNorm_arr = iterate(f, xk, deriv_1, Q, numFeatures=2, numSteps=1000, should_print=100)\n",
    "\n",
    "# plot([fx_array, gradientNorm_arr])"
   ]
  },
  {
   "cell_type": "markdown",
   "metadata": {},
   "source": [
    "### c: (x1 - 1)**2 + (x2 - 1)**2 + 100*(x1**2 + x2**2 - 0.25)**2"
   ]
  },
  {
   "cell_type": "code",
   "execution_count": 32,
   "metadata": {},
   "outputs": [
    {
     "name": "stdout",
     "output_type": "stream",
     "text": [
      "400*x1*(x1**2 + x2**2 - 0.25) + 2*x1 - 2\n",
      "400*x2*(x1**2 + x2**2 - 0.25) + 2*x2 - 2\n",
      "The check (gradient norm equation reach a val < epsilon, HENCE BREAKING OUT OF LOOP)\n"
     ]
    },
    {
     "data": {
      "image/png": "[encoded data removed]",
      "text/plain": [
       "<matplotlib.figure.Figure at 0x118127898>"
      ]
     },
     "metadata": {},
     "output_type": "display_data"
    }
   ],
   "source": [
    "x1 = Symbol('x1')\n",
    "x2 = Symbol('x2')\n",
    "f = (x1-1)**2 + (x2-1)**2 + 100*(x1**2 + x2**2 -0.25)**2\n",
    "deriv_1 = np.array([f.diff(x1), f.diff(x2)])\n",
    "print(deriv_1[0])\n",
    "print(deriv_1[1])\n",
    "\n",
    "# Initialize Xk\n",
    "xk = np.array([1,-1], dtype='float32')\n",
    "\n",
    "fx_array, gradientNorm_arr = iterateNonQuadratic(f, xk, deriv_1, \n",
    "                                                 function5c, objective5c,\n",
    "                                                 numFeature=2, numSteps=300, should_print=50)  \n",
    "plot([fx_array, gradientNorm_arr])"
   ]
  },
  {
   "cell_type": "code",
   "execution_count": null,
   "metadata": {
    "collapsed": true
   },
   "outputs": [],
   "source": []
  },
  {
   "cell_type": "code",
   "execution_count": null,
   "metadata": {
    "collapsed": true
   },
   "outputs": [],
   "source": []
  },
  {
   "cell_type": "code",
   "execution_count": null,
   "metadata": {
    "collapsed": true
   },
   "outputs": [],
   "source": []
  },
  {
   "cell_type": "code",
   "execution_count": null,
   "metadata": {
    "collapsed": true
   },
   "outputs": [],
   "source": []
  },
  {
   "cell_type": "code",
   "execution_count": null,
   "metadata": {
    "collapsed": true
   },
   "outputs": [],
   "source": []
  },
  {
   "cell_type": "code",
   "execution_count": null,
   "metadata": {
    "collapsed": true
   },
   "outputs": [],
   "source": []
  },
  {
   "cell_type": "code",
   "execution_count": null,
   "metadata": {
    "collapsed": true
   },
   "outputs": [],
   "source": []
  },
  {
   "cell_type": "code",
   "execution_count": 18,
   "metadata": {
    "collapsed": true
   },
   "outputs": [],
   "source": [
    "def steepestDescent_NonQuadraticFnc(xk, deriv_1, gradient_xk):             \n",
    "    fk1 = xk - np.array([Symbol('alpha')*grd for grd in gradient_xk])\n",
    "    fk1_subs = np.array([deriv_1[0].subs(x1, fk1[0]).subs(x2, fk1[1]),\n",
    "                         deriv_1[1].subs(x1, fk1[0]).subs(x2, fk1[1])])\n",
    "#     print('')\n",
    "#     print(fk1)\n",
    "#     print(len(fk1_subs))\n",
    "#     print(fk1_subs[0])\n",
    "#     print(fk1_subs[1])\n",
    "    fk1_subs = np.dot(fk1_subs, gradient_xk)\n",
    "#     print('')\n",
    "#     print(len(fk1_subs), fk1_subs)\n",
    "#     print(len(fk1_subs), gradient_xk)\n",
    "    alpha = solve(str(fk1_subs))\n",
    "#     print(len(alpha))\n",
    "#     print(gradient_xk)\n",
    "    \n",
    "    xk1_arr = []\n",
    "    for i in alpha:\n",
    "        print ('%^%^%^%^%^%^%^%^%^%^^%%')\n",
    "        xk1 = xk - (i*gradient_xk)\n",
    "        print (xk, [cmath.phase(k) for k in xk1.real])\n",
    "#         print(len(xk1), )\n",
    "        xk1_arr.append([cmath.phase(k) for k in xk1.real])\n",
    "#     print ('@#@#@#@#@#@#', [np.array(xk) - np.array(xk1_arr) for xk1s in xk1_arr])\n",
    "    \n",
    "    return xk1_arr[2]\n",
    "\n",
    "def iterateNonQuadratic(f, xk, deriv_1, numFeature, numSteps, should_print):\n",
    "    fx_arr = []\n",
    "    gradientNorm_arr = []\n",
    "    for step in range(numSteps):\n",
    "        # Solve for gradient\n",
    "        fx = f.evalf(subs={x1:xk[0], x2:xk[1]})\n",
    "        fx_arr.append(fx)\n",
    "        gradient_xk = np.array([eq.evalf(subs={x1:xk[0], x2:xk[1]}) for eq in deriv_1], dtype='float32')\n",
    "        gradientNorm_arr.append(gradient_xk)\n",
    "        print ('Gradient of function at xstep at iteration %s is: '%(step), gradient_xk)\n",
    "        print ('Gradient Norm is: ', np.linalg.norm(gradient_xk))\n",
    "\n",
    "        xk1 = steepestDescent_NonQuadraticFnc(xk, deriv_1, gradient_xk)\n",
    "        xk = xk1\n",
    "        \n",
    "    return fx_arr, gradientNorm_arr"
   ]
  }
 ],
 "metadata": {
  "kernelspec": {
   "display_name": "Python 3",
   "language": "python",
   "name": "python3"
  },
  "language_info": {
   "codemirror_mode": {
    "name": "ipython",
    "version": 3
   },
   "file_extension": ".py",
   "mimetype": "text/x-python",
   "name": "python",
   "nbconvert_exporter": "python",
   "pygments_lexer": "ipython3",
   "version": "3.6.1"
  }
 },
 "nbformat": 4,
 "nbformat_minor": 2
}
