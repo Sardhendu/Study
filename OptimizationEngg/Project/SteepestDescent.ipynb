{
 "cells": [
  {
   "cell_type": "code",
   "execution_count": 1,
   "metadata": {
    "collapsed": true
   },
   "outputs": [],
   "source": [
    "from __future__ import division\n",
    "from __future__ import print_function\n",
    "from __future__ import absolute_import\n",
    "\n",
    "from sympy.solvers import solve\n",
    "from sympy import Symbol\n",
    "import numpy as np\n",
    "import pandas as pd\n",
    "import cmath\n",
    "from scipy.optimize import linesearch\n",
    "import scipy as sp\n",
    "import scipy.optimize\n",
    "\n",
    "import matplotlib.pyplot as plt\n",
    "import matplotlib\n",
    "%matplotlib inline"
   ]
  },
  {
   "cell_type": "markdown",
   "metadata": {},
   "source": [
    "# STEEPEST DESCENT\n",
    "-----------"
   ]
  },
  {
   "cell_type": "code",
   "execution_count": 2,
   "metadata": {
    "collapsed": true
   },
   "outputs": [],
   "source": [
    "# x1 = Symbol('x1')\n",
    "# x2 = Symbol('x2')\n",
    "# f = 100*pow(x2-pow(x1,2),2) + pow(1-x1,2)\n",
    "# print(f)\n",
    "# deriv_1 = np.array([f.diff(x1), f.diff(x2)])\n",
    "# print(deriv_1[0])\n",
    "# print(deriv_1[1])\n",
    "\n",
    "# x1 = Symbol('x1')\n",
    "# x2 = Symbol('x2')\n",
    "# f = pow((x1+x2),4) + x2**2\n",
    "# print(f)\n",
    "# deriv_1 = np.array([f.diff(x1), f.diff(x2)])\n",
    "# print(deriv_1[0])\n",
    "# print(deriv_1[1])\n",
    "\n",
    "# x1 = Symbol('x1')\n",
    "# x2 = Symbol('x2')\n",
    "# f = (x1-1)**2 + (x2-1)**2 + 100*(x1**2 + x2**2 -0.25)**2\n",
    "# print(f)\n",
    "# deriv_1 = np.array([f.diff(x1), f.diff(x2)])\n",
    "# print(deriv_1[0])\n",
    "# print(deriv_1[1])"
   ]
  },
  {
   "cell_type": "code",
   "execution_count": 3,
   "metadata": {
    "collapsed": true
   },
   "outputs": [],
   "source": [
    "\n",
    "epsilon = 10e-5\n",
    "\n",
    "# class SetFunction()\n",
    "#     def __init__(self):\n",
    "#         self.fnc = \n",
    "def function3(x):\n",
    "    x1 = x[0]\n",
    "    x2 = x[1]\n",
    "    return (-x1 + 1)**2 + 100*(-x1**2 + x2)**2\n",
    "\n",
    "def objective3(x):\n",
    "    x1 = x[0]\n",
    "    x2 = x[1]\n",
    "    a = -400*x1*(-x1**2 + x2) + 2*x1 - 2\n",
    "    b = -200*x1**2 + 200*x2\n",
    "    return [a,b]\n",
    "\n",
    "######################################################\n",
    "\n",
    "def function4(x):\n",
    "    x1 = x[0]\n",
    "    x2 = x[1]\n",
    "    return x2**2 + (x1 + x2)**4\n",
    "\n",
    "def objective4(x):\n",
    "    x1 = x[0]\n",
    "    x2 = x[1]\n",
    "    a = 4*(x1 + x2)**3\n",
    "    b = 2*x2 + 4*(x1 + x2)**3\n",
    "    return [a,b]\n",
    "\n",
    "######################################################\n",
    "\n",
    "def function5a(x):\n",
    "    x1 = x[0]\n",
    "    x2 = x[1]\n",
    "    return (x1-1)**2 + (x2-1)**2 + (x1**2 + x2**2 -0.25)**2\n",
    "\n",
    "def objective5a(x):\n",
    "    x1 = x[0]\n",
    "    x2 = x[1]\n",
    "    a = 4*x1*(x1**2 + x2**2 - 0.25) + 2*x1 - 2\n",
    "    b = 4*x2*(x1**2 + x2**2 - 0.25) + 2*x2 - 2\n",
    "    return [a,b]\n",
    "\n",
    "######################################################\n",
    "\n",
    "def function5b(x):\n",
    "    x1 = x[0]\n",
    "    x2 = x[1]\n",
    "    return (x1 - 1)**2 + (x2 - 1)**2 + 10*(x1**2 + x2**2 - 0.25)**2\n",
    "\n",
    "def objective5b(x):\n",
    "    x1 = x[0]\n",
    "    x2 = x[1]\n",
    "    a = 40*x1*(x1**2 + x2**2 - 0.25) + 2*x1 - 2\n",
    "    b = 40*x2*(x1**2 + x2**2 - 0.25) + 2*x2 - 2\n",
    "    return [a,b]\n",
    "\n",
    "######################################################\n",
    "def function5c(x):\n",
    "    x1 = x[0]\n",
    "    x2 = x[1]\n",
    "    return (x1 - 1)**2 + (x2 - 1)**2 + 100*(x1**2 + x2**2 - 0.25)**2\n",
    "\n",
    "def objective5c(x):\n",
    "    x1 = x[0]\n",
    "    x2 = x[1]\n",
    "    a = 400*x1*(x1**2 + x2**2 - 0.25) + 2*x1 - 2\n",
    "    b = 400*x2*(x1**2 + x2**2 - 0.25) + 2*x2 - 2\n",
    "    return [a,b]\n",
    "\n",
    "######################################################\n",
    "alpha_arr = []\n",
    "def steepestDescentUpdate(xk, deriv1_xk, Q=[], function=None, objective=None):\n",
    "    \"\"\"\n",
    "        xk:        Current value \n",
    "        deriv1_xk: First order derivative of function f(xk)\n",
    "        Q :        Q formed when we convert the function in standard form\n",
    "                   Also equivallent to Hessian matrix, Computation is needed only once\n",
    "                   No update is required,\n",
    "                   Note: The hessian in Newton is computationally expensive, \n",
    "                   since we do the matrix inversion\n",
    "        \n",
    "        pk (Search direction) = - deriv1_xk \n",
    "    \"\"\"\n",
    "    pk = -1 * deriv1_xk # We just take a step in the negative direction of the gradient\n",
    "    if len(Q) >=1 :\n",
    "        alpha = -1 * np.dot(np.transpose(pk), deriv1_xk) / np.dot(np.dot(np.transpose(pk), Q), pk)\n",
    "    else: # Implementing the line search algorithm\n",
    "        a = linesearch.line_search(function,objective,xk,pk)\n",
    "        if not a[0]:\n",
    "            alpha = float(alpha_arr[len(alpha_arr)-1]/2)\n",
    "        else:\n",
    "            alpha_arr.append(a[0])\n",
    "            alpha = alpha_arr[len(alpha_arr)-1]\n",
    "\n",
    "    xk1 = xk - alpha*deriv1_xk\n",
    "    return xk1, alpha, pk"
   ]
  },
  {
   "cell_type": "code",
   "execution_count": null,
   "metadata": {
    "collapsed": true
   },
   "outputs": [],
   "source": []
  },
  {
   "cell_type": "code",
   "execution_count": 18,
   "metadata": {},
   "outputs": [],
   "source": [
    "def iterateNonQuadratic(f, xk, deriv_1, function, objective, numFeature, numSteps, should_print):\n",
    "    fx_arr = []\n",
    "    gradientNorm_arr = []\n",
    "    alpha_arr = []\n",
    "    pk_arr = []\n",
    "    for step in range(numSteps):\n",
    "#         print('stepstepstep ', step)\n",
    "        # Solve for gradient\n",
    "        fx = f.evalf(subs={x1:xk[0], x2:xk[1]})\n",
    "        fx_arr.append(fx)\n",
    "        gradient_xk = np.array([eq.evalf(subs={x1:xk[0], x2:xk[1]}) for eq in deriv_1], dtype='float32')\n",
    "        gradientNorm = np.linalg.norm(gradient_xk)\n",
    "        gradientNorm_arr.append(np.linalg.norm(gradientNorm))\n",
    "        \n",
    "        if should_print:\n",
    "            if (step+1)%should_print == 0:\n",
    "                print('')\n",
    "                print ('##########################################################')\n",
    "                print ('Function F at x: f(x) ', fx)\n",
    "                print ('Gradient at xk%s is: '%str(step), gradient_xk)\n",
    "                print (\"####### Gradient Norm: \", gradientNorm)\n",
    "                print('The updated Value xk%s is \\n'%(step+1), xk)\n",
    "                \n",
    "                \n",
    "        if np.sum((gradientNorm/(1+np.abs(gradient_xk))) <= epsilon) == len(gradient_xk) or (step == 1000):\n",
    "            print('The check (gradient norm equation reach a val < epsilon, HENCE BREAKING OUT OF LOOP)')\n",
    "            break\n",
    "#         print()\n",
    "\n",
    "#         pk = -1 * gradient_xk\n",
    "        xk1, alpha = steepestDescentUpdate(xk=xk, deriv1_xk=gradient_xk, \n",
    "                                    Q=[], function=function, objective=objective)\n",
    "        \n",
    "#         print('aaaaaa ', a[0], a)\n",
    "#\n",
    "        xk = xk1\n",
    "        \n",
    "#         if step <=10:\n",
    "        pk_arr.append(pk)\n",
    "        alpha_arr.append(alpha)\n",
    "        xk1_arr.append(xk1)\n",
    "\n",
    "    return fx_arr, gradientNorm_arr, pk_arr, alpha_arr, xk1_arr\n",
    "\n",
    "\n",
    "def iterateQuadratic(f, xk, deriv_1, Q, numFeatures, numSteps, should_print):\n",
    "    fx_arr = []\n",
    "    gradientNorm_arr = []\n",
    "    alpha_arr = []\n",
    "    pk_arr = []\n",
    "    xk1_arr = []\n",
    "    for step in range(numSteps): \n",
    "        if numFeatures == 3:\n",
    "            fx = f.evalf(subs={x1:xk[0], x2:xk[1], x3:xk[2]})\n",
    "            gradient_xk = np.array([eq.evalf(subs={x1:xk[0], x2:xk[1], x3:xk[2]}) \n",
    "                                 for eq in deriv_1], dtype='float32')\n",
    "            Q_lv = np.array([cell.evalf(subs={x1:xk[0], x2:xk[1], x3:xk[2]}) \n",
    "                          for rows in Q \n",
    "                          for cell in rows], dtype='float32').reshape(3,3)\n",
    "            \n",
    "        elif numFeatures == 2:\n",
    "            fx = f.evalf(subs={x1:xk[0], x2:xk[1]})\n",
    "            gradient_xk = np.array([eq.evalf(subs={x1:xk[0], x2:xk[1]}) for eq in deriv_1], dtype='float32')\n",
    "            Q_lv = np.array([cell.evalf(subs={x1:xk[0], x2:xk[1]}) \n",
    "                          for rows in Q\n",
    "                          for cell in rows], dtype='float32').reshape(2,2)\n",
    "        else:\n",
    "            raise ValueError('Num Features doesnt match the handled condition')\n",
    "            \n",
    "        fx_arr.append(fx)\n",
    "        gradientNorm = np.linalg.norm(gradient_xk)\n",
    "        gradientNorm_arr.append(gradientNorm)\n",
    "\n",
    "        if should_print:\n",
    "            if (step+1)%should_print == 0:\n",
    "                print('')\n",
    "                print ('##########################################################')\n",
    "                print ('Function F at x: f(x) ', fx)\n",
    "                print ('Gradient at xk%s is: '%str(step), gradient_xk)\n",
    "                print (\"####### Gradient Norm: \", gradientNorm)\n",
    "                print('The updated Value xk%s is \\n'%(step+1), xk)\n",
    "                \n",
    "#         print ((gradientNorm/(1+np.abs(gradient_xk))))\n",
    "#         print ((gradientNorm/(1+np.abs(gradient_xk))) <= epsilon)\n",
    "#         print (np.sum((gradientNorm/(1+np.abs(gradient_xk))) <= epsilon))\n",
    "        if np.sum((gradientNorm/(1+np.abs(gradient_xk))) <= epsilon) == len(gradient_xk) or (step == 1000):\n",
    "            print('The check (gradient norm equation reach a val < epsilon, HENCE BREAKING OUT OF LOOP)')\n",
    "            break\n",
    "            \n",
    "#         print ('21121212222232')\n",
    "        \n",
    "        xk1, alpha, pk = steepestDescentUpdate(xk=xk, deriv1_xk=gradient_xk, Q=Q_lv)\n",
    "        xk = xk1\n",
    "#         print(xk1, alpha, pk)\n",
    "#         if step <=10:\n",
    "        pk_arr.append(pk)\n",
    "        alpha_arr.append(alpha)\n",
    "        xk1_arr.append(xk1)\n",
    "        \n",
    "    return fx_arr, gradientNorm_arr, pk_arr, alpha_arr, xk1_arr\n",
    "\n",
    "        "
   ]
  },
  {
   "cell_type": "markdown",
   "metadata": {},
   "source": [
    "## PLOT"
   ]
  },
  {
   "cell_type": "code",
   "execution_count": 19,
   "metadata": {},
   "outputs": [],
   "source": [
    "# def plot(x):\n",
    "#     plt.plot(np.arange(len(x)), x, edgecolor='k')\n",
    "#     plt.xlabel(\"Number of Iteration\")\n",
    "#     plt.ylabel('Loss Function')\n",
    "#     plt.grid(True)\n",
    "    \n",
    "def plot(x_arr, rows=1, columns=2, figsize=(10, 3)):\n",
    "    fig1, axs = plt.subplots(rows,columns, figsize=figsize, facecolor='w', edgecolor='k')\n",
    "    if columns>1:\n",
    "        axs = axs.ravel()\n",
    "    for no, arrVal in enumerate(x_arr):\n",
    "        axs[no].plot(np.arange(len(arrVal)), arrVal)\n",
    "        if no == 0:\n",
    "            axs[no].set_xlabel('num of Iteration')\n",
    "            axs[no].set_ylabel('Function f(x) at step')\n",
    "            axs[no].set_title('Function Vs Num Iteration')\n",
    "        else:\n",
    "            axs[no].set_xlabel('num of Iteration')\n",
    "            axs[no].set_ylabel('Gradient Norm at step')\n",
    "            axs[no].set_title('Gradient Norm Vs Num Iteration')\n",
    "# ax1.set_title('ax1 title')\n",
    "# ax2.set_title('ax2 title')\n"
   ]
  },
  {
   "cell_type": "markdown",
   "metadata": {},
   "source": [
    "## Test subject for example 12.1 in book page: 404"
   ]
  },
  {
   "cell_type": "code",
   "execution_count": 20,
   "metadata": {
    "collapsed": true
   },
   "outputs": [],
   "source": [
    "# x1 = Symbol('x1')\n",
    "# x2 = Symbol('x2')\n",
    "# x3 = Symbol('x3')\n",
    "\n",
    "# f = 0.5*pow(x1,2) + 0.5*5*pow(x2,2) + 0.5*25*pow(x3,2) + x1 +x2 +x3\n",
    "# deriv_1 = np.array([f.diff(x1), f.diff(x2), f.diff(x3)])\n",
    "# print ('First order Derivative: ', deriv_1)\n",
    "# Q = np.array([d_eq.diff(xn) for d_eq in deriv_1 for xn in [x1,x2,x3]]).reshape(3,3)  # Q is obtained by converting the funciton into quadratic form, which is equivallent to 2nd order derivative in all our case\n",
    "# print ('Second order Derivative: \\n', Q)\n",
    "\n",
    "# # Initialize Xk\n",
    "# xk = np.array([0,0,0])\n",
    "\n",
    "# iterate(xk, deriv_1, Q, numFeatures=3, numSteps=5, should_print=1)"
   ]
  },
  {
   "cell_type": "markdown",
   "metadata": {},
   "source": [
    "#### Solution d(1)"
   ]
  },
  {
   "cell_type": "code",
   "execution_count": 21,
   "metadata": {
    "scrolled": false
   },
   "outputs": [
    {
     "name": "stdout",
     "output_type": "stream",
     "text": [
      "First order Derivative:  [2*x1 2*x2 2*x3]\n",
      "Second order Derivative: \n",
      " [[2 0 0]\n",
      " [0 2 0]\n",
      " [0 0 2]]\n",
      "\n",
      "##########################################################\n",
      "Function F at x: f(x)  3.00000000000000\n",
      "Gradient at xk0 is:  [ 2.  2.  2.]\n",
      "####### Gradient Norm:  3.4641\n",
      "The updated Value xk1 is \n",
      " [1 1 1]\n",
      "\n",
      "##########################################################\n",
      "Function F at x: f(x)  0.e-125\n",
      "Gradient at xk1 is:  [ 0.  0.  0.]\n",
      "####### Gradient Norm:  0.0\n",
      "The updated Value xk2 is \n",
      " [ 0.  0.  0.]\n",
      "The check (gradient norm equation reach a val < epsilon, HENCE BREAKING OUT OF LOOP)\n"
     ]
    },
    {
     "data": {
      "text/html": [
       "<div>\n",
       "<style>\n",
       "    .dataframe thead tr:only-child th {\n",
       "        text-align: right;\n",
       "    }\n",
       "\n",
       "    .dataframe thead th {\n",
       "        text-align: left;\n",
       "    }\n",
       "\n",
       "    .dataframe tbody tr th {\n",
       "        vertical-align: top;\n",
       "    }\n",
       "</style>\n",
       "<table border=\"1\" class=\"dataframe\">\n",
       "  <thead>\n",
       "    <tr style=\"text-align: right;\">\n",
       "      <th></th>\n",
       "      <th>pk</th>\n",
       "      <th>alpha</th>\n",
       "      <th>xk</th>\n",
       "    </tr>\n",
       "  </thead>\n",
       "  <tbody>\n",
       "    <tr>\n",
       "      <th>0</th>\n",
       "      <td>[-2.0, -2.0, -2.0]</td>\n",
       "      <td>0.5</td>\n",
       "      <td>[0.0, 0.0, 0.0]</td>\n",
       "    </tr>\n",
       "  </tbody>\n",
       "</table>\n",
       "</div>"
      ],
      "text/plain": [
       "                   pk  alpha               xk\n",
       "0  [-2.0, -2.0, -2.0]    0.5  [0.0, 0.0, 0.0]"
      ]
     },
     "execution_count": 21,
     "metadata": {},
     "output_type": "execute_result"
    },
    {
     "data": {
      "image/png": "[encoded data removed]",
      "text/plain": [
       "<matplotlib.figure.Figure at 0x118bef5f8>"
      ]
     },
     "metadata": {},
     "output_type": "display_data"
    }
   ],
   "source": [
    "x1 = Symbol('x1')\n",
    "x2 = Symbol('x2')\n",
    "x3 = Symbol('x3')\n",
    "\n",
    "f = pow(x1,2) + pow(x2,2) + pow(x3,2)\n",
    "deriv_1 = np.array([f.diff(x1), f.diff(x2), f.diff(x3)])\n",
    "print ('First order Derivative: ', deriv_1)\n",
    "Q = np.array([d_eq.diff(xn) for d_eq in deriv_1 for xn in [x1,x2,x3]]).reshape(3,3)  # Q is obtained by converting the funciton into quadratic form, which is equivallent to 2nd order derivative in all our case\n",
    "print ('Second order Derivative: \\n', Q)\n",
    "\n",
    "# Initialize Xk\n",
    "xk = np.array([1,1,1])\n",
    "fx_array, gradientNorm_arr, pk_arr, alpha_arr, xk1_arr = iterateQuadratic(f, xk, deriv_1, Q, \n",
    "                                                                            numFeatures=3, numSteps=10, \n",
    "                                                                            should_print=1)\n",
    "outData = pd.DataFrame(columns=[\"pk\",\"alpha\",\"xk\"])\n",
    "outData[\"pk\"] = pk_arr\n",
    "outData[\"alpha\"] = alpha_arr\n",
    "outData[\"xk\"] = xk1_arr\n",
    "\n",
    "plot([fx_array, gradientNorm_arr])\n",
    "\n",
    "outData"
   ]
  },
  {
   "cell_type": "code",
   "execution_count": null,
   "metadata": {
    "collapsed": true
   },
   "outputs": [],
   "source": []
  },
  {
   "cell_type": "markdown",
   "metadata": {},
   "source": [
    "# Solution d(2)"
   ]
  },
  {
   "cell_type": "code",
   "execution_count": 22,
   "metadata": {},
   "outputs": [
    {
     "name": "stdout",
     "output_type": "stream",
     "text": [
      "First order Derivative:  [2*x1 - 2*x2 -2*x1 + 4*x2 - 2]\n",
      "Second order Derivative: \n",
      " [[2 -2]\n",
      " [-2 4]]\n",
      "\n",
      "##########################################################\n",
      "Function F at x: f(x)  -0.999998092651367\n",
      "Gradient at xk19 is:  [-0.00195312  0.        ]\n",
      "####### Gradient Norm:  0.00195312\n",
      "The updated Value xk20 is \n",
      " [ 0.99804688  0.99902344]\n",
      "The check (gradient norm equation reach a val < epsilon, HENCE BREAKING OUT OF LOOP)\n"
     ]
    },
    {
     "data": {
      "text/html": [
       "<div>\n",
       "<style>\n",
       "    .dataframe thead tr:only-child th {\n",
       "        text-align: right;\n",
       "    }\n",
       "\n",
       "    .dataframe thead th {\n",
       "        text-align: left;\n",
       "    }\n",
       "\n",
       "    .dataframe tbody tr th {\n",
       "        vertical-align: top;\n",
       "    }\n",
       "</style>\n",
       "<table border=\"1\" class=\"dataframe\">\n",
       "  <thead>\n",
       "    <tr style=\"text-align: right;\">\n",
       "      <th></th>\n",
       "      <th>pk</th>\n",
       "      <th>alpha</th>\n",
       "      <th>xk</th>\n",
       "    </tr>\n",
       "  </thead>\n",
       "  <tbody>\n",
       "    <tr>\n",
       "      <th>0</th>\n",
       "      <td>[-0.0, 2.0]</td>\n",
       "      <td>0.25</td>\n",
       "      <td>[0.0, 0.5]</td>\n",
       "    </tr>\n",
       "    <tr>\n",
       "      <th>1</th>\n",
       "      <td>[1.0, -0.0]</td>\n",
       "      <td>0.50</td>\n",
       "      <td>[0.5, 0.5]</td>\n",
       "    </tr>\n",
       "    <tr>\n",
       "      <th>2</th>\n",
       "      <td>[-0.0, 1.0]</td>\n",
       "      <td>0.25</td>\n",
       "      <td>[0.5, 0.75]</td>\n",
       "    </tr>\n",
       "    <tr>\n",
       "      <th>3</th>\n",
       "      <td>[0.5, -0.0]</td>\n",
       "      <td>0.50</td>\n",
       "      <td>[0.75, 0.75]</td>\n",
       "    </tr>\n",
       "    <tr>\n",
       "      <th>4</th>\n",
       "      <td>[-0.0, 0.5]</td>\n",
       "      <td>0.25</td>\n",
       "      <td>[0.75, 0.875]</td>\n",
       "    </tr>\n",
       "    <tr>\n",
       "      <th>5</th>\n",
       "      <td>[0.25, -0.0]</td>\n",
       "      <td>0.50</td>\n",
       "      <td>[0.875, 0.875]</td>\n",
       "    </tr>\n",
       "    <tr>\n",
       "      <th>6</th>\n",
       "      <td>[-0.0, 0.25]</td>\n",
       "      <td>0.25</td>\n",
       "      <td>[0.875, 0.9375]</td>\n",
       "    </tr>\n",
       "    <tr>\n",
       "      <th>7</th>\n",
       "      <td>[0.125, -0.0]</td>\n",
       "      <td>0.50</td>\n",
       "      <td>[0.9375, 0.9375]</td>\n",
       "    </tr>\n",
       "    <tr>\n",
       "      <th>8</th>\n",
       "      <td>[-0.0, 0.125]</td>\n",
       "      <td>0.25</td>\n",
       "      <td>[0.9375, 0.96875]</td>\n",
       "    </tr>\n",
       "    <tr>\n",
       "      <th>9</th>\n",
       "      <td>[0.0625, -0.0]</td>\n",
       "      <td>0.50</td>\n",
       "      <td>[0.96875, 0.96875]</td>\n",
       "    </tr>\n",
       "    <tr>\n",
       "      <th>10</th>\n",
       "      <td>[-0.0, 0.0625]</td>\n",
       "      <td>0.25</td>\n",
       "      <td>[0.96875, 0.984375]</td>\n",
       "    </tr>\n",
       "    <tr>\n",
       "      <th>11</th>\n",
       "      <td>[0.03125, -0.0]</td>\n",
       "      <td>0.50</td>\n",
       "      <td>[0.984375, 0.984375]</td>\n",
       "    </tr>\n",
       "    <tr>\n",
       "      <th>12</th>\n",
       "      <td>[-0.0, 0.03125]</td>\n",
       "      <td>0.25</td>\n",
       "      <td>[0.984375, 0.992188]</td>\n",
       "    </tr>\n",
       "    <tr>\n",
       "      <th>13</th>\n",
       "      <td>[0.015625, -0.0]</td>\n",
       "      <td>0.50</td>\n",
       "      <td>[0.992188, 0.992188]</td>\n",
       "    </tr>\n",
       "    <tr>\n",
       "      <th>14</th>\n",
       "      <td>[-0.0, 0.015625]</td>\n",
       "      <td>0.25</td>\n",
       "      <td>[0.992188, 0.996094]</td>\n",
       "    </tr>\n",
       "    <tr>\n",
       "      <th>15</th>\n",
       "      <td>[0.0078125, -0.0]</td>\n",
       "      <td>0.50</td>\n",
       "      <td>[0.996094, 0.996094]</td>\n",
       "    </tr>\n",
       "    <tr>\n",
       "      <th>16</th>\n",
       "      <td>[-0.0, 0.0078125]</td>\n",
       "      <td>0.25</td>\n",
       "      <td>[0.996094, 0.998047]</td>\n",
       "    </tr>\n",
       "    <tr>\n",
       "      <th>17</th>\n",
       "      <td>[0.00390625, -0.0]</td>\n",
       "      <td>0.50</td>\n",
       "      <td>[0.998047, 0.998047]</td>\n",
       "    </tr>\n",
       "    <tr>\n",
       "      <th>18</th>\n",
       "      <td>[-0.0, 0.00390625]</td>\n",
       "      <td>0.25</td>\n",
       "      <td>[0.998047, 0.999023]</td>\n",
       "    </tr>\n",
       "    <tr>\n",
       "      <th>19</th>\n",
       "      <td>[0.00195312, -0.0]</td>\n",
       "      <td>0.50</td>\n",
       "      <td>[0.999023, 0.999023]</td>\n",
       "    </tr>\n",
       "    <tr>\n",
       "      <th>20</th>\n",
       "      <td>[-0.0, 0.00195312]</td>\n",
       "      <td>0.25</td>\n",
       "      <td>[0.999023, 0.999512]</td>\n",
       "    </tr>\n",
       "    <tr>\n",
       "      <th>21</th>\n",
       "      <td>[0.000976562, -0.0]</td>\n",
       "      <td>0.50</td>\n",
       "      <td>[0.999512, 0.999512]</td>\n",
       "    </tr>\n",
       "    <tr>\n",
       "      <th>22</th>\n",
       "      <td>[-0.0, 0.000976562]</td>\n",
       "      <td>0.25</td>\n",
       "      <td>[0.999512, 0.999756]</td>\n",
       "    </tr>\n",
       "    <tr>\n",
       "      <th>23</th>\n",
       "      <td>[0.000488281, -0.0]</td>\n",
       "      <td>0.50</td>\n",
       "      <td>[0.999756, 0.999756]</td>\n",
       "    </tr>\n",
       "    <tr>\n",
       "      <th>24</th>\n",
       "      <td>[-0.0, 0.000488281]</td>\n",
       "      <td>0.25</td>\n",
       "      <td>[0.999756, 0.999878]</td>\n",
       "    </tr>\n",
       "    <tr>\n",
       "      <th>25</th>\n",
       "      <td>[0.000244141, -0.0]</td>\n",
       "      <td>0.50</td>\n",
       "      <td>[0.999878, 0.999878]</td>\n",
       "    </tr>\n",
       "    <tr>\n",
       "      <th>26</th>\n",
       "      <td>[-0.0, 0.000244141]</td>\n",
       "      <td>0.25</td>\n",
       "      <td>[0.999878, 0.999939]</td>\n",
       "    </tr>\n",
       "    <tr>\n",
       "      <th>27</th>\n",
       "      <td>[0.00012207, -0.0]</td>\n",
       "      <td>0.50</td>\n",
       "      <td>[0.999939, 0.999939]</td>\n",
       "    </tr>\n",
       "    <tr>\n",
       "      <th>28</th>\n",
       "      <td>[-0.0, 0.00012207]</td>\n",
       "      <td>0.25</td>\n",
       "      <td>[0.999939, 0.999969]</td>\n",
       "    </tr>\n",
       "  </tbody>\n",
       "</table>\n",
       "</div>"
      ],
      "text/plain": [
       "                     pk  alpha                    xk\n",
       "0           [-0.0, 2.0]   0.25            [0.0, 0.5]\n",
       "1           [1.0, -0.0]   0.50            [0.5, 0.5]\n",
       "2           [-0.0, 1.0]   0.25           [0.5, 0.75]\n",
       "3           [0.5, -0.0]   0.50          [0.75, 0.75]\n",
       "4           [-0.0, 0.5]   0.25         [0.75, 0.875]\n",
       "5          [0.25, -0.0]   0.50        [0.875, 0.875]\n",
       "6          [-0.0, 0.25]   0.25       [0.875, 0.9375]\n",
       "7         [0.125, -0.0]   0.50      [0.9375, 0.9375]\n",
       "8         [-0.0, 0.125]   0.25     [0.9375, 0.96875]\n",
       "9        [0.0625, -0.0]   0.50    [0.96875, 0.96875]\n",
       "10       [-0.0, 0.0625]   0.25   [0.96875, 0.984375]\n",
       "11      [0.03125, -0.0]   0.50  [0.984375, 0.984375]\n",
       "12      [-0.0, 0.03125]   0.25  [0.984375, 0.992188]\n",
       "13     [0.015625, -0.0]   0.50  [0.992188, 0.992188]\n",
       "14     [-0.0, 0.015625]   0.25  [0.992188, 0.996094]\n",
       "15    [0.0078125, -0.0]   0.50  [0.996094, 0.996094]\n",
       "16    [-0.0, 0.0078125]   0.25  [0.996094, 0.998047]\n",
       "17   [0.00390625, -0.0]   0.50  [0.998047, 0.998047]\n",
       "18   [-0.0, 0.00390625]   0.25  [0.998047, 0.999023]\n",
       "19   [0.00195312, -0.0]   0.50  [0.999023, 0.999023]\n",
       "20   [-0.0, 0.00195312]   0.25  [0.999023, 0.999512]\n",
       "21  [0.000976562, -0.0]   0.50  [0.999512, 0.999512]\n",
       "22  [-0.0, 0.000976562]   0.25  [0.999512, 0.999756]\n",
       "23  [0.000488281, -0.0]   0.50  [0.999756, 0.999756]\n",
       "24  [-0.0, 0.000488281]   0.25  [0.999756, 0.999878]\n",
       "25  [0.000244141, -0.0]   0.50  [0.999878, 0.999878]\n",
       "26  [-0.0, 0.000244141]   0.25  [0.999878, 0.999939]\n",
       "27   [0.00012207, -0.0]   0.50  [0.999939, 0.999939]\n",
       "28   [-0.0, 0.00012207]   0.25  [0.999939, 0.999969]"
      ]
     },
     "execution_count": 22,
     "metadata": {},
     "output_type": "execute_result"
    },
    {
     "data": {
      "image/png": "[encoded data removed]",
      "text/plain": [
       "<matplotlib.figure.Figure at 0x118f435f8>"
      ]
     },
     "metadata": {},
     "output_type": "display_data"
    }
   ],
   "source": [
    "x1 = Symbol('x1')\n",
    "x2 = Symbol('x2')\n",
    "f = pow(x1,2) + 2*pow(x2,2) - 2*x1*x2 - 2*x2\n",
    "deriv_1 = np.array([f.diff(x1), f.diff(x2)])\n",
    "print ('First order Derivative: ', deriv_1)\n",
    "Q = np.array([d_eq.diff(xn) for d_eq in deriv_1 for xn in [x1,x2]]).reshape(2,2)  # Q is obtained by converting the funciton into quadratic form, which is equivallent to 2nd order derivative in all our case\n",
    "print ('Second order Derivative: \\n', Q)\n",
    "\n",
    "# Initialize Xk\n",
    "xk = np.array([0,0], dtype='float32')\n",
    "\n",
    "fx_array, gradientNorm_arr, pk_arr, alpha_arr, xk1_arr = iterateQuadratic(f, xk, deriv_1, Q, \n",
    "                                                                          numFeatures=2, numSteps=100, \n",
    "                                                                          should_print=20)\n",
    "\n",
    "outData = pd.DataFrame(columns=[\"pk\",\"alpha\",\"xk\"])\n",
    "outData[\"pk\"] = pk_arr\n",
    "outData[\"alpha\"] = alpha_arr\n",
    "outData[\"xk\"] = xk1_arr\n",
    "\n",
    "plot([fx_array, gradientNorm_arr])\n",
    "\n",
    "outData"
   ]
  },
  {
   "cell_type": "markdown",
   "metadata": {},
   "source": [
    "# Solution d(3)"
   ]
  },
  {
   "cell_type": "code",
   "execution_count": 62,
   "metadata": {
    "scrolled": false
   },
   "outputs": [
    {
     "name": "stdout",
     "output_type": "stream",
     "text": [
      "-400*x1*(-x1**2 + x2) + 2*x1 - 2\n",
      "-200*x1**2 + 200*x2\n",
      "\n",
      "##########################################################\n",
      "Function F at x: f(x)  0.000857607853053252\n",
      "Gradient at xk199 is:  [-0.01955248 -0.02007916]\n",
      "####### Gradient Norm:  0.0280263\n",
      "The updated Value xk200 is \n",
      " [ 0.97073227  0.94222075]\n",
      "\n",
      "##########################################################\n",
      "Function F at x: f(x)  0.000355085037689682\n",
      "Gradient at xk399 is:  [ 0.01330922 -0.02594129]\n",
      "####### Gradient Norm:  0.0291562\n",
      "The updated Value xk400 is \n",
      " [ 0.98120099  0.96262568]\n",
      "\n",
      "##########################################################\n",
      "Function F at x: f(x)  5.98032735667963e-5\n",
      "Gradient at xk599 is:  [-0.00570423 -0.00491523]\n",
      "####### Gradient Norm:  0.00752979\n",
      "The updated Value xk600 is \n",
      " [ 0.99227065  0.98457646]\n",
      "\n",
      "##########################################################\n",
      "Function F at x: f(x)  3.75260229929920e-5\n",
      "Gradient at xk799 is:  [-0.00620088 -0.00304215]\n",
      "####### Gradient Norm:  0.00690692\n",
      "The updated Value xk800 is \n",
      " [ 0.99387604  0.98777437]\n",
      "\n",
      "##########################################################\n",
      "Function F at x: f(x)  1.87840242163554e-5\n",
      "Gradient at xk999 is:  [ 0.00884634 -0.0087728 ]\n",
      "####### Gradient Norm:  0.0124587\n",
      "The updated Value xk1000 is \n",
      " [ 0.9956882   0.99135113]\n"
     ]
    },
    {
     "data": {
      "image/png": "[encoded data removed]",
      "text/plain": [
       "<matplotlib.figure.Figure at 0x10e49f8d0>"
      ]
     },
     "metadata": {},
     "output_type": "display_data"
    }
   ],
   "source": [
    "x1 = Symbol('x1')\n",
    "x2 = Symbol('x2')\n",
    "f = (-x1 + 1)**2 + 100*(-x1**2 + x2)**2\n",
    "deriv_1 = np.array([f.diff(x1), f.diff(x2)])\n",
    "print(deriv_1[0])\n",
    "print(deriv_1[1])\n",
    "\n",
    "# Initialize Xk\n",
    "xk = np.array([-1.2,1], dtype='float32')\n",
    "\n",
    "fx_array, gradientNorm_arr = iterateNonQuadratic(f, xk, deriv_1, \n",
    "                                                 function3, objective3,\n",
    "                                                 numFeature=2, numSteps=1000, should_print=200)  \n",
    "plot([fx_array, gradientNorm_arr])"
   ]
  },
  {
   "cell_type": "code",
   "execution_count": 25,
   "metadata": {
    "collapsed": true,
    "scrolled": false
   },
   "outputs": [],
   "source": [
    "# x1 = Symbol('x1')\n",
    "# x2 = Symbol('x2')\n",
    "# f = 100*pow(x2-pow(x1,2),2) + pow(1-x1,2)\n",
    "# deriv_1 = np.array([f.diff(x1), f.diff(x2)])\n",
    "# Q = np.array([[deriv_1[0].diff(x1),deriv_1[0].diff(x2)],\n",
    "#               [deriv_1[1].diff(x1),deriv_1[1].diff(x2)]])\n",
    "# print ('Q: \\n', Q)\n",
    "\n",
    "\n",
    "# # Initialize Xk\n",
    "# xk = np.array([-1.2,1], dtype='float32')\n",
    "\n",
    "# # fx_array = iterate(f, xk, deriv_1, Q, Bk, numFeatures=2, numSteps=5)\n",
    "\n",
    "# fx_array, gradientNorm_arr = iterateQuadratic(f, xk, deriv_1, Q, numFeatures=2, numSteps=1000, should_print=100)\n",
    "\n",
    "# plot([fx_array, gradientNorm_arr])"
   ]
  },
  {
   "cell_type": "markdown",
   "metadata": {},
   "source": [
    "# Solution d(4)"
   ]
  },
  {
   "cell_type": "code",
   "execution_count": 63,
   "metadata": {
    "scrolled": false
   },
   "outputs": [
    {
     "name": "stdout",
     "output_type": "stream",
     "text": [
      "4*(x1 + x2)**3\n",
      "2*x2 + 4*(x1 + x2)**3\n",
      "\n",
      "##########################################################\n",
      "Function F at x: f(x)  8.05956756351018e-6\n",
      "Gradient at xk49 is:  [ 0.00056763 -0.00105447]\n",
      "####### Gradient Norm:  0.00119754\n",
      "The updated Value xk50 is \n",
      " [ 0.05297061 -0.00081105]\n",
      "\n",
      "##########################################################\n",
      "Function F at x: f(x)  1.76586242017692e-6\n",
      "Gradient at xk99 is:  [ 0.00019074 -0.00019246]\n",
      "####### Gradient Norm:  0.000270961\n",
      "The updated Value xk100 is \n",
      " [ 0.03645415 -0.0001916 ]\n",
      "\n",
      "##########################################################\n",
      "Function F at x: f(x)  7.82690890086872e-7\n",
      "Gradient at xk149 is:  [  9.98453907e-05  -3.61426821e-04]\n",
      "####### Gradient Norm:  0.000374965\n",
      "The updated Value xk150 is \n",
      " [ 0.02945574 -0.00023064]\n",
      "The check (gradient norm equation reach a val < epsilon, HENCE BREAKING OUT OF LOOP)\n"
     ]
    },
    {
     "data": {
      "image/png": "[encoded data removed]",
      "text/plain": [
       "<matplotlib.figure.Figure at 0x10f1b3e80>"
      ]
     },
     "metadata": {},
     "output_type": "display_data"
    }
   ],
   "source": [
    "x1 = Symbol('x1')\n",
    "x2 = Symbol('x2')\n",
    "f = x2**2 + (x1 + x2)**4\n",
    "deriv_1 = np.array([f.diff(x1), f.diff(x2)])\n",
    "print(deriv_1[0])\n",
    "print(deriv_1[1])\n",
    "\n",
    "# Initialize Xk\n",
    "xk = np.array([2,-2], dtype='float32')\n",
    "\n",
    "fx_array, gradientNorm_arr = iterateNonQuadratic(f, xk, deriv_1, \n",
    "                                                 function4, objective4,\n",
    "                                                 numFeature=2, numSteps=300, should_print=50)  \n",
    "plot([fx_array, gradientNorm_arr])"
   ]
  },
  {
   "cell_type": "code",
   "execution_count": 27,
   "metadata": {
    "collapsed": true,
    "scrolled": false
   },
   "outputs": [],
   "source": [
    "# x1 = Symbol('x1')\n",
    "# x2 = Symbol('x2')\n",
    "# f = pow(x1+x2,4) + pow(x2,2)\n",
    "# deriv_1 = np.array([f.diff(x1), f.diff(x2)])\n",
    "# Q = np.array([[deriv_1[0].diff(x1),deriv_1[0].diff(x2)],\n",
    "#                     [deriv_1[1].diff(x1),deriv_1[1].diff(x2)]])\n",
    "# print(deriv_1[0])\n",
    "# print(deriv_1[1])\n",
    "# print ('Q: \\n', Q)\n",
    "\n",
    "\n",
    "# # Initialize Xk\n",
    "# xk = np.array([2,-2], dtype='float32')\n",
    "\n",
    "# # fx_array = iterate(f, xk, deriv_1, Q, Bk, numFeatures=2, numSteps=5)\n",
    "\n",
    "# fx_array, gradientNorm_arr = iterateQuadratic(f, xk, deriv_1, numFeatures=2, numSteps=1000, should_print=200)\n",
    "\n",
    "# plot([fx_array, gradientNorm_arr])"
   ]
  },
  {
   "cell_type": "markdown",
   "metadata": {},
   "source": [
    "# Solution d(5)"
   ]
  },
  {
   "cell_type": "markdown",
   "metadata": {},
   "source": [
    "### a : (x1 - 1)**2 + (x2 - 1)**2 + (x1**2 + x2**2 - 0.25)**2\n"
   ]
  },
  {
   "cell_type": "code",
   "execution_count": 64,
   "metadata": {},
   "outputs": [
    {
     "name": "stdout",
     "output_type": "stream",
     "text": [
      "4*x1*(x1**2 + x2**2 - 0.25) + 2*x1 - 2\n",
      "4*x2*(x1**2 + x2**2 - 0.25) + 2*x2 - 2\n",
      "The check (gradient norm equation reach a val < epsilon, HENCE BREAKING OUT OF LOOP)\n"
     ]
    },
    {
     "data": {
      "image/png": "[encoded data removed]",
      "text/plain": [
       "<matplotlib.figure.Figure at 0x10e7f37f0>"
      ]
     },
     "metadata": {},
     "output_type": "display_data"
    }
   ],
   "source": [
    "x1 = Symbol('x1')\n",
    "x2 = Symbol('x2')\n",
    "f = (x1-1)**2 + (x2-1)**2 + (x1**2 + x2**2 -0.25)**2\n",
    "deriv_1 = np.array([f.diff(x1), f.diff(x2)])\n",
    "print(deriv_1[0])\n",
    "print(deriv_1[1])\n",
    "\n",
    "# Initialize Xk\n",
    "xk = np.array([1,-1], dtype='float32')\n",
    "\n",
    "fx_array, gradientNorm_arr = iterateNonQuadratic(f, xk, deriv_1, \n",
    "                                                 function5a, objective5a,\n",
    "                                                 numFeature=2, numSteps=300, should_print=50)  \n",
    "plot([fx_array, gradientNorm_arr])"
   ]
  },
  {
   "cell_type": "code",
   "execution_count": 29,
   "metadata": {
    "collapsed": true
   },
   "outputs": [],
   "source": [
    "# c = 1\n",
    "# x1 = Symbol('x1')\n",
    "# x2 = Symbol('x2')\n",
    "# f = pow(x1-1, 2) + pow(x2-1, 2) + c*pow((pow(x1,0) + pow(x2,2) - 0.25), 2)\n",
    "# deriv_1 = np.array([f.diff(x1), f.diff(x2)])\n",
    "# Q = np.array([[deriv_1[0].diff(x1),deriv_1[0].diff(x2)],\n",
    "#                     [deriv_1[1].diff(x1),deriv_1[1].diff(x2)]])\n",
    "\n",
    "# print ('Q: \\n', Q)\n",
    "\n",
    "\n",
    "# # Initialize Xk\n",
    "# xk = np.array([1,-1], dtype='float32')\n",
    "\n",
    "# # fx_array = iterate(f, xk, deriv_1, Q, Bk, numFeatures=2, numSteps=5)\n",
    "\n",
    "# fx_array, gradientNorm_arr = iterate(f, xk, deriv_1, Q, numFeatures=2, numSteps=1000, should_print=100)\n",
    "\n",
    "# plot([fx_array, gradientNorm_arr])"
   ]
  },
  {
   "cell_type": "markdown",
   "metadata": {},
   "source": [
    "### b : (x1 - 1)**2 + (x2 - 1)**2 + 10*(x1**2 + x2**2 - 0.25)**2"
   ]
  },
  {
   "cell_type": "code",
   "execution_count": 67,
   "metadata": {},
   "outputs": [
    {
     "name": "stdout",
     "output_type": "stream",
     "text": [
      "40*x1*(x1**2 + x2**2 - 0.25) + 2*x1 - 2\n",
      "40*x2*(x1**2 + x2**2 - 0.25) + 2*x2 - 2\n",
      "The check (gradient norm equation reach a val < epsilon, HENCE BREAKING OUT OF LOOP)\n"
     ]
    },
    {
     "data": {
      "image/png": "[encoded data removed]",
      "text/plain": [
       "<matplotlib.figure.Figure at 0x10e0e7780>"
      ]
     },
     "metadata": {},
     "output_type": "display_data"
    }
   ],
   "source": [
    "x1 = Symbol('x1')\n",
    "x2 = Symbol('x2')\n",
    "f = (x1-1)**2 + (x2-1)**2 + 10*(x1**2 + x2**2 -0.25)**2\n",
    "deriv_1 = np.array([f.diff(x1), f.diff(x2)])\n",
    "print(deriv_1[0])\n",
    "print(deriv_1[1])\n",
    "\n",
    "# Initialize Xk\n",
    "xk = np.array([1,-1], dtype='float32')\n",
    "\n",
    "fx_array, gradientNorm_arr = iterateNonQuadratic(f, xk, deriv_1, \n",
    "                                                 function5b, objective5b,\n",
    "                                                 numFeature=2, numSteps=300, should_print=50)  \n",
    "plot([fx_array, gradientNorm_arr])"
   ]
  },
  {
   "cell_type": "code",
   "execution_count": 31,
   "metadata": {
    "collapsed": true
   },
   "outputs": [],
   "source": [
    "# c = 10\n",
    "# x1 = Symbol('x1')\n",
    "# x2 = Symbol('x2')\n",
    "# f = pow(x1-1, 2) + pow(x2-1, 2) + c*pow((pow(x1,0) + pow(x2,2) - 0.25), 2)\n",
    "# deriv_1 = np.array([f.diff(x1), f.diff(x2)])\n",
    "# Q = np.array([[deriv_1[0].diff(x1),deriv_1[0].diff(x2)],\n",
    "#                     [deriv_1[1].diff(x1),deriv_1[1].diff(x2)]])\n",
    "\n",
    "# print ('Q: \\n', Q)\n",
    "\n",
    "\n",
    "# # Initialize Xk\n",
    "# xk = np.array([1,-1], dtype='float32')\n",
    "\n",
    "# # fx_array = iterate(f, xk, deriv_1, Q, Bk, numFeatures=2, numSteps=5)\n",
    "\n",
    "# fx_array, gradientNorm_arr = iterate(f, xk, deriv_1, Q, numFeatures=2, numSteps=1000, should_print=100)\n",
    "\n",
    "# plot([fx_array, gradientNorm_arr])"
   ]
  },
  {
   "cell_type": "markdown",
   "metadata": {},
   "source": [
    "### c: (x1 - 1)**2 + (x2 - 1)**2 + 100*(x1**2 + x2**2 - 0.25)**2"
   ]
  },
  {
   "cell_type": "code",
   "execution_count": 70,
   "metadata": {
    "scrolled": false
   },
   "outputs": [
    {
     "name": "stdout",
     "output_type": "stream",
     "text": [
      "400*x1*(x1**2 + x2**2 - 0.25) + 2*x1 - 2\n",
      "400*x2*(x1**2 + x2**2 - 0.25) + 2*x2 - 2\n",
      "\n",
      "##########################################################\n",
      "Function F at x: f(x)  0.845751224842253\n",
      "Gradient at xk9 is:  [ 1.05012631  0.25713724]\n",
      "####### Gradient Norm:  1.08115\n",
      "The updated Value xk10 is \n",
      " [ 0.41261211  0.30533889]\n",
      "\n",
      "##########################################################\n",
      "Function F at x: f(x)  0.832473526056737\n",
      "Gradient at xk19 is:  [ 0.21872775 -0.11709768]\n",
      "####### Gradient Norm:  0.2481\n",
      "The updated Value xk20 is \n",
      " [ 0.38824162  0.32947758]\n",
      "\n",
      "##########################################################\n",
      "Function F at x: f(x)  0.827654875396328\n",
      "Gradient at xk29 is:  [ 0.0075177   0.00809907]\n",
      "####### Gradient Norm:  0.0110504\n",
      "The updated Value xk30 is \n",
      " [ 0.35977414  0.35987833]\n",
      "The check (gradient norm equation reach a val < epsilon, HENCE BREAKING OUT OF LOOP)\n"
     ]
    },
    {
     "data": {
      "image/png": "[encoded data removed]",
      "text/plain": [
       "<matplotlib.figure.Figure at 0x10e3e6d68>"
      ]
     },
     "metadata": {},
     "output_type": "display_data"
    }
   ],
   "source": [
    "x1 = Symbol('x1')\n",
    "x2 = Symbol('x2')\n",
    "f = (x1-1)**2 + (x2-1)**2 + 100*(x1**2 + x2**2 -0.25)**2\n",
    "deriv_1 = np.array([f.diff(x1), f.diff(x2)])\n",
    "print(deriv_1[0])\n",
    "print(deriv_1[1])\n",
    "\n",
    "# Initialize Xk\n",
    "xk = np.array([1,-1], dtype='float32')\n",
    "\n",
    "fx_array, gradientNorm_arr = iterateNonQuadratic(f, xk, deriv_1, \n",
    "                                                 function5c, objective5c,\n",
    "                                                 numFeature=2, numSteps=100, should_print=10)  \n",
    "plot([fx_array, gradientNorm_arr])"
   ]
  },
  {
   "cell_type": "code",
   "execution_count": null,
   "metadata": {
    "collapsed": true
   },
   "outputs": [],
   "source": []
  },
  {
   "cell_type": "code",
   "execution_count": null,
   "metadata": {
    "collapsed": true
   },
   "outputs": [],
   "source": []
  },
  {
   "cell_type": "code",
   "execution_count": null,
   "metadata": {
    "collapsed": true
   },
   "outputs": [],
   "source": []
  },
  {
   "cell_type": "code",
   "execution_count": null,
   "metadata": {
    "collapsed": true
   },
   "outputs": [],
   "source": []
  },
  {
   "cell_type": "code",
   "execution_count": null,
   "metadata": {
    "collapsed": true
   },
   "outputs": [],
   "source": []
  },
  {
   "cell_type": "code",
   "execution_count": null,
   "metadata": {
    "collapsed": true
   },
   "outputs": [],
   "source": []
  },
  {
   "cell_type": "code",
   "execution_count": null,
   "metadata": {
    "collapsed": true
   },
   "outputs": [],
   "source": []
  },
  {
   "cell_type": "code",
   "execution_count": 18,
   "metadata": {
    "collapsed": true
   },
   "outputs": [],
   "source": [
    "def steepestDescent_NonQuadraticFnc(xk, deriv_1, gradient_xk):             \n",
    "    fk1 = xk - np.array([Symbol('alpha')*grd for grd in gradient_xk])\n",
    "    fk1_subs = np.array([deriv_1[0].subs(x1, fk1[0]).subs(x2, fk1[1]),\n",
    "                         deriv_1[1].subs(x1, fk1[0]).subs(x2, fk1[1])])\n",
    "#     print('')\n",
    "#     print(fk1)\n",
    "#     print(len(fk1_subs))\n",
    "#     print(fk1_subs[0])\n",
    "#     print(fk1_subs[1])\n",
    "    fk1_subs = np.dot(fk1_subs, gradient_xk)\n",
    "#     print('')\n",
    "#     print(len(fk1_subs), fk1_subs)\n",
    "#     print(len(fk1_subs), gradient_xk)\n",
    "    alpha = solve(str(fk1_subs))\n",
    "#     print(len(alpha))\n",
    "#     print(gradient_xk)\n",
    "    \n",
    "    xk1_arr = []\n",
    "    for i in alpha:\n",
    "        print ('%^%^%^%^%^%^%^%^%^%^^%%')\n",
    "        xk1 = xk - (i*gradient_xk)\n",
    "        print (xk, [cmath.phase(k) for k in xk1.real])\n",
    "#         print(len(xk1), )\n",
    "        xk1_arr.append([cmath.phase(k) for k in xk1.real])\n",
    "#     print ('@#@#@#@#@#@#', [np.array(xk) - np.array(xk1_arr) for xk1s in xk1_arr])\n",
    "    \n",
    "    return xk1_arr[2]\n",
    "\n",
    "def iterateNonQuadratic(f, xk, deriv_1, numFeature, numSteps, should_print):\n",
    "    fx_arr = []\n",
    "    gradientNorm_arr = []\n",
    "    for step in range(numSteps):\n",
    "        # Solve for gradient\n",
    "        fx = f.evalf(subs={x1:xk[0], x2:xk[1]})\n",
    "        fx_arr.append(fx)\n",
    "        gradient_xk = np.array([eq.evalf(subs={x1:xk[0], x2:xk[1]}) for eq in deriv_1], dtype='float32')\n",
    "        gradientNorm_arr.append(gradient_xk)\n",
    "        print ('Gradient of function at xstep at iteration %s is: '%(step), gradient_xk)\n",
    "        print ('Gradient Norm is: ', np.linalg.norm(gradient_xk))\n",
    "\n",
    "        xk1 = steepestDescent_NonQuadraticFnc(xk, deriv_1, gradient_xk)\n",
    "        xk = xk1\n",
    "        \n",
    "    return fx_arr, gradientNorm_arr"
   ]
  }
 ],
 "metadata": {
  "kernelspec": {
   "display_name": "Python 3",
   "language": "python",
   "name": "python3"
  },
  "language_info": {
   "codemirror_mode": {
    "name": "ipython",
    "version": 3
   },
   "file_extension": ".py",
   "mimetype": "text/x-python",
   "name": "python",
   "nbconvert_exporter": "python",
   "pygments_lexer": "ipython3",
   "version": "3.6.1"
  }
 },
 "nbformat": 4,
 "nbformat_minor": 2
}
