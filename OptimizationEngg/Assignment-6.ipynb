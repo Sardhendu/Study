{
 "cells": [
  {
   "cell_type": "code",
   "execution_count": null,
   "metadata": {
    "collapsed": true
   },
   "outputs": [],
   "source": [
    "from __future__ import division\n",
    "import numpy as np"
   ]
  },
  {
   "cell_type": "code",
   "execution_count": 11,
   "metadata": {},
   "outputs": [
    {
     "data": {
      "text/plain": [
       "array([[ 40.],\n",
       "       [ 40.],\n",
       "       [ 20.]])"
      ]
     },
     "execution_count": 11,
     "metadata": {},
     "output_type": "execute_result"
    }
   ],
   "source": [
    "BB = np.array([[2,1,0,0,1],\n",
    "               [1,1,0,1,0],\n",
    "               [1,0,1,0,0]])\n",
    "\n",
    "B = BB[:,[0,3,4]]\n",
    "b = np.array([[100],[80],[40]])\n",
    "\n",
    "np.dot(np.linalg.inv(B), b)"
   ]
  },
  {
   "cell_type": "code",
   "execution_count": 24,
   "metadata": {},
   "outputs": [
    {
     "data": {
      "text/plain": [
       "array([[ 30.],\n",
       "       [ 12.]])"
      ]
     },
     "execution_count": 24,
     "metadata": {},
     "output_type": "execute_result"
    }
   ],
   "source": [
    "BB = np.array([[-3,2,1,0],\n",
    "               [-2,1,0,1]])\n",
    "\n",
    "B = BB[:,[2,3]]\n",
    "b = np.array([[30],[12]])\n",
    "\n",
    "np.dot(np.linalg.inv(B), b)"
   ]
  },
  {
   "cell_type": "code",
   "execution_count": 17,
   "metadata": {},
   "outputs": [],
   "source": [
    "BB = np.array([[0,2,(30/11)],\n",
    "               [4,0,(4/11)],\n",
    "               [1,1,1]])\n",
    "\n",
    "CC = np.array([[2,3,(30/11)],\n",
    "               [0,0,(4/11)],\n",
    "               [1,1,1]])"
   ]
  },
  {
   "cell_type": "code",
   "execution_count": 19,
   "metadata": {},
   "outputs": [
    {
     "data": {
      "text/plain": [
       "array([[ 1.25],\n",
       "       [-3.  ],\n",
       "       [ 2.75]])"
      ]
     },
     "execution_count": 19,
     "metadata": {},
     "output_type": "execute_result"
    }
   ],
   "source": [
    "np.dot(np.linalg.inv(CC), np.array([[1],[1],[1]]))"
   ]
  },
  {
   "cell_type": "code",
   "execution_count": null,
   "metadata": {
    "collapsed": true
   },
   "outputs": [],
   "source": []
  }
 ],
 "metadata": {
  "kernelspec": {
   "display_name": "Python 3",
   "language": "python",
   "name": "python3"
  },
  "language_info": {
   "codemirror_mode": {
    "name": "ipython",
    "version": 3
   },
   "file_extension": ".py",
   "mimetype": "text/x-python",
   "name": "python",
   "nbconvert_exporter": "python",
   "pygments_lexer": "ipython3",
   "version": "3.6.1"
  }
 },
 "nbformat": 4,
 "nbformat_minor": 1
}
