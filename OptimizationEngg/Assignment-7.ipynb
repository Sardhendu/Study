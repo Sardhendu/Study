{
 "cells": [
  {
   "cell_type": "code",
   "execution_count": 1,
   "metadata": {
    "collapsed": true
   },
   "outputs": [],
   "source": [
    "from __future__ import division\n",
    " \n",
    "import numpy as np"
   ]
  },
  {
   "cell_type": "markdown",
   "metadata": {},
   "source": [
    "#### Question 2.1 - (i) page(84): "
   ]
  },
  {
   "cell_type": "code",
   "execution_count": 27,
   "metadata": {},
   "outputs": [
    {
     "name": "stdout",
     "output_type": "stream",
     "text": [
      "B:  [[ 1  1  1]\n",
      " [ 1 -1  1]\n",
      " [ 0  1  1]]\n",
      "Z:  [[-1.]\n",
      " [-1.]\n",
      " [ 1.]\n",
      " [ 1.]]\n",
      "isZeros:  [[ 0.]\n",
      " [ 0.]\n",
      " [ 0.]]\n"
     ]
    }
   ],
   "source": [
    "A = np.array([[1,1,1,1], [1,-1,-1,1],[0,1,0,1]])\n",
    "\n",
    "B = A[:,[0,1,3]]\n",
    "N = A[:,[2]]\n",
    "\n",
    "print ('B: ', B)\n",
    "\n",
    "B_inv = np.linalg.inv(B)\n",
    "\n",
    "Z = -1 * np.dot(B_inv, N)\n",
    "\n",
    "Z = Z.flatten()\n",
    "Z = np.append(Z, 1)\n",
    "Z = Z.reshape(4,1)\n",
    "\n",
    "print ('Z: ', Z)\n",
    "isZero = np.dot(A, Z)\n",
    "print ('isZeros: ', isZero)\n",
    "\n",
    "\n"
   ]
  },
  {
   "cell_type": "code",
   "execution_count": 34,
   "metadata": {},
   "outputs": [
    {
     "data": {
      "text/plain": [
       "array([-1.5 ,  2.25,  2.5 ,  0.75])"
      ]
     },
     "execution_count": 34,
     "metadata": {},
     "output_type": "execute_result"
    }
   ],
   "source": [
    "A = np.array([[1,1,0,-1],[1,-1,1,-1],[1,-1,0,1],[1,1,1,1]])\n",
    "b1 = np.array([1,3,1,2])\n",
    "b2 = np.array([0,-2,-3,4])\n",
    "np.linalg.solve(A,b2)"
   ]
  },
  {
   "cell_type": "markdown",
   "metadata": {},
   "source": [
    "#### Question 2.1 - (ii) page(84): "
   ]
  },
  {
   "cell_type": "code",
   "execution_count": 37,
   "metadata": {},
   "outputs": [
    {
     "name": "stdout",
     "output_type": "stream",
     "text": [
      "B:  [[1]]\n",
      "B_INV:  [[ 1.]]\n",
      "Z:  [[-1.]\n",
      " [-1.]\n",
      " [-1.]\n",
      " [ 1.]]\n",
      "isZeros:  [[-2.]]\n"
     ]
    }
   ],
   "source": [
    "A = np.array([[1,1,1,1]])\n",
    "\n",
    "B = A[:,[0]]\n",
    "N = A[:,[1,2,3]]\n",
    "\n",
    "print ('B: ', B)\n",
    "\n",
    "B_inv = np.linalg.inv(B)\n",
    "\n",
    "print ('B_INV: ', B_inv)\n",
    "\n",
    "Z = -1 * np.dot(B_inv, N)\n",
    "\n",
    "Z = Z.flatten()\n",
    "Z = np.append(Z, 1)\n",
    "Z = Z.reshape(4,1)\n",
    "\n",
    "print ('Z: ', Z)\n",
    "isZero = np.dot(A, Z)\n",
    "print ('isZeros: ', isZero)\n",
    "\n",
    "\n"
   ]
  },
  {
   "cell_type": "code",
   "execution_count": 40,
   "metadata": {},
   "outputs": [
    {
     "data": {
      "text/plain": [
       "array([  0.,   5., -13.,   1.])"
      ]
     },
     "execution_count": 40,
     "metadata": {},
     "output_type": "execute_result"
    }
   ],
   "source": [
    "A = np.array([[1,-1,-1,-1],\n",
    "              [1,1,0,0],\n",
    "              [1,0,1,0],\n",
    "              [1,0,0,1]])\n",
    "b1 = np.array([7,5,-13,1])\n",
    "# b2 = np.array([0,-2,-3,4])\n",
    "np.linalg.solve(A,b1)"
   ]
  },
  {
   "cell_type": "code",
   "execution_count": null,
   "metadata": {
    "collapsed": true
   },
   "outputs": [],
   "source": []
  }
 ],
 "metadata": {
  "kernelspec": {
   "display_name": "Python 3",
   "language": "python",
   "name": "python3"
  },
  "language_info": {
   "codemirror_mode": {
    "name": "ipython",
    "version": 3
   },
   "file_extension": ".py",
   "mimetype": "text/x-python",
   "name": "python",
   "nbconvert_exporter": "python",
   "pygments_lexer": "ipython3",
   "version": "3.6.1"
  }
 },
 "nbformat": 4,
 "nbformat_minor": 2
}
