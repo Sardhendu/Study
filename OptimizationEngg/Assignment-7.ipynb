{
 "cells": [
  {
   "cell_type": "code",
   "execution_count": 1,
   "metadata": {
    "collapsed": true
   },
   "outputs": [],
   "source": [
    "from __future__ import division\n",
    " \n",
    "import numpy as np"
   ]
  },
  {
   "cell_type": "markdown",
   "metadata": {},
   "source": [
    "#### Question 2.1 - (i) page(84): "
   ]
  },
  {
   "cell_type": "code",
   "execution_count": 27,
   "metadata": {},
   "outputs": [
    {
     "name": "stdout",
     "output_type": "stream",
     "text": [
      "B:  [[ 1  1  1]\n",
      " [ 1 -1  1]\n",
      " [ 0  1  1]]\n",
      "Z:  [[-1.]\n",
      " [-1.]\n",
      " [ 1.]\n",
      " [ 1.]]\n",
      "isZeros:  [[ 0.]\n",
      " [ 0.]\n",
      " [ 0.]]\n"
     ]
    }
   ],
   "source": [
    "A = np.array([[1,1,1,1], [1,-1,-1,1],[0,1,0,1]])\n",
    "\n",
    "B = A[:,[0,1,3]]\n",
    "N = A[:,[2]]\n",
    "\n",
    "print ('B: ', B)\n",
    "\n",
    "B_inv = np.linalg.inv(B)\n",
    "\n",
    "Z = -1 * np.dot(B_inv, N)\n",
    "\n",
    "Z = Z.flatten()\n",
    "Z = np.append(Z, 1)\n",
    "Z = Z.reshape(4,1)\n",
    "\n",
    "print ('Z: ', Z)\n",
    "isZero = np.dot(A, Z)\n",
    "print ('isZeros: ', isZero)\n",
    "\n",
    "\n"
   ]
  },
  {
   "cell_type": "code",
   "execution_count": 34,
   "metadata": {},
   "outputs": [
    {
     "data": {
      "text/plain": [
       "array([-1.5 ,  2.25,  2.5 ,  0.75])"
      ]
     },
     "execution_count": 34,
     "metadata": {},
     "output_type": "execute_result"
    }
   ],
   "source": [
    "A = np.array([[1,1,0,-1],[1,-1,1,-1],[1,-1,0,1],[1,1,1,1]])\n",
    "b1 = np.array([1,3,1,2])\n",
    "b2 = np.array([0,-2,-3,4])\n",
    "np.linalg.solve(A,b2)"
   ]
  },
  {
   "cell_type": "markdown",
   "metadata": {},
   "source": [
    "#### Question 2.1 - (ii) page(84): "
   ]
  },
  {
   "cell_type": "code",
   "execution_count": 37,
   "metadata": {},
   "outputs": [
    {
     "name": "stdout",
     "output_type": "stream",
     "text": [
      "B:  [[1]]\n",
      "B_INV:  [[ 1.]]\n",
      "Z:  [[-1.]\n",
      " [-1.]\n",
      " [-1.]\n",
      " [ 1.]]\n",
      "isZeros:  [[-2.]]\n"
     ]
    }
   ],
   "source": [
    "A = np.array([[1,1,1,1]])\n",
    "\n",
    "B = A[:,[0]]\n",
    "N = A[:,[1,2,3]]\n",
    "\n",
    "print ('B: ', B)\n",
    "\n",
    "B_inv = np.linalg.inv(B)\n",
    "\n",
    "print ('B_INV: ', B_inv)\n",
    "\n",
    "Z = -1 * np.dot(B_inv, N)\n",
    "\n",
    "Z = Z.flatten()\n",
    "Z = np.append(Z, 1)\n",
    "Z = Z.reshape(4,1)\n",
    "\n",
    "print ('Z: ', Z)\n",
    "isZero = np.dot(A, Z)\n",
    "print ('isZeros: ', isZero)\n",
    "\n",
    "\n"
   ]
  },
  {
   "cell_type": "code",
   "execution_count": 40,
   "metadata": {},
   "outputs": [
    {
     "data": {
      "text/plain": [
       "array([  0.,   5., -13.,   1.])"
      ]
     },
     "execution_count": 40,
     "metadata": {},
     "output_type": "execute_result"
    }
   ],
   "source": [
    "A = np.array([[1,-1,-1,-1],\n",
    "              [1,1,0,0],\n",
    "              [1,0,1,0],\n",
    "              [1,0,0,1]])\n",
    "b1 = np.array([7,5,-13,1])\n",
    "# b2 = np.array([0,-2,-3,4])\n",
    "np.linalg.solve(A,b1)"
   ]
  },
  {
   "cell_type": "markdown",
   "metadata": {
    "collapsed": true
   },
   "source": [
    "### Question 2.1, Page:481"
   ]
  },
  {
   "cell_type": "code",
   "execution_count": 67,
   "metadata": {},
   "outputs": [
    {
     "name": "stdout",
     "output_type": "stream",
     "text": [
      "[[2*x1*x3**2 + 2*x1 + 2*x2]\n",
      " [2*x1 + 4*x2**3 + 8]\n",
      " [2*x1**2*x3]]\n",
      "[[-2.5 -0.5]\n",
      " [ 1.   0. ]\n",
      " [ 0.   1. ]]\n",
      "\n",
      "[0 0 2]\n",
      "[0.e-125 8.00000000000000 0]\n",
      "[8.00000000000000 -5.90910631538287e-126]\n",
      "\n",
      "[0 0 3]\n",
      "[0.e-125 8.00000000000000 0]\n",
      "[8.00000000000000 -5.90910631538287e-126]\n",
      "\n",
      "[1 0 1]\n",
      "[4.00000000000000 10.0000000000000 2.00000000000000]\n",
      "[0 0]\n"
     ]
    }
   ],
   "source": [
    "import numpy as np\n",
    "import sympy as sp\n",
    "\n",
    "x1 = sp.Symbol('x1')\n",
    "x2 = sp.Symbol('x2')\n",
    "x3 = sp.Symbol('x3')\n",
    "fx = pow(x1,2) + pow(x1,2)*pow(x3,2) + 2*x1*x2 + pow(x2,4) + 8*x2\n",
    "constraint = [2*x1 + 5*x2 + x3]\n",
    "\n",
    "deriv1 = np.array([fx.diff(inp) for inp in [x1,x2,x3]]).reshape(3,1)\n",
    "deriv2 = np.array([order1.diff(diff_wrt) \n",
    "                   for order1 in deriv1.flatten() \n",
    "                   for diff_wrt in [x1,x2,x3]]).reshape(3,3)\n",
    "\n",
    "print (deriv1)\n",
    "A = [2,5,1]\n",
    "b = 3\n",
    "B = 2\n",
    "N = np.array([5,1])\n",
    "Z = np.array([-1*(1/B)*N])\n",
    "Z = np.vstack((Z, [1,0], [0,1]))\n",
    "print (Z)\n",
    "# Check if the first order derivative is 0. To show the 1st order derivative is 0 we substitute\n",
    "# different values of [x1,x2,x3] into deriv1 and perform np.dot(Z.T, deriv1)\n",
    "X_arr = np.array([[0,0,2], [0,0,3], [1,0,1]]) # x1=0, x2=0, x3=2\n",
    "for X in X_arr:\n",
    "    print ('')\n",
    "    print (X)\n",
    "    deriv1_subs = np.array([fnc.evalf(subs={x1:X[0], x2:X[1], x3:X[2]}) for fnc in deriv1.flatten()])\n",
    "    print (deriv1_subs)\n",
    "    print(np.dot(Z.T,deriv1_subs))\n",
    "\n",
    "# Check if the second order derivative is positive semi definite\n"
   ]
  },
  {
   "cell_type": "code",
   "execution_count": 76,
   "metadata": {},
   "outputs": [
    {
     "name": "stdout",
     "output_type": "stream",
     "text": [
      "\n",
      "[1 0 1]\n",
      "[1 0 1]\n",
      "[4.00000000000000 10.0000000000000 2.00000000000000]\n",
      "[0 0]\n",
      "\n",
      "[ 1.01  0.01  1.01]\n",
      "[4.10060200000000 10.0200040000000 2.06060200000000]\n",
      "[-0.231501000000002 0.0103010000000001]\n",
      "\n",
      "[ 0.99  0.01  1.01]\n",
      "[4.01979800000000 9.98000400000000 1.97980200000000]\n",
      "[-0.0694910000000011 -0.0300969999999998]\n"
     ]
    }
   ],
   "source": [
    "# Show if the stationary point [1,0,1] is minimizer, maximizer or saddle point\n",
    "X_arr = np.array([[1,0,1]]) # x1=0, x2=0, x3=2\n",
    "for X in X_arr:\n",
    "    print ('')\n",
    "    print (X)\n",
    "    XCopy = X\n",
    "    print (XCopy)\n",
    "    deriv1_subs1 = np.array([fnc.evalf(subs={x1:XCopy[0], x2:XCopy[1], x3:XCopy[2]}) for fnc in deriv1.flatten()])\n",
    "    print (deriv1_subs1)\n",
    "    print(np.dot(Z.T,deriv1_subs1))\n",
    "    print ('')\n",
    "    \n",
    "    XCopy = X+0.01\n",
    "    print (XCopy)\n",
    "    deriv1_subs2 = np.array([fnc.evalf(subs={x1:XCopy[0], x2:XCopy[1], x3:XCopy[2]}) for fnc in deriv1.flatten()])\n",
    "    print (deriv1_subs2)\n",
    "    print(np.dot(Z.T,deriv1_subs2))\n",
    "    print('')\n",
    "    \n",
    "    XCopy = np.array([X[0]-0.01, X[1]+0.01, X[2]+0.01])\n",
    "    print (XCopy)\n",
    "    deriv1_subs3 = np.array([fnc.evalf(subs={x1:XCopy[0], x2:XCopy[1], x3:XCopy[2]}) for fnc in deriv1.flatten()])\n",
    "    print (deriv1_subs3)\n",
    "    print(np.dot(Z.T,deriv1_subs3))\n",
    "#     print(np.dot(Z.T,deriv1_subs))"
   ]
  },
  {
   "cell_type": "code",
   "execution_count": 58,
   "metadata": {},
   "outputs": [
    {
     "name": "stdout",
     "output_type": "stream",
     "text": [
      "[[-5.0*x1*x3**2 - 3.0*x1 + 4.0*x2**3 - 5.0*x2 + 8.0]\n",
      " [2.0*x1**2*x3 - 1.0*x1*x3**2 - 1.0*x1 - 1.0*x2]\n",
      " [2*x1 + 5*x2 + x3]]\n",
      "\n",
      "solution x1,x2,x3 are:  [(1.00000000000000, 0.0, 1.00000000000000)]\n",
      "\n"
     ]
    }
   ],
   "source": [
    "# Finding the solution:\n",
    "\n",
    "eq1 = np.dot(Z.T,deriv1)\n",
    "eq2 = np.array([constraint])\n",
    "eq = np.vstack((eq1, eq2))\n",
    "\n",
    "print(eq)\n",
    "print('')\n",
    "\n",
    "\n",
    "from sympy.solvers import solve\n",
    "# Solving the system of equation Ax = b where b=[0,0,3]\n",
    "b_extended = np.array([0,0,3]) # 0's corresponds to eq1 and 3 corresponds to eq2\n",
    "e1 = -5.0*x1*x3**2 - 3.0*x1 + 4.0*x2**3 - 5.0*x2 + 8.0 - b_extended[0]\n",
    "e2 = 2.0*x1**2*x3 - 1.0*x1*x3**2 - 1.0*x1 - 1.0*x2 - b_extended[1]\n",
    "e3 = 2*x1 + 5*x2 + x3 - b_extended[2]\n",
    "print('solution x1,x2,x3 are: ', solve([e1,e2,e3],(x1,x2,x3)))\n",
    "print('')\n"
   ]
  }
 ],
 "metadata": {
  "kernelspec": {
   "display_name": "Python 3",
   "language": "python",
   "name": "python3"
  },
  "language_info": {
   "codemirror_mode": {
    "name": "ipython",
    "version": 3
   },
   "file_extension": ".py",
   "mimetype": "text/x-python",
   "name": "python",
   "nbconvert_exporter": "python",
   "pygments_lexer": "ipython3",
   "version": "3.6.1"
  }
 },
 "nbformat": 4,
 "nbformat_minor": 2
}
