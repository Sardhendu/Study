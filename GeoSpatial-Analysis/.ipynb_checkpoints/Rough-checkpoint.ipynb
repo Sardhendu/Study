{
 "cells": [
  {
   "cell_type": "code",
   "execution_count": 7,
   "metadata": {
    "collapsed": true
   },
   "outputs": [],
   "source": [
    "import matplotlib\n",
    "import numpy as np\n",
    "from matplotlib.mlab import griddata\n",
    "import matplotlib.cm as cm\n",
    "import matplotlib.pyplot as plt\n",
    "import math\n",
    "from scipy.spatial import KDTree\n",
    "import time\n",
    "import scipy.ndimage as ndi\n",
    "\n",
    "%matplotlib inline"
   ]
  },
  {
   "cell_type": "code",
   "execution_count": null,
   "metadata": {
    "collapsed": true
   },
   "outputs": [],
   "source": [
    "def grid_density_kdtree(xl, yl, xi, yi, dfactor):\n",
    "    zz = np.empty([len(xi),len(yi)], dtype=np.uint8)\n",
    "    zipped = zip(xl, yl)\n",
    "    kdtree = KDTree(zipped)\n",
    "    for xci in range(0, len(xi)):\n",
    "        xc = xi[xci]\n",
    "        for yci in range(0, len(yi)):\n",
    "            yc = yi[yci]\n",
    "            density = 0.\n",
    "            retvalset = kdtree.query((xc,yc), k=5)\n",
    "            for dist in retvalset[0]:\n",
    "                density = density + math.exp(-dfactor * pow(dist, 2)) / 5\n",
    "            zz[yci][xci] = min(density, 1.0) * 255\n",
    "    return zz"
   ]
  },
  {
   "cell_type": "code",
   "execution_count": 10,
   "metadata": {
    "collapsed": false
   },
   "outputs": [
    {
     "ename": "NameError",
     "evalue": "name 'grid_density_kdtree' is not defined",
     "output_type": "error",
     "traceback": [
      "\u001b[0;31m---------------------------------------------------------------------------\u001b[0m",
      "\u001b[0;31mNameError\u001b[0m                                 Traceback (most recent call last)",
      "\u001b[0;32m<ipython-input-10-9c0ed313f949>\u001b[0m in \u001b[0;36m<module>\u001b[0;34m()\u001b[0m\n\u001b[1;32m     44\u001b[0m \u001b[0myi\u001b[0m \u001b[0;34m=\u001b[0m \u001b[0mnp\u001b[0m\u001b[0;34m.\u001b[0m\u001b[0mlinspace\u001b[0m\u001b[0;34m(\u001b[0m\u001b[0mview_ymin\u001b[0m\u001b[0;34m,\u001b[0m \u001b[0mview_ymax\u001b[0m\u001b[0;34m,\u001b[0m \u001b[0;36m256\u001b[0m\u001b[0;34m)\u001b[0m\u001b[0;34m\u001b[0m\u001b[0m\n\u001b[1;32m     45\u001b[0m \u001b[0mt0\u001b[0m \u001b[0;34m=\u001b[0m \u001b[0mtime\u001b[0m\u001b[0;34m.\u001b[0m\u001b[0mclock\u001b[0m\u001b[0;34m(\u001b[0m\u001b[0;34m)\u001b[0m\u001b[0;34m\u001b[0m\u001b[0m\n\u001b[0;32m---> 46\u001b[0;31m \u001b[0mzd\u001b[0m \u001b[0;34m=\u001b[0m \u001b[0mgrid_density_kdtree\u001b[0m\u001b[0;34m(\u001b[0m\u001b[0mxl\u001b[0m\u001b[0;34m,\u001b[0m \u001b[0myl\u001b[0m\u001b[0;34m,\u001b[0m \u001b[0mxi\u001b[0m\u001b[0;34m,\u001b[0m \u001b[0myi\u001b[0m\u001b[0;34m,\u001b[0m \u001b[0;36m70\u001b[0m\u001b[0;34m)\u001b[0m\u001b[0;34m\u001b[0m\u001b[0m\n\u001b[0m\u001b[1;32m     47\u001b[0m \u001b[0mplt\u001b[0m\u001b[0;34m.\u001b[0m\u001b[0mtitle\u001b[0m\u001b[0;34m(\u001b[0m\u001b[0;34m'function of 5 nearest using kdtree\\n'\u001b[0m\u001b[0;34m+\u001b[0m\u001b[0mstr\u001b[0m\u001b[0;34m(\u001b[0m\u001b[0mtime\u001b[0m\u001b[0;34m.\u001b[0m\u001b[0mclock\u001b[0m\u001b[0;34m(\u001b[0m\u001b[0;34m)\u001b[0m\u001b[0;34m-\u001b[0m\u001b[0mt0\u001b[0m\u001b[0;34m)\u001b[0m\u001b[0;34m+\u001b[0m\u001b[0;34m\"sec\"\u001b[0m\u001b[0;34m)\u001b[0m\u001b[0;34m\u001b[0m\u001b[0m\n\u001b[1;32m     48\u001b[0m \u001b[0mcmap\u001b[0m\u001b[0;34m=\u001b[0m\u001b[0mcm\u001b[0m\u001b[0;34m.\u001b[0m\u001b[0mjet\u001b[0m\u001b[0;34m\u001b[0m\u001b[0m\n",
      "\u001b[0;31mNameError\u001b[0m: name 'grid_density_kdtree' is not defined"
     ]
    },
    {
     "data": {
      "image/png": "[encoded data removed]",
      "text/plain": [
       "<matplotlib.figure.Figure at 0x114cba668>"
      ]
     },
     "metadata": {},
     "output_type": "display_data"
    }
   ],
   "source": [
    "# def generate_graph():    \n",
    "n = 1000\n",
    "# data points range\n",
    "data_ymin = -2.\n",
    "data_ymax = 2.\n",
    "data_xmin = -2.\n",
    "data_xmax = 2.\n",
    "# view area range\n",
    "view_ymin = -.5\n",
    "view_ymax = .5\n",
    "view_xmin = -.5\n",
    "view_xmax = .5\n",
    "# generate data\n",
    "xl = np.random.uniform(data_xmin, data_xmax, n)    \n",
    "yl = np.random.uniform(data_ymin, data_ymax, n)\n",
    "zl = np.random.uniform(0, 1, n)\n",
    "\n",
    "# xl\n",
    "# get visible data points\n",
    "xlvis = []\n",
    "ylvis = []\n",
    "for i in range(0,len(xl)):\n",
    "    if view_xmin < xl[i] < view_xmax and view_ymin < yl[i] < view_ymax:\n",
    "        xlvis.append(xl[i])\n",
    "        ylvis.append(yl[i])\n",
    "\n",
    "fig = plt.figure()\n",
    "\n",
    "\n",
    "#     # plot histogram\n",
    "plt1 = fig.add_subplot(221)\n",
    "plt1.set_axis_off()\n",
    "t0 = time.clock()\n",
    "zd, xe, ye = np.histogram2d(yl, xl, bins=10, range=[[view_ymin, view_ymax],[view_xmin, view_xmax]], normed=True)\n",
    "plt.title('numpy.histogram2d - '+str(time.clock()-t0)+\"sec\")\n",
    "plt.imshow(zd, origin='lower', extent=[view_xmin, view_xmax, view_ymin, view_ymax])\n",
    "plt.scatter(xlvis, ylvis)\n",
    "\n",
    "\n",
    "# plot density calculated with kdtree\n",
    "plt2 = fig.add_subplot(222)\n",
    "plt2.set_axis_off()\n",
    "xi = np.linspace(view_xmin, view_xmax, 256)\n",
    "yi = np.linspace(view_ymin, view_ymax, 256)\n",
    "t0 = time.clock()\n",
    "zd = grid_density_kdtree(xl, yl, xi, yi, 70)\n",
    "plt.title('function of 5 nearest using kdtree\\n'+str(time.clock()-t0)+\"sec\")\n",
    "cmap=cm.jet\n",
    "A = (cmap(zd/256.0)*255).astype(np.uint8)\n",
    "#A[:,:,3] = zd  \n",
    "plt.imshow(A , origin='lower', extent=[view_xmin, view_xmax, view_ymin, view_ymax])\n",
    "plt.scatter(xlvis, ylvis)\n",
    "\n",
    "#     # gaussian filter\n",
    "#     plt3 = fig.add_subplot(223)\n",
    "#     plt3.set_axis_off()\n",
    "#     t0 = time.clock()\n",
    "#     zd = grid_density_gaussian_filter(view_xmin, view_ymin, view_xmax, view_ymax, 256, 256, zip(xl, yl))\n",
    "#     plt.title('ndi.gaussian_filter - '+str(time.clock()-t0)+\"sec\")\n",
    "#     plt.imshow(zd , origin='lower', extent=[view_xmin, view_xmax, view_ymin, view_ymax])\n",
    "#     plt.scatter(xlvis, ylvis)\n",
    "\n",
    "#     # boxsum smoothing\n",
    "#     plt3 = fig.add_subplot(224)\n",
    "#     plt3.set_axis_off()\n",
    "#     t0 = time.clock()\n",
    "#     zd = grid_density_boxsum(view_xmin, view_ymin, view_xmax, view_ymax, 256, 256, zip(xl, yl))\n",
    "#     plt.title('boxsum smoothing - '+str(time.clock()-t0)+\"sec\")\n",
    "#     plt.imshow(zd, origin='lower', extent=[view_xmin, view_xmax, view_ymin, view_ymax])\n",
    "#     plt.scatter(xlvis, ylvis)"
   ]
  },
  {
   "cell_type": "code",
   "execution_count": null,
   "metadata": {
    "collapsed": true
   },
   "outputs": [],
   "source": []
  }
 ],
 "metadata": {
  "anaconda-cloud": {},
  "kernelspec": {
   "display_name": "Python [Root]",
   "language": "python",
   "name": "Python [Root]"
  },
  "language_info": {
   "codemirror_mode": {
    "name": "ipython",
    "version": 3
   },
   "file_extension": ".py",
   "mimetype": "text/x-python",
   "name": "python",
   "nbconvert_exporter": "python",
   "pygments_lexer": "ipython3",
   "version": "3.5.2"
  }
 },
 "nbformat": 4,
 "nbformat_minor": 2
}
