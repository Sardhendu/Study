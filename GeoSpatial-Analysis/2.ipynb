{
 "cells": [
  {
   "cell_type": "code",
   "execution_count": 2,
   "metadata": {
    "collapsed": false
   },
   "outputs": [],
   "source": [
    "library(ggplot2)\n",
    "library(ggmap)\n",
    "library(Rcpp)"
   ]
  },
  {
   "cell_type": "code",
   "execution_count": 7,
   "metadata": {
    "collapsed": false
   },
   "outputs": [
    {
     "data": {
      "text/html": [
       "<ol class=list-inline>\n",
       "\t<li>86314</li>\n",
       "\t<li>17</li>\n",
       "</ol>\n"
      ],
      "text/latex": [
       "\\begin{enumerate*}\n",
       "\\item 86314\n",
       "\\item 17\n",
       "\\end{enumerate*}\n"
      ],
      "text/markdown": [
       "1. 86314\n",
       "2. 17\n",
       "\n",
       "\n"
      ],
      "text/plain": [
       "[1] 86314    17"
      ]
     },
     "metadata": {},
     "output_type": "display_data"
    },
    {
     "data": {
      "text/html": [
       "<table>\n",
       "<thead><tr><th></th><th scope=col>time</th><th scope=col>date</th><th scope=col>hour</th><th scope=col>premise</th><th scope=col>offense</th><th scope=col>beat</th><th scope=col>block</th><th scope=col>street</th><th scope=col>type</th><th scope=col>suffix</th><th scope=col>number</th><th scope=col>month</th><th scope=col>day</th><th scope=col>location</th><th scope=col>address</th><th scope=col>lon</th><th scope=col>lat</th></tr></thead>\n",
       "<tbody>\n",
       "\t<tr><th scope=row>82729</th><td>2010-01-01              </td><td>1/1/2010                </td><td>0                       </td><td>18A                     </td><td>murder                  </td><td>15E30                   </td><td>9600-9699               </td><td>marlive                 </td><td>ln                      </td><td>-                       </td><td>1                       </td><td>january                 </td><td>friday                  </td><td>apartment parking lot   </td><td>9650 marlive ln         </td><td>-95.43739               </td><td>29.67790                </td></tr>\n",
       "\t<tr><th scope=row>82730</th><td>2010-01-01              </td><td>1/1/2010                </td><td>0                       </td><td>13R                     </td><td>robbery                 </td><td>13D10                   </td><td>4700-4799               </td><td>telephone               </td><td>rd                      </td><td>-                       </td><td>1                       </td><td>january                 </td><td>friday                  </td><td>road / street / sidewalk</td><td>4750 telephone rd       </td><td>-95.29888               </td><td>29.69171                </td></tr>\n",
       "\t<tr><th scope=row>82731</th><td>2010-01-01              </td><td>1/1/2010                </td><td>0                       </td><td>20R                     </td><td>aggravated assault      </td><td>16E20                   </td><td>5000-5099               </td><td>wickview                </td><td>ln                      </td><td>-                       </td><td>1                       </td><td>january                 </td><td>friday                  </td><td>residence / house       </td><td>5050 wickview ln        </td><td>-95.45586               </td><td>29.59922                </td></tr>\n",
       "\t<tr><th scope=row>82732</th><td>2010-01-01              </td><td>1/1/2010                </td><td>0                       </td><td>20R                     </td><td>aggravated assault      </td><td>2A30                    </td><td>1000-1099               </td><td>ashland                 </td><td>st                      </td><td>-                       </td><td>1                       </td><td>january                 </td><td>friday                  </td><td>residence / house       </td><td>1050 ashland st         </td><td>-95.40334               </td><td>29.79024                </td></tr>\n",
       "\t<tr><th scope=row>82733</th><td>2010-01-01              </td><td>1/1/2010                </td><td>0                       </td><td>20A                     </td><td>aggravated assault      </td><td>14D20                   </td><td>8300-8399               </td><td>canyon                  </td><td>                        </td><td>-                       </td><td>1                       </td><td>january                 </td><td>friday                  </td><td>apartment               </td><td>8350 canyon             </td><td>-95.37791               </td><td>29.67063                </td></tr>\n",
       "\t<tr><th scope=row>82734</th><td>2010-01-01              </td><td>1/1/2010                </td><td>0                       </td><td>20R                     </td><td>burglary                </td><td>18F60                   </td><td>9300-9399               </td><td>rowan                   </td><td>ln                      </td><td>-                       </td><td>1                       </td><td>january                 </td><td>friday                  </td><td>residence / house       </td><td>9350 rowan ln           </td><td>-95.54830               </td><td>29.70223                </td></tr>\n",
       "</tbody>\n",
       "</table>\n"
      ],
      "text/latex": [
       "\\begin{tabular}{r|lllllllllllllllll}\n",
       "  & time & date & hour & premise & offense & beat & block & street & type & suffix & number & month & day & location & address & lon & lat\\\\\n",
       "\\hline\n",
       "\t82729 & 2010-01-01               & 1/1/2010                 & 0                        & 18A                      & murder                   & 15E30                    & 9600-9699                & marlive                  & ln                       & -                        & 1                        & january                  & friday                   & apartment parking lot    & 9650 marlive ln          & -95.43739                & 29.67790                \\\\\n",
       "\t82730 & 2010-01-01               & 1/1/2010                 & 0                        & 13R                      & robbery                  & 13D10                    & 4700-4799                & telephone                & rd                       & -                        & 1                        & january                  & friday                   & road / street / sidewalk & 4750 telephone rd        & -95.29888                & 29.69171                \\\\\n",
       "\t82731 & 2010-01-01               & 1/1/2010                 & 0                        & 20R                      & aggravated assault       & 16E20                    & 5000-5099                & wickview                 & ln                       & -                        & 1                        & january                  & friday                   & residence / house        & 5050 wickview ln         & -95.45586                & 29.59922                \\\\\n",
       "\t82732 & 2010-01-01               & 1/1/2010                 & 0                        & 20R                      & aggravated assault       & 2A30                     & 1000-1099                & ashland                  & st                       & -                        & 1                        & january                  & friday                   & residence / house        & 1050 ashland st          & -95.40334                & 29.79024                \\\\\n",
       "\t82733 & 2010-01-01               & 1/1/2010                 & 0                        & 20A                      & aggravated assault       & 14D20                    & 8300-8399                & canyon                   &                          & -                        & 1                        & january                  & friday                   & apartment                & 8350 canyon              & -95.37791                & 29.67063                \\\\\n",
       "\t82734 & 2010-01-01               & 1/1/2010                 & 0                        & 20R                      & burglary                 & 18F60                    & 9300-9399                & rowan                    & ln                       & -                        & 1                        & january                  & friday                   & residence / house        & 9350 rowan ln            & -95.54830                & 29.70223                \\\\\n",
       "\\end{tabular}\n"
      ],
      "text/markdown": [
       "\n",
       "| <!--/--> | time | date | hour | premise | offense | beat | block | street | type | suffix | number | month | day | location | address | lon | lat | \n",
       "|---|---|---|---|---|---|\n",
       "| 82729 | 2010-01-01               | 1/1/2010                 | 0                        | 18A                      | murder                   | 15E30                    | 9600-9699                | marlive                  | ln                       | -                        | 1                        | january                  | friday                   | apartment parking lot    | 9650 marlive ln          | -95.43739                | 29.67790                 | \n",
       "| 82730 | 2010-01-01               | 1/1/2010                 | 0                        | 13R                      | robbery                  | 13D10                    | 4700-4799                | telephone                | rd                       | -                        | 1                        | january                  | friday                   | road / street / sidewalk | 4750 telephone rd        | -95.29888                | 29.69171                 | \n",
       "| 82731 | 2010-01-01               | 1/1/2010                 | 0                        | 20R                      | aggravated assault       | 16E20                    | 5000-5099                | wickview                 | ln                       | -                        | 1                        | january                  | friday                   | residence / house        | 5050 wickview ln         | -95.45586                | 29.59922                 | \n",
       "| 82732 | 2010-01-01               | 1/1/2010                 | 0                        | 20R                      | aggravated assault       | 2A30                     | 1000-1099                | ashland                  | st                       | -                        | 1                        | january                  | friday                   | residence / house        | 1050 ashland st          | -95.40334                | 29.79024                 | \n",
       "| 82733 | 2010-01-01               | 1/1/2010                 | 0                        | 20A                      | aggravated assault       | 14D20                    | 8300-8399                | canyon                   |                          | -                        | 1                        | january                  | friday                   | apartment                | 8350 canyon              | -95.37791                | 29.67063                 | \n",
       "| 82734 | 2010-01-01               | 1/1/2010                 | 0                        | 20R                      | burglary                 | 18F60                    | 9300-9399                | rowan                    | ln                       | -                        | 1                        | january                  | friday                   | residence / house        | 9350 rowan ln            | -95.54830                | 29.70223                 | \n",
       "\n",
       "\n"
      ],
      "text/plain": [
       "      time       date     hour premise offense            beat  block    \n",
       "82729 2010-01-01 1/1/2010 0    18A     murder             15E30 9600-9699\n",
       "82730 2010-01-01 1/1/2010 0    13R     robbery            13D10 4700-4799\n",
       "82731 2010-01-01 1/1/2010 0    20R     aggravated assault 16E20 5000-5099\n",
       "82732 2010-01-01 1/1/2010 0    20R     aggravated assault 2A30  1000-1099\n",
       "82733 2010-01-01 1/1/2010 0    20A     aggravated assault 14D20 8300-8399\n",
       "82734 2010-01-01 1/1/2010 0    20R     burglary           18F60 9300-9399\n",
       "      street    type suffix number month   day    location                \n",
       "82729 marlive   ln   -      1      january friday apartment parking lot   \n",
       "82730 telephone rd   -      1      january friday road / street / sidewalk\n",
       "82731 wickview  ln   -      1      january friday residence / house       \n",
       "82732 ashland   st   -      1      january friday residence / house       \n",
       "82733 canyon         -      1      january friday apartment               \n",
       "82734 rowan     ln   -      1      january friday residence / house       \n",
       "      address           lon       lat     \n",
       "82729 9650 marlive ln   -95.43739 29.67790\n",
       "82730 4750 telephone rd -95.29888 29.69171\n",
       "82731 5050 wickview ln  -95.45586 29.59922\n",
       "82732 1050 ashland st   -95.40334 29.79024\n",
       "82733 8350 canyon       -95.37791 29.67063\n",
       "82734 9350 rowan ln     -95.54830 29.70223"
      ]
     },
     "metadata": {},
     "output_type": "display_data"
    },
    {
     "data": {
      "text/html": [
       "'data.frame'"
      ],
      "text/latex": [
       "'data.frame'"
      ],
      "text/markdown": [
       "'data.frame'"
      ],
      "text/plain": [
       "[1] \"data.frame\""
      ]
     },
     "metadata": {},
     "output_type": "display_data"
    }
   ],
   "source": [
    "data(crime)\n",
    "\n",
    "dim(crime)\n",
    "head(crime)\n",
    "\n",
    "class(crime)"
   ]
  },
  {
   "cell_type": "code",
   "execution_count": null,
   "metadata": {
    "collapsed": true
   },
   "outputs": [],
   "source": []
  }
 ],
 "metadata": {
  "kernelspec": {
   "display_name": "R",
   "language": "R",
   "name": "ir"
  },
  "language_info": {
   "codemirror_mode": "r",
   "file_extension": ".r",
   "mimetype": "text/x-r-source",
   "name": "R",
   "pygments_lexer": "r",
   "version": "3.3.2"
  }
 },
 "nbformat": 4,
 "nbformat_minor": 2
}
