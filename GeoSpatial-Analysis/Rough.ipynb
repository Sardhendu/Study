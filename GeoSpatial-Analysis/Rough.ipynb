{
 "cells": [
  {
   "cell_type": "code",
   "execution_count": 7,
   "metadata": {
    "collapsed": true
   },
   "outputs": [],
   "source": [
    "import matplotlib\n",
    "import numpy as np\n",
    "from matplotlib.mlab import griddata\n",
    "import matplotlib.cm as cm\n",
    "import matplotlib.pyplot as plt\n",
    "import math\n",
    "from scipy.spatial import KDTree\n",
    "import time\n",
    "import scipy.ndimage as ndi\n",
    "\n",
    "%matplotlib inline"
   ]
  },
  {
   "cell_type": "code",
   "execution_count": 11,
   "metadata": {
    "collapsed": true
   },
   "outputs": [],
   "source": [
    "def grid_density_kdtree(xl, yl, xi, yi, dfactor):\n",
    "    zz = np.empty([len(xi),len(yi)], dtype=np.uint8)\n",
    "    zipped = zip(xl, yl)\n",
    "    kdtree = KDTree(zipped)\n",
    "    for xci in range(0, len(xi)):\n",
    "        xc = xi[xci]\n",
    "        for yci in range(0, len(yi)):\n",
    "            yc = yi[yci]\n",
    "            density = 0.\n",
    "            retvalset = kdtree.query((xc,yc), k=5)\n",
    "            for dist in retvalset[0]:\n",
    "                density = density + math.exp(-dfactor * pow(dist, 2)) / 5\n",
    "            zz[yci][xci] = min(density, 1.0) * 255\n",
    "    return zz"
   ]
  },
  {
   "cell_type": "code",
   "execution_count": 13,
   "metadata": {
    "collapsed": false
   },
   "outputs": [
    {
     "data": {
      "text/plain": [
       "array([-0.5       , -0.49607843, -0.49215686, -0.48823529, -0.48431373,\n",
       "       -0.48039216, -0.47647059, -0.47254902, -0.46862745, -0.46470588,\n",
       "       -0.46078431, -0.45686275, -0.45294118, -0.44901961, -0.44509804,\n",
       "       -0.44117647, -0.4372549 , -0.43333333, -0.42941176, -0.4254902 ,\n",
       "       -0.42156863, -0.41764706, -0.41372549, -0.40980392, -0.40588235,\n",
       "       -0.40196078, -0.39803922, -0.39411765, -0.39019608, -0.38627451,\n",
       "       -0.38235294, -0.37843137, -0.3745098 , -0.37058824, -0.36666667,\n",
       "       -0.3627451 , -0.35882353, -0.35490196, -0.35098039, -0.34705882,\n",
       "       -0.34313725, -0.33921569, -0.33529412, -0.33137255, -0.32745098,\n",
       "       -0.32352941, -0.31960784, -0.31568627, -0.31176471, -0.30784314,\n",
       "       -0.30392157, -0.3       , -0.29607843, -0.29215686, -0.28823529,\n",
       "       -0.28431373, -0.28039216, -0.27647059, -0.27254902, -0.26862745,\n",
       "       -0.26470588, -0.26078431, -0.25686275, -0.25294118, -0.24901961,\n",
       "       -0.24509804, -0.24117647, -0.2372549 , -0.23333333, -0.22941176,\n",
       "       -0.2254902 , -0.22156863, -0.21764706, -0.21372549, -0.20980392,\n",
       "       -0.20588235, -0.20196078, -0.19803922, -0.19411765, -0.19019608,\n",
       "       -0.18627451, -0.18235294, -0.17843137, -0.1745098 , -0.17058824,\n",
       "       -0.16666667, -0.1627451 , -0.15882353, -0.15490196, -0.15098039,\n",
       "       -0.14705882, -0.14313725, -0.13921569, -0.13529412, -0.13137255,\n",
       "       -0.12745098, -0.12352941, -0.11960784, -0.11568627, -0.11176471,\n",
       "       -0.10784314, -0.10392157, -0.1       , -0.09607843, -0.09215686,\n",
       "       -0.08823529, -0.08431373, -0.08039216, -0.07647059, -0.07254902,\n",
       "       -0.06862745, -0.06470588, -0.06078431, -0.05686275, -0.05294118,\n",
       "       -0.04901961, -0.04509804, -0.04117647, -0.0372549 , -0.03333333,\n",
       "       -0.02941176, -0.0254902 , -0.02156863, -0.01764706, -0.01372549,\n",
       "       -0.00980392, -0.00588235, -0.00196078,  0.00196078,  0.00588235,\n",
       "        0.00980392,  0.01372549,  0.01764706,  0.02156863,  0.0254902 ,\n",
       "        0.02941176,  0.03333333,  0.0372549 ,  0.04117647,  0.04509804,\n",
       "        0.04901961,  0.05294118,  0.05686275,  0.06078431,  0.06470588,\n",
       "        0.06862745,  0.07254902,  0.07647059,  0.08039216,  0.08431373,\n",
       "        0.08823529,  0.09215686,  0.09607843,  0.1       ,  0.10392157,\n",
       "        0.10784314,  0.11176471,  0.11568627,  0.11960784,  0.12352941,\n",
       "        0.12745098,  0.13137255,  0.13529412,  0.13921569,  0.14313725,\n",
       "        0.14705882,  0.15098039,  0.15490196,  0.15882353,  0.1627451 ,\n",
       "        0.16666667,  0.17058824,  0.1745098 ,  0.17843137,  0.18235294,\n",
       "        0.18627451,  0.19019608,  0.19411765,  0.19803922,  0.20196078,\n",
       "        0.20588235,  0.20980392,  0.21372549,  0.21764706,  0.22156863,\n",
       "        0.2254902 ,  0.22941176,  0.23333333,  0.2372549 ,  0.24117647,\n",
       "        0.24509804,  0.24901961,  0.25294118,  0.25686275,  0.26078431,\n",
       "        0.26470588,  0.26862745,  0.27254902,  0.27647059,  0.28039216,\n",
       "        0.28431373,  0.28823529,  0.29215686,  0.29607843,  0.3       ,\n",
       "        0.30392157,  0.30784314,  0.31176471,  0.31568627,  0.31960784,\n",
       "        0.32352941,  0.32745098,  0.33137255,  0.33529412,  0.33921569,\n",
       "        0.34313725,  0.34705882,  0.35098039,  0.35490196,  0.35882353,\n",
       "        0.3627451 ,  0.36666667,  0.37058824,  0.3745098 ,  0.37843137,\n",
       "        0.38235294,  0.38627451,  0.39019608,  0.39411765,  0.39803922,\n",
       "        0.40196078,  0.40588235,  0.40980392,  0.41372549,  0.41764706,\n",
       "        0.42156863,  0.4254902 ,  0.42941176,  0.43333333,  0.4372549 ,\n",
       "        0.44117647,  0.44509804,  0.44901961,  0.45294118,  0.45686275,\n",
       "        0.46078431,  0.46470588,  0.46862745,  0.47254902,  0.47647059,\n",
       "        0.48039216,  0.48431373,  0.48823529,  0.49215686,  0.49607843,\n",
       "        0.5       ])"
      ]
     },
     "execution_count": 13,
     "metadata": {},
     "output_type": "execute_result"
    },
    {
     "data": {
      "image/png": "[encoded data removed]",
      "text/plain": [
       "<matplotlib.figure.Figure at 0x11584a7b8>"
      ]
     },
     "metadata": {},
     "output_type": "display_data"
    }
   ],
   "source": [
    "# def generate_graph():    \n",
    "n = 1000\n",
    "# data points range\n",
    "data_ymin = -2.\n",
    "data_ymax = 2.\n",
    "data_xmin = -2.\n",
    "data_xmax = 2.\n",
    "# view area range\n",
    "view_ymin = -.5\n",
    "view_ymax = .5\n",
    "view_xmin = -.5\n",
    "view_xmax = .5\n",
    "# generate data\n",
    "xl = np.random.uniform(data_xmin, data_xmax, n)    \n",
    "yl = np.random.uniform(data_ymin, data_ymax, n)\n",
    "zl = np.random.uniform(0, 1, n)\n",
    "\n",
    "# xl\n",
    "# get visible data points\n",
    "xlvis = []\n",
    "ylvis = []\n",
    "for i in range(0,len(xl)):\n",
    "    if view_xmin < xl[i] < view_xmax and view_ymin < yl[i] < view_ymax:\n",
    "        xlvis.append(xl[i])\n",
    "        ylvis.append(yl[i])\n",
    "\n",
    "fig = plt.figure()\n",
    "\n",
    "\n",
    "#     # plot histogram\n",
    "plt1 = fig.add_subplot(221)\n",
    "plt1.set_axis_off()\n",
    "t0 = time.clock()\n",
    "zd, xe, ye = np.histogram2d(yl, xl, bins=10, range=[[view_ymin, view_ymax],[view_xmin, view_xmax]], normed=True)\n",
    "plt.title('numpy.histogram2d - '+str(time.clock()-t0)+\"sec\")\n",
    "plt.imshow(zd, origin='lower', extent=[view_xmin, view_xmax, view_ymin, view_ymax])\n",
    "plt.scatter(xlvis, ylvis)\n",
    "\n",
    "\n",
    "# plot density calculated with kdtree\n",
    "plt2 = fig.add_subplot(222)\n",
    "plt2.set_axis_off()\n",
    "xi = np.linspace(view_xmin, view_xmax, 256)\n",
    "yi = np.linspace(view_ymin, view_ymax, 256)\n",
    "t0 = time.clock()\n",
    "\n",
    "# zd = grid_density_kdtree(xl, yl, xi, yi, 70)\n",
    "# plt.title('function of 5 nearest using kdtree\\n'+str(time.clock()-t0)+\"sec\")\n",
    "# cmap=cm.jet\n",
    "# A = (cmap(zd/256.0)*255).astype(np.uint8)\n",
    "# #A[:,:,3] = zd  \n",
    "# plt.imshow(A , origin='lower', extent=[view_xmin, view_xmax, view_ymin, view_ymax])\n",
    "# plt.scatter(xlvis, ylvis)\n",
    "\n",
    "#     # gaussian filter\n",
    "#     plt3 = fig.add_subplot(223)\n",
    "#     plt3.set_axis_off()\n",
    "#     t0 = time.clock()\n",
    "#     zd = grid_density_gaussian_filter(view_xmin, view_ymin, view_xmax, view_ymax, 256, 256, zip(xl, yl))\n",
    "#     plt.title('ndi.gaussian_filter - '+str(time.clock()-t0)+\"sec\")\n",
    "#     plt.imshow(zd , origin='lower', extent=[view_xmin, view_xmax, view_ymin, view_ymax])\n",
    "#     plt.scatter(xlvis, ylvis)\n",
    "\n",
    "#     # boxsum smoothing\n",
    "#     plt3 = fig.add_subplot(224)\n",
    "#     plt3.set_axis_off()\n",
    "#     t0 = time.clock()\n",
    "#     zd = grid_density_boxsum(view_xmin, view_ymin, view_xmax, view_ymax, 256, 256, zip(xl, yl))\n",
    "#     plt.title('boxsum smoothing - '+str(time.clock()-t0)+\"sec\")\n",
    "#     plt.imshow(zd, origin='lower', extent=[view_xmin, view_xmax, view_ymin, view_ymax])\n",
    "#     plt.scatter(xlvis, ylvis)"
   ]
  },
  {
   "cell_type": "code",
   "execution_count": null,
   "metadata": {
    "collapsed": true
   },
   "outputs": [],
   "source": []
  }
 ],
 "metadata": {
  "anaconda-cloud": {},
  "kernelspec": {
   "display_name": "Python [Root]",
   "language": "python",
   "name": "Python [Root]"
  },
  "language_info": {
   "codemirror_mode": {
    "name": "ipython",
    "version": 3
   },
   "file_extension": ".py",
   "mimetype": "text/x-python",
   "name": "python",
   "nbconvert_exporter": "python",
   "pygments_lexer": "ipython3",
   "version": "3.5.2"
  }
 },
 "nbformat": 4,
 "nbformat_minor": 2
}
