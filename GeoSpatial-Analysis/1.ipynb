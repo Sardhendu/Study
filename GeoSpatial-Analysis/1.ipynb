{
 "cells": [
  {
   "cell_type": "code",
   "execution_count": 4,
   "metadata": {
    "collapsed": false
   },
   "outputs": [],
   "source": [
    "library(sp)"
   ]
  },
  {
   "cell_type": "code",
   "execution_count": 5,
   "metadata": {
    "collapsed": false
   },
   "outputs": [
    {
     "data": {
      "text/plain": [
       "Class \"Spatial\" [package \"sp\"]\n",
       "\n",
       "Slots:\n",
       "                              \n",
       "Name:         bbox proj4string\n",
       "Class:      matrix         CRS\n",
       "\n",
       "Known Subclasses: \n",
       "Class \"SpatialPoints\", directly\n",
       "Class \"SpatialMultiPoints\", directly\n",
       "Class \"SpatialGrid\", directly\n",
       "Class \"SpatialLines\", directly\n",
       "Class \"SpatialPolygons\", directly\n",
       "Class \"SpatialPointsDataFrame\", by class \"SpatialPoints\", distance 2\n",
       "Class \"SpatialPixels\", by class \"SpatialPoints\", distance 2\n",
       "Class \"SpatialMultiPointsDataFrame\", by class \"SpatialMultiPoints\", distance 2\n",
       "Class \"SpatialGridDataFrame\", by class \"SpatialGrid\", distance 2\n",
       "Class \"SpatialLinesDataFrame\", by class \"SpatialLines\", distance 2\n",
       "Class \"SpatialPixelsDataFrame\", by class \"SpatialPoints\", distance 3\n",
       "Class \"SpatialPolygonsDataFrame\", by class \"SpatialPolygons\", distance 2"
      ]
     },
     "metadata": {},
     "output_type": "display_data"
    }
   ],
   "source": [
    "getClass('Spatial')"
   ]
  },
  {
   "cell_type": "code",
   "execution_count": 6,
   "metadata": {
    "collapsed": false
   },
   "outputs": [
    {
     "data": {
      "text/plain": [
       "Class \"CRS\" [package \"sp\"]\n",
       "\n",
       "Slots:\n",
       "                \n",
       "Name:   projargs\n",
       "Class: character"
      ]
     },
     "metadata": {},
     "output_type": "display_data"
    }
   ],
   "source": [
    "getClass('CRS')"
   ]
  },
  {
   "cell_type": "code",
   "execution_count": 13,
   "metadata": {
    "collapsed": false
   },
   "outputs": [
    {
     "data": {
      "text/html": [
       "<table>\n",
       "<thead><tr><th scope=col>min</th><th scope=col>max</th></tr></thead>\n",
       "<tbody>\n",
       "\t<tr><td>0</td><td>1</td></tr>\n",
       "\t<tr><td>0</td><td>1</td></tr>\n",
       "</tbody>\n",
       "</table>\n"
      ],
      "text/latex": [
       "\\begin{tabular}{ll}\n",
       " min & max\\\\\n",
       "\\hline\n",
       "\t 0 & 1\\\\\n",
       "\t 0 & 1\\\\\n",
       "\\end{tabular}\n"
      ],
      "text/markdown": [
       "\n",
       "min | max | \n",
       "|---|---|\n",
       "| 0 | 1 | \n",
       "| 0 | 1 | \n",
       "\n",
       "\n"
      ],
      "text/plain": [
       "     min max\n",
       "[1,] 0   1  \n",
       "[2,] 0   1  "
      ]
     },
     "metadata": {},
     "output_type": "display_data"
    },
    {
     "data": {
      "text/plain": [
       "CRS arguments: NA "
      ]
     },
     "metadata": {},
     "output_type": "display_data"
    },
    {
     "data": {
      "text/plain": [
       "An object of class \"Spatial\"\n",
       "Slot \"bbox\":\n",
       "     min max\n",
       "[1,]   0   1\n",
       "[2,]   0   1\n",
       "\n",
       "Slot \"proj4string\":\n",
       "CRS arguments: NA \n"
      ]
     },
     "metadata": {},
     "output_type": "display_data"
    }
   ],
   "source": [
    "m <- matrix(c(0, 0, 1, 1), # Create a list with 4 elements\n",
    "            ncol = 2,      # Make two column matrix\n",
    "            dimnames = list(NULL, c(\"min\", \"max\"))) # Provide dimension name to the matrix\n",
    "m\n",
    "crs <- CRS(projargs = as.character(NA))\n",
    "crs\n",
    "S <- Spatial(bbox = m, proj4string = crs)\n",
    "S"
   ]
  },
  {
   "cell_type": "code",
   "execution_count": 12,
   "metadata": {
    "collapsed": false
   },
   "outputs": [
    {
     "data": {
      "text/html": [
       "<ol>\n",
       "\t<li>NULL</li>\n",
       "\t<li><ol class=list-inline>\n",
       "\t<li>'min'</li>\n",
       "\t<li>'max'</li>\n",
       "</ol>\n",
       "</li>\n",
       "</ol>\n"
      ],
      "text/latex": [
       "\\begin{enumerate}\n",
       "\\item NULL\n",
       "\\item \\begin{enumerate*}\n",
       "\\item 'min'\n",
       "\\item 'max'\n",
       "\\end{enumerate*}\n",
       "\n",
       "\\end{enumerate}\n"
      ],
      "text/markdown": [
       "1. NULL\n",
       "2. 1. 'min'\n",
       "2. 'max'\n",
       "\n",
       "\n",
       "\n",
       "\n",
       "\n"
      ],
      "text/plain": [
       "[[1]]\n",
       "NULL\n",
       "\n",
       "[[2]]\n",
       "[1] \"min\" \"max\"\n"
      ]
     },
     "metadata": {},
     "output_type": "display_data"
    }
   ],
   "source": [
    "list(NULL, c(\"min\", \"max\"))"
   ]
  },
  {
   "cell_type": "code",
   "execution_count": 15,
   "metadata": {
    "collapsed": false
   },
   "outputs": [
    {
     "name": "stderr",
     "output_type": "stream",
     "text": [
      "Updating HTML index of packages in '.Library'\n",
      "Making 'packages.html' ... done\n"
     ]
    }
   ],
   "source": [
    "install.packages('Rcpp')"
   ]
  },
  {
   "cell_type": "code",
   "execution_count": null,
   "metadata": {
    "collapsed": true
   },
   "outputs": [],
   "source": []
  }
 ],
 "metadata": {
  "kernelspec": {
   "display_name": "R",
   "language": "R",
   "name": "ir"
  },
  "language_info": {
   "codemirror_mode": "r",
   "file_extension": ".r",
   "mimetype": "text/x-r-source",
   "name": "R",
   "pygments_lexer": "r",
   "version": "3.3.2"
  }
 },
 "nbformat": 4,
 "nbformat_minor": 2
}
