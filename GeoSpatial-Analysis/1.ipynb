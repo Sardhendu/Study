{
 "cells": [
  {
   "cell_type": "code",
   "execution_count": 1,
   "metadata": {
    "collapsed": false,
    "deletable": true,
    "editable": true
   },
   "outputs": [],
   "source": [
    "library(sp)\n",
    "library(ggplot2)\n",
    "library(ggmap)\n",
    "library(Rcpp)"
   ]
  },
  {
   "cell_type": "code",
   "execution_count": 5,
   "metadata": {
    "collapsed": false,
    "deletable": true,
    "editable": true
   },
   "outputs": [
    {
     "data": {
      "text/plain": [
       "Class \"Spatial\" [package \"sp\"]\n",
       "\n",
       "Slots:\n",
       "                              \n",
       "Name:         bbox proj4string\n",
       "Class:      matrix         CRS\n",
       "\n",
       "Known Subclasses: \n",
       "Class \"SpatialPoints\", directly\n",
       "Class \"SpatialMultiPoints\", directly\n",
       "Class \"SpatialGrid\", directly\n",
       "Class \"SpatialLines\", directly\n",
       "Class \"SpatialPolygons\", directly\n",
       "Class \"SpatialPointsDataFrame\", by class \"SpatialPoints\", distance 2\n",
       "Class \"SpatialPixels\", by class \"SpatialPoints\", distance 2\n",
       "Class \"SpatialMultiPointsDataFrame\", by class \"SpatialMultiPoints\", distance 2\n",
       "Class \"SpatialGridDataFrame\", by class \"SpatialGrid\", distance 2\n",
       "Class \"SpatialLinesDataFrame\", by class \"SpatialLines\", distance 2\n",
       "Class \"SpatialPixelsDataFrame\", by class \"SpatialPoints\", distance 3\n",
       "Class \"SpatialPolygonsDataFrame\", by class \"SpatialPolygons\", distance 2"
      ]
     },
     "metadata": {},
     "output_type": "display_data"
    }
   ],
   "source": [
    "getClass('Spatial')"
   ]
  },
  {
   "cell_type": "code",
   "execution_count": 6,
   "metadata": {
    "collapsed": false,
    "deletable": true,
    "editable": true
   },
   "outputs": [
    {
     "data": {
      "text/plain": [
       "Class \"CRS\" [package \"sp\"]\n",
       "\n",
       "Slots:\n",
       "                \n",
       "Name:   projargs\n",
       "Class: character"
      ]
     },
     "metadata": {},
     "output_type": "display_data"
    }
   ],
   "source": [
    "getClass('CRS')"
   ]
  },
  {
   "cell_type": "code",
   "execution_count": 13,
   "metadata": {
    "collapsed": false,
    "deletable": true,
    "editable": true
   },
   "outputs": [
    {
     "data": {
      "text/html": [
       "<table>\n",
       "<thead><tr><th scope=col>min</th><th scope=col>max</th></tr></thead>\n",
       "<tbody>\n",
       "\t<tr><td>0</td><td>1</td></tr>\n",
       "\t<tr><td>0</td><td>1</td></tr>\n",
       "</tbody>\n",
       "</table>\n"
      ],
      "text/latex": [
       "\\begin{tabular}{ll}\n",
       " min & max\\\\\n",
       "\\hline\n",
       "\t 0 & 1\\\\\n",
       "\t 0 & 1\\\\\n",
       "\\end{tabular}\n"
      ],
      "text/markdown": [
       "\n",
       "min | max | \n",
       "|---|---|\n",
       "| 0 | 1 | \n",
       "| 0 | 1 | \n",
       "\n",
       "\n"
      ],
      "text/plain": [
       "     min max\n",
       "[1,] 0   1  \n",
       "[2,] 0   1  "
      ]
     },
     "metadata": {},
     "output_type": "display_data"
    },
    {
     "data": {
      "text/plain": [
       "CRS arguments: NA "
      ]
     },
     "metadata": {},
     "output_type": "display_data"
    },
    {
     "data": {
      "text/plain": [
       "An object of class \"Spatial\"\n",
       "Slot \"bbox\":\n",
       "     min max\n",
       "[1,]   0   1\n",
       "[2,]   0   1\n",
       "\n",
       "Slot \"proj4string\":\n",
       "CRS arguments: NA \n"
      ]
     },
     "metadata": {},
     "output_type": "display_data"
    }
   ],
   "source": [
    "m <- matrix(c(0, 0, 1, 1), # Create a list with 4 elements\n",
    "            ncol = 2,      # Make two column matrix\n",
    "            dimnames = list(NULL, c(\"min\", \"max\"))) # Provide dimension name to the matrix\n",
    "m\n",
    "crs <- CRS(projargs = as.character(NA))\n",
    "crs\n",
    "S <- Spatial(bbox = m, proj4string = crs)\n",
    "S"
   ]
  },
  {
   "cell_type": "code",
   "execution_count": 12,
   "metadata": {
    "collapsed": false,
    "deletable": true,
    "editable": true
   },
   "outputs": [
    {
     "data": {
      "text/html": [
       "<ol>\n",
       "\t<li>NULL</li>\n",
       "\t<li><ol class=list-inline>\n",
       "\t<li>'min'</li>\n",
       "\t<li>'max'</li>\n",
       "</ol>\n",
       "</li>\n",
       "</ol>\n"
      ],
      "text/latex": [
       "\\begin{enumerate}\n",
       "\\item NULL\n",
       "\\item \\begin{enumerate*}\n",
       "\\item 'min'\n",
       "\\item 'max'\n",
       "\\end{enumerate*}\n",
       "\n",
       "\\end{enumerate}\n"
      ],
      "text/markdown": [
       "1. NULL\n",
       "2. 1. 'min'\n",
       "2. 'max'\n",
       "\n",
       "\n",
       "\n",
       "\n",
       "\n"
      ],
      "text/plain": [
       "[[1]]\n",
       "NULL\n",
       "\n",
       "[[2]]\n",
       "[1] \"min\" \"max\"\n"
      ]
     },
     "metadata": {},
     "output_type": "display_data"
    }
   ],
   "source": [
    "list(NULL, c(\"min\", \"max\"))"
   ]
  },
  {
   "cell_type": "code",
   "execution_count": 15,
   "metadata": {
    "collapsed": false,
    "deletable": true,
    "editable": true
   },
   "outputs": [
    {
     "name": "stderr",
     "output_type": "stream",
     "text": [
      "Updating HTML index of packages in '.Library'\n",
      "Making 'packages.html' ... done\n"
     ]
    }
   ],
   "source": [
    "install.packages('Rcpp')"
   ]
  },
  {
   "cell_type": "code",
   "execution_count": null,
   "metadata": {
    "collapsed": true,
    "deletable": true,
    "editable": true
   },
   "outputs": [],
   "source": []
  },
  {
   "cell_type": "code",
   "execution_count": null,
   "metadata": {
    "collapsed": true,
    "deletable": true,
    "editable": true
   },
   "outputs": [],
   "source": []
  },
  {
   "cell_type": "code",
   "execution_count": null,
   "metadata": {
    "collapsed": true,
    "deletable": true,
    "editable": true
   },
   "outputs": [],
   "source": []
  },
  {
   "cell_type": "markdown",
   "metadata": {
    "deletable": true,
    "editable": true
   },
   "source": [
    "# PART 2: Crime Data "
   ]
  },
  {
   "cell_type": "code",
   "execution_count": 34,
   "metadata": {
    "collapsed": false,
    "deletable": true,
    "editable": true
   },
   "outputs": [],
   "source": [
    "library(sp)\n",
    "library(ggplot2)\n",
    "library(ggmap)\n",
    "library(Rcpp)\n",
    "\n",
    "library(maps)\n",
    "library(maptools)  # For map2SpatialLines function"
   ]
  },
  {
   "cell_type": "code",
   "execution_count": 14,
   "metadata": {
    "collapsed": false,
    "deletable": true,
    "editable": true,
    "scrolled": true
   },
   "outputs": [
    {
     "data": {
      "text/html": [
       "<ol class=list-inline>\n",
       "\t<li>86314</li>\n",
       "\t<li>17</li>\n",
       "</ol>\n"
      ],
      "text/latex": [
       "\\begin{enumerate*}\n",
       "\\item 86314\n",
       "\\item 17\n",
       "\\end{enumerate*}\n"
      ],
      "text/markdown": [
       "1. 86314\n",
       "2. 17\n",
       "\n",
       "\n"
      ],
      "text/plain": [
       "[1] 86314    17"
      ]
     },
     "metadata": {},
     "output_type": "display_data"
    },
    {
     "data": {
      "text/html": [
       "<table>\n",
       "<thead><tr><th></th><th scope=col>time</th><th scope=col>date</th><th scope=col>hour</th><th scope=col>premise</th><th scope=col>offense</th><th scope=col>beat</th><th scope=col>block</th><th scope=col>street</th><th scope=col>type</th><th scope=col>suffix</th><th scope=col>number</th><th scope=col>month</th><th scope=col>day</th><th scope=col>location</th><th scope=col>address</th><th scope=col>lon</th><th scope=col>lat</th></tr></thead>\n",
       "<tbody>\n",
       "\t<tr><th scope=row>82729</th><td>2010-01-01              </td><td>1/1/2010                </td><td>0                       </td><td>18A                     </td><td>murder                  </td><td>15E30                   </td><td>9600-9699               </td><td>marlive                 </td><td>ln                      </td><td>-                       </td><td>1                       </td><td>january                 </td><td>friday                  </td><td>apartment parking lot   </td><td>9650 marlive ln         </td><td>-95.43739               </td><td>29.67790                </td></tr>\n",
       "\t<tr><th scope=row>82730</th><td>2010-01-01              </td><td>1/1/2010                </td><td>0                       </td><td>13R                     </td><td>robbery                 </td><td>13D10                   </td><td>4700-4799               </td><td>telephone               </td><td>rd                      </td><td>-                       </td><td>1                       </td><td>january                 </td><td>friday                  </td><td>road / street / sidewalk</td><td>4750 telephone rd       </td><td>-95.29888               </td><td>29.69171                </td></tr>\n",
       "\t<tr><th scope=row>82731</th><td>2010-01-01              </td><td>1/1/2010                </td><td>0                       </td><td>20R                     </td><td>aggravated assault      </td><td>16E20                   </td><td>5000-5099               </td><td>wickview                </td><td>ln                      </td><td>-                       </td><td>1                       </td><td>january                 </td><td>friday                  </td><td>residence / house       </td><td>5050 wickview ln        </td><td>-95.45586               </td><td>29.59922                </td></tr>\n",
       "\t<tr><th scope=row>82732</th><td>2010-01-01              </td><td>1/1/2010                </td><td>0                       </td><td>20R                     </td><td>aggravated assault      </td><td>2A30                    </td><td>1000-1099               </td><td>ashland                 </td><td>st                      </td><td>-                       </td><td>1                       </td><td>january                 </td><td>friday                  </td><td>residence / house       </td><td>1050 ashland st         </td><td>-95.40334               </td><td>29.79024                </td></tr>\n",
       "\t<tr><th scope=row>82733</th><td>2010-01-01              </td><td>1/1/2010                </td><td>0                       </td><td>20A                     </td><td>aggravated assault      </td><td>14D20                   </td><td>8300-8399               </td><td>canyon                  </td><td>                        </td><td>-                       </td><td>1                       </td><td>january                 </td><td>friday                  </td><td>apartment               </td><td>8350 canyon             </td><td>-95.37791               </td><td>29.67063                </td></tr>\n",
       "\t<tr><th scope=row>82734</th><td>2010-01-01              </td><td>1/1/2010                </td><td>0                       </td><td>20R                     </td><td>burglary                </td><td>18F60                   </td><td>9300-9399               </td><td>rowan                   </td><td>ln                      </td><td>-                       </td><td>1                       </td><td>january                 </td><td>friday                  </td><td>residence / house       </td><td>9350 rowan ln           </td><td>-95.54830               </td><td>29.70223                </td></tr>\n",
       "</tbody>\n",
       "</table>\n"
      ],
      "text/latex": [
       "\\begin{tabular}{r|lllllllllllllllll}\n",
       "  & time & date & hour & premise & offense & beat & block & street & type & suffix & number & month & day & location & address & lon & lat\\\\\n",
       "\\hline\n",
       "\t82729 & 2010-01-01               & 1/1/2010                 & 0                        & 18A                      & murder                   & 15E30                    & 9600-9699                & marlive                  & ln                       & -                        & 1                        & january                  & friday                   & apartment parking lot    & 9650 marlive ln          & -95.43739                & 29.67790                \\\\\n",
       "\t82730 & 2010-01-01               & 1/1/2010                 & 0                        & 13R                      & robbery                  & 13D10                    & 4700-4799                & telephone                & rd                       & -                        & 1                        & january                  & friday                   & road / street / sidewalk & 4750 telephone rd        & -95.29888                & 29.69171                \\\\\n",
       "\t82731 & 2010-01-01               & 1/1/2010                 & 0                        & 20R                      & aggravated assault       & 16E20                    & 5000-5099                & wickview                 & ln                       & -                        & 1                        & january                  & friday                   & residence / house        & 5050 wickview ln         & -95.45586                & 29.59922                \\\\\n",
       "\t82732 & 2010-01-01               & 1/1/2010                 & 0                        & 20R                      & aggravated assault       & 2A30                     & 1000-1099                & ashland                  & st                       & -                        & 1                        & january                  & friday                   & residence / house        & 1050 ashland st          & -95.40334                & 29.79024                \\\\\n",
       "\t82733 & 2010-01-01               & 1/1/2010                 & 0                        & 20A                      & aggravated assault       & 14D20                    & 8300-8399                & canyon                   &                          & -                        & 1                        & january                  & friday                   & apartment                & 8350 canyon              & -95.37791                & 29.67063                \\\\\n",
       "\t82734 & 2010-01-01               & 1/1/2010                 & 0                        & 20R                      & burglary                 & 18F60                    & 9300-9399                & rowan                    & ln                       & -                        & 1                        & january                  & friday                   & residence / house        & 9350 rowan ln            & -95.54830                & 29.70223                \\\\\n",
       "\\end{tabular}\n"
      ],
      "text/markdown": [
       "\n",
       "| <!--/--> | time | date | hour | premise | offense | beat | block | street | type | suffix | number | month | day | location | address | lon | lat | \n",
       "|---|---|---|---|---|---|\n",
       "| 82729 | 2010-01-01               | 1/1/2010                 | 0                        | 18A                      | murder                   | 15E30                    | 9600-9699                | marlive                  | ln                       | -                        | 1                        | january                  | friday                   | apartment parking lot    | 9650 marlive ln          | -95.43739                | 29.67790                 | \n",
       "| 82730 | 2010-01-01               | 1/1/2010                 | 0                        | 13R                      | robbery                  | 13D10                    | 4700-4799                | telephone                | rd                       | -                        | 1                        | january                  | friday                   | road / street / sidewalk | 4750 telephone rd        | -95.29888                | 29.69171                 | \n",
       "| 82731 | 2010-01-01               | 1/1/2010                 | 0                        | 20R                      | aggravated assault       | 16E20                    | 5000-5099                | wickview                 | ln                       | -                        | 1                        | january                  | friday                   | residence / house        | 5050 wickview ln         | -95.45586                | 29.59922                 | \n",
       "| 82732 | 2010-01-01               | 1/1/2010                 | 0                        | 20R                      | aggravated assault       | 2A30                     | 1000-1099                | ashland                  | st                       | -                        | 1                        | january                  | friday                   | residence / house        | 1050 ashland st          | -95.40334                | 29.79024                 | \n",
       "| 82733 | 2010-01-01               | 1/1/2010                 | 0                        | 20A                      | aggravated assault       | 14D20                    | 8300-8399                | canyon                   |                          | -                        | 1                        | january                  | friday                   | apartment                | 8350 canyon              | -95.37791                | 29.67063                 | \n",
       "| 82734 | 2010-01-01               | 1/1/2010                 | 0                        | 20R                      | burglary                 | 18F60                    | 9300-9399                | rowan                    | ln                       | -                        | 1                        | january                  | friday                   | residence / house        | 9350 rowan ln            | -95.54830                | 29.70223                 | \n",
       "\n",
       "\n"
      ],
      "text/plain": [
       "      time       date     hour premise offense            beat  block    \n",
       "82729 2010-01-01 1/1/2010 0    18A     murder             15E30 9600-9699\n",
       "82730 2010-01-01 1/1/2010 0    13R     robbery            13D10 4700-4799\n",
       "82731 2010-01-01 1/1/2010 0    20R     aggravated assault 16E20 5000-5099\n",
       "82732 2010-01-01 1/1/2010 0    20R     aggravated assault 2A30  1000-1099\n",
       "82733 2010-01-01 1/1/2010 0    20A     aggravated assault 14D20 8300-8399\n",
       "82734 2010-01-01 1/1/2010 0    20R     burglary           18F60 9300-9399\n",
       "      street    type suffix number month   day    location                \n",
       "82729 marlive   ln   -      1      january friday apartment parking lot   \n",
       "82730 telephone rd   -      1      january friday road / street / sidewalk\n",
       "82731 wickview  ln   -      1      january friday residence / house       \n",
       "82732 ashland   st   -      1      january friday residence / house       \n",
       "82733 canyon         -      1      january friday apartment               \n",
       "82734 rowan     ln   -      1      january friday residence / house       \n",
       "      address           lon       lat     \n",
       "82729 9650 marlive ln   -95.43739 29.67790\n",
       "82730 4750 telephone rd -95.29888 29.69171\n",
       "82731 5050 wickview ln  -95.45586 29.59922\n",
       "82732 1050 ashland st   -95.40334 29.79024\n",
       "82733 8350 canyon       -95.37791 29.67063\n",
       "82734 9350 rowan ln     -95.54830 29.70223"
      ]
     },
     "metadata": {},
     "output_type": "display_data"
    },
    {
     "name": "stdout",
     "output_type": "stream",
     "text": [
      "'data.frame':\t86314 obs. of  17 variables:\n",
      " $ time    : POSIXt, format: \"2010-01-01 00:00:00\" \"2010-01-01 00:00:00\" ...\n",
      " $ date    : chr  \"1/1/2010\" \"1/1/2010\" \"1/1/2010\" \"1/1/2010\" ...\n",
      " $ hour    : int  0 0 0 0 0 0 0 0 0 0 ...\n",
      " $ premise : chr  \"18A\" \"13R\" \"20R\" \"20R\" ...\n",
      " $ offense : Factor w/ 7 levels \"aggravated assault\",..: 4 6 1 1 1 3 3 3 3 3 ...\n",
      " $ beat    : chr  \"15E30\" \"13D10\" \"16E20\" \"2A30\" ...\n",
      " $ block   : chr  \"9600-9699\" \"4700-4799\" \"5000-5099\" \"1000-1099\" ...\n",
      " $ street  : chr  \"marlive\" \"telephone\" \"wickview\" \"ashland\" ...\n",
      " $ type    : chr  \"ln\" \"rd\" \"ln\" \"st\" ...\n",
      " $ suffix  : chr  \"-\" \"-\" \"-\" \"-\" ...\n",
      " $ number  : int  1 1 1 1 1 1 1 1 1 1 ...\n",
      " $ month   : Ord.factor w/ 8 levels \"january\"<\"february\"<..: 1 1 1 1 1 1 1 1 1 1 ...\n",
      " $ day     : Ord.factor w/ 7 levels \"monday\"<\"tuesday\"<..: 5 5 5 5 5 5 5 5 5 5 ...\n",
      " $ location: chr  \"apartment parking lot\" \"road / street / sidewalk\" \"residence / house\" \"residence / house\" ...\n",
      " $ address : chr  \"9650 marlive ln\" \"4750 telephone rd\" \"5050 wickview ln\" \"1050 ashland st\" ...\n",
      " $ lon     : num  -95.4 -95.3 -95.5 -95.4 -95.4 ...\n",
      " $ lat     : num  29.7 29.7 29.6 29.8 29.7 ...\n"
     ]
    },
    {
     "data": {
      "text/plain": [
       "      time                         date                hour      \n",
       " Min.   :2010-01-01 00:00:00   Length:86314       Min.   : 0.00  \n",
       " 1st Qu.:2010-03-07 19:00:00   Class :character   1st Qu.: 8.00  \n",
       " Median :2010-05-06 07:00:00   Mode  :character   Median :14.00  \n",
       " Mean   :2010-05-04 13:47:44                      Mean   :13.28  \n",
       " 3rd Qu.:2010-07-02 15:00:00                      3rd Qu.:19.00  \n",
       " Max.   :2010-08-31 23:00:00                      Max.   :23.00  \n",
       "                                                                 \n",
       "   premise                        offense          beat          \n",
       " Length:86314       aggravated assault: 7177   Length:86314      \n",
       " Class :character   auto theft        : 7946   Class :character  \n",
       " Mode  :character   burglary          :17802   Mode  :character  \n",
       "                    murder            :  157                     \n",
       "                    rape              :  378                     \n",
       "                    robbery           : 6298                     \n",
       "                    theft             :46556                     \n",
       "    block              street              type              suffix         \n",
       " Length:86314       Length:86314       Length:86314       Length:86314      \n",
       " Class :character   Class :character   Class :character   Class :character  \n",
       " Mode  :character   Mode  :character   Mode  :character   Mode  :character  \n",
       "                                                                            \n",
       "                                                                            \n",
       "                                                                            \n",
       "                                                                            \n",
       "     number          month              day          location        \n",
       " Min.   :1.000   may    :11920   monday   :12535   Length:86314      \n",
       " 1st Qu.:1.000   july   :11290   tuesday  :12503   Class :character  \n",
       " Median :1.000   april  :11068   wednesday:11976   Mode  :character  \n",
       " Mean   :1.012   june   :11052   thursday :12342                     \n",
       " 3rd Qu.:1.000   august :10962   friday   :13414                     \n",
       " Max.   :9.000   march  :10922   saturday :12525                     \n",
       "                 (Other):19100   sunday   :11019                     \n",
       "   address               lon              lat       \n",
       " Length:86314       Min.   :-99.51   Min.   :27.51  \n",
       " Class :character   1st Qu.:-95.51   1st Qu.:29.69  \n",
       " Mode  :character   Median :-95.41   Median :29.74  \n",
       "                    Mean   :-95.42   Mean   :29.76  \n",
       "                    3rd Qu.:-95.34   3rd Qu.:29.81  \n",
       "                    Max.   :-91.95   Max.   :37.34  \n",
       "                    NA's   :5        NA's   :5      "
      ]
     },
     "metadata": {},
     "output_type": "display_data"
    }
   ],
   "source": [
    "data(crime)\n",
    "crimeDF <- crime\n",
    "dim(crimeDF)\n",
    "head(crimeDF)\n",
    "str(crimeDF)\n",
    "summary(crimeDF)"
   ]
  },
  {
   "cell_type": "markdown",
   "metadata": {
    "deletable": true,
    "editable": true
   },
   "source": [
    "#### ** A Spatial DataFrame has five components or slots: **\n",
    "    \n",
    "   * data: This is the data contained in the data Frame.\n",
    "   * coords.nrs: This is the column position for the coordinate data. For our case we use we use the last two columns as coordinate system and so coorsa.nrs would have column placement for those two column position.\n",
    "   * coords: This are the coordinates (Lat and Long)\n",
    "   * bbox: The bounding box of the coordinate\n",
    "   * proj4String: Gives us the coordinate reference system CRS()\n",
    "   \n",
    "   \n",
    "#### ** Coordinate Reference System (CRF): **\n",
    "   * A coordinate reference system is of two types {Geographic Coordinates and Projected coordinates}\n",
    "       * Geographic Coordiante reference system (LAT and LONG). This represents the earth as a sphere, For example : WGS84 is represented as (33.33, 44.4)\n",
    "       * Cartesian/Projected coordinate system (x,y), This coordinate sytems represents earth as a flat surface with distances measures in meters or Kilometers. So we can say that the earth is geographical coordinates of earth's elipsoid are projected into a planer system (plane surface). Under the Planner system we have several types of *Coordinate Reference Systems* Two common once are given\n",
    "           1. State Planer (NADS83) (Mostely used in United States), Ex, Nevada State Plane NADS83\n",
    "           2. Universal Transverse Merctor (Across the universe), Ex, Nevada uses (UTM Zone 11N)\n",
    "           \n",
    "#### ** Spatial Polygon DataFrame: **\n",
    "   * We can get shape file polygons from different sources\n",
    "       * Data Sources 1: US census website\n",
    "       * Free Spatial data by country from DIVA-GIS website"
   ]
  },
  {
   "cell_type": "code",
   "execution_count": 35,
   "metadata": {
    "collapsed": false,
    "deletable": true,
    "editable": true
   },
   "outputs": [
    {
     "data": {
      "text/plain": [
       "            place        north          east             loc    \n",
       " Bern          : 2   40d26'N: 2   13d22'E : 2   Brazil     : 5  \n",
       " Pittsburgh, PA: 2   46d57'N: 2   7d26'E  : 2   Germany    : 5  \n",
       " Aalborg       : 1   20d45'S: 1   80d0'W  : 2   Italy      : 4  \n",
       " Aizu          : 1   22d43'S: 1   0d10'W  : 1   France     : 3  \n",
       " Ames, IA      : 1   22d54'S: 1   118d15'W: 1   Switzerland: 3  \n",
       " Arezzo        : 1   23d32'S: 1   118d47'E: 1   Australia  : 2  \n",
       " (Other)       :46   (Other):46   (Other) :45   (Other)    :32  \n",
       "      long                lat        \n",
       " Min.   :-122.9500   Min.   :-37.82  \n",
       " 1st Qu.: -47.3833   1st Qu.: 34.52  \n",
       " Median :   7.8500   Median : 42.73  \n",
       " Mean   :  -0.6617   Mean   : 31.73  \n",
       " 3rd Qu.:  16.8333   3rd Qu.: 47.58  \n",
       " Max.   : 153.0333   Max.   : 57.05  \n",
       "                                     "
      ]
     },
     "metadata": {},
     "output_type": "display_data"
    }
   ],
   "source": [
    "dataDir <- '/Users/sam/All-Program/App-DataSet/Study/GeoSpatial-Analysis/CRAN051001.txt'\n",
    "# Load a geospatial dataset\n",
    "cranDF <- read.table(dataDir, header = TRUE)\n",
    "summary(cranDF)"
   ]
  },
  {
   "cell_type": "code",
   "execution_count": 16,
   "metadata": {
    "collapsed": false,
    "deletable": true,
    "editable": true
   },
   "outputs": [
    {
     "data": {
      "text/plain": [
       "Object of class SpatialPointsDataFrame\n",
       "Coordinates:\n",
       "            min      max\n",
       "long -122.95000 153.0333\n",
       "lat   -37.81667  57.0500\n",
       "Is projected: FALSE \n",
       "proj4string : [+proj-longlat +ellps=WG584]\n",
       "Number of points: 54\n",
       "Data attributes:\n",
       "            place        north          east             loc    \n",
       " Bern          : 2   40d26'N: 2   13d22'E : 2   Brazil     : 5  \n",
       " Pittsburgh, PA: 2   46d57'N: 2   7d26'E  : 2   Germany    : 5  \n",
       " Aalborg       : 1   20d45'S: 1   80d0'W  : 2   Italy      : 4  \n",
       " Aizu          : 1   22d43'S: 1   0d10'W  : 1   France     : 3  \n",
       " Ames, IA      : 1   22d54'S: 1   118d15'W: 1   Switzerland: 3  \n",
       " Arezzo        : 1   23d32'S: 1   118d47'E: 1   Australia  : 2  \n",
       " (Other)       :46   (Other):46   (Other) :45   (Other)    :32  \n",
       "      long                lat        \n",
       " Min.   :-122.9500   Min.   :-37.82  \n",
       " 1st Qu.: -47.3833   1st Qu.: 34.52  \n",
       " Median :   7.8500   Median : 42.73  \n",
       " Mean   :  -0.6617   Mean   : 31.73  \n",
       " 3rd Qu.:  16.8333   3rd Qu.: 47.58  \n",
       " Max.   : 153.0333   Max.   : 57.05  \n",
       "                                     "
      ]
     },
     "metadata": {},
     "output_type": "display_data"
    }
   ],
   "source": [
    "# We should specify to R that we have a latitude and logitude coordinate system\n",
    "llCRS <- CRS('+proj-longlat +ellps=WG584')\n",
    "\n",
    "# cranDF is a local R dataframe, Most of the spatial packages\n",
    "# do not inderstand the local R data frame, so here we convert \n",
    "# them into spatial object\n",
    "coords <- SpatialPoints(cranDF[, c('long', 'lat')], proj4string = llCRS)  \n",
    "cranSpatial_DF <- SpatialPointsDataFrame(coords, cranDF) # Creating a spatial data frame, we explicitely specify that coords\n",
    "summary(cranSpatial_DF)\n",
    "\n",
    "# Here in the above code, we tell \"sp\" that the two columns 'lon' and 'lat' are the actual coordinates. \n",
    "# And then while creating the dataframe we explicitely add the \"coords\" with all other column. \n",
    "# When we specify \"coords\" \"sp\" understands that it has to create a column \"coordinates\" with two fields\n",
    "# Lat and Lon, so that the coordinates can be consumed by other methods easily\n",
    "\n",
    "# The argument in the summary that states \"Is projected=False\" states that the \n",
    "# coordinate points are not planner (which means they are not projected) on a plane"
   ]
  },
  {
   "cell_type": "code",
   "execution_count": 17,
   "metadata": {
    "collapsed": false,
    "deletable": true,
    "editable": true
   },
   "outputs": [
    {
     "data": {
      "text/html": [
       "<table>\n",
       "<thead><tr><th></th><th scope=col>min</th><th scope=col>max</th></tr></thead>\n",
       "<tbody>\n",
       "\t<tr><th scope=row>long</th><td>-122.95000</td><td>153.0333  </td></tr>\n",
       "\t<tr><th scope=row>lat</th><td> -37.81667</td><td> 57.0500  </td></tr>\n",
       "</tbody>\n",
       "</table>\n"
      ],
      "text/latex": [
       "\\begin{tabular}{r|ll}\n",
       "  & min & max\\\\\n",
       "\\hline\n",
       "\tlong & -122.95000 & 153.0333  \\\\\n",
       "\tlat &  -37.81667 &  57.0500  \\\\\n",
       "\\end{tabular}\n"
      ],
      "text/markdown": [
       "\n",
       "| <!--/--> | min | max | \n",
       "|---|---|\n",
       "| long | -122.95000 | 153.0333   | \n",
       "| lat |  -37.81667 |  57.0500   | \n",
       "\n",
       "\n"
      ],
      "text/plain": [
       "     min        max     \n",
       "long -122.95000 153.0333\n",
       "lat   -37.81667  57.0500"
      ]
     },
     "metadata": {},
     "output_type": "display_data"
    },
    {
     "data": {
      "text/html": [
       "<table>\n",
       "<thead><tr><th scope=col>long</th><th scope=col>lat</th></tr></thead>\n",
       "<tbody>\n",
       "\t<tr><td>-49.26667</td><td>-25.41667</td></tr>\n",
       "\t<tr><td>-42.86667</td><td>-20.75000</td></tr>\n",
       "\t<tr><td>-43.20000</td><td>-22.90000</td></tr>\n",
       "\t<tr><td>-47.63333</td><td>-22.71667</td></tr>\n",
       "\t<tr><td>-46.63333</td><td>-23.53333</td></tr>\n",
       "</tbody>\n",
       "</table>\n"
      ],
      "text/latex": [
       "\\begin{tabular}{ll}\n",
       " long & lat\\\\\n",
       "\\hline\n",
       "\t -49.26667 & -25.41667\\\\\n",
       "\t -42.86667 & -20.75000\\\\\n",
       "\t -43.20000 & -22.90000\\\\\n",
       "\t -47.63333 & -22.71667\\\\\n",
       "\t -46.63333 & -23.53333\\\\\n",
       "\\end{tabular}\n"
      ],
      "text/markdown": [
       "\n",
       "long | lat | \n",
       "|---|---|---|---|---|\n",
       "| -49.26667 | -25.41667 | \n",
       "| -42.86667 | -20.75000 | \n",
       "| -43.20000 | -22.90000 | \n",
       "| -47.63333 | -22.71667 | \n",
       "| -46.63333 | -23.53333 | \n",
       "\n",
       "\n"
      ],
      "text/plain": [
       "     long      lat      \n",
       "[1,] -49.26667 -25.41667\n",
       "[2,] -42.86667 -20.75000\n",
       "[3,] -43.20000 -22.90000\n",
       "[4,] -47.63333 -22.71667\n",
       "[5,] -46.63333 -23.53333"
      ]
     },
     "metadata": {},
     "output_type": "display_data"
    }
   ],
   "source": [
    "# The bbox method provides a bounding box of the object.\n",
    "# Basically it provides the minimum and maximum boundaries.\n",
    "bbox(cranSpatial_DF)\n",
    "\n",
    "# While creating the data frame we initialize te column coordinate.\n",
    "# Let us now get the coordinates where murder was the crime motive using the \n",
    "# coordinate column\n",
    "brazil <- which(cranSpatial_DF$loc == 'Brazil')\n",
    "brazilCoordinates <- coordinates(cranSpatial_DF)[brazil, ]\n",
    "head(brazilCoordinates)\n",
    "\n",
    "# We can also do the above by simply using spatial Dataframe\n",
    "# head(crimeSpatial_DF[murder, ])"
   ]
  },
  {
   "cell_type": "markdown",
   "metadata": {},
   "source": [
    "## Understanding Spatial Lines:\n",
    "------\n",
    "\n",
    "  * Lines are simple sequence of points. \n",
    "  * How a line is represented in the Map package:\n",
    "      * Given the coordinates we start from one point and continue the sequence until a NA is reached. For Example, The x coordinate (longitute) of a particular country might have a sequence of points such as 123.8887, 123.8256, 123.7498, 123.6807, 123.6798, 123.7523, 123.7537, 123.7715, 123.9349, 123.9281, 123.8887, **NA**, 124.2932, 124.2343, 124.1856, 124.1357, 124.0848, 124.1204, 124.1702, 124.2105, 124.3020, 124.3240, 124.2932, **NA**, as so on.....\n",
    "          \n",
    "          In such a case we draw a line from a point untill a **NA** is reached. And for the next line we start from the immediate non **NA** points and continue the trend.\n",
    "          \n",
    "### Spatial Line Object ():\n",
    "\n",
    "  * A SpatialLine object is a matrix of 2D coordinates, without NA values\n",
    "  * Example : the coordinate points for lines from **Map** package may look like \n",
    "  \n",
    "      x (Long) : 123.8887, 123.8256, 123.7498, 123.6807, 123.6798, 123.7523, 123.7537, 123.7715, 123.9349, 123.9281, 123.8887, **NA**, 124.2932, 124.2343, 124.1856, 124.1357, 124.0848, 124.1204, 124.1702, 124.2105, 124.3020, 124.3240, 124.2932, **NA**\n",
    "  \n",
    "      y (Lat)  : 24.28013, 24.26606, 24.28330, 24.28804, 24.31777, 24.34849, 24.39131, 24.41445, 24.36201, 24.32363, 24.28013, **NA**, 24.51592, 24.35806, 24.33506, 24.34761, 24.43584, 24.46963, 24.45185, 24.45864, 24.58711, 24.56636, 24.51592, **NA**\n",
    "      \n",
    "  * The Coordinate points for lines when converted to SpatialLines are packed into a dataframe and look like,  \n",
    "      * Slot \"ID\": \"1\":\n",
    "          1. x (Long) : 123.8887, 123.8256, 123.7498, 123.6807, 123.6798, 123.7523, 123.7537, 123.7715, 123.9349, 123.9281, 123.8887\n",
    "          2. y (Lat)  : 24.28013, 24.26606, 24.28330, 24.28804, 24.31777, 24.34849, 24.39131, 24.41445, 24.36201, 24.32363, 24.28013\n",
    "         \n",
    "      * Slot \"ID\": \"2\":\n",
    "          1. x (Long) : 124.2932, 124.2343, 124.1856, 124.1357, 124.0848, 124.1204, 124.1702, 124.2105, 124.3020, 124.3240, 124.2932\n",
    "          2. y (Lat)  : 24.51592, 24.35806, 24.33506, 24.34761, 24.43584, 24.46963, 24.45185, 24.45864, 24.58711, 24.56636, 24.51592"
   ]
  },
  {
   "cell_type": "code",
   "execution_count": 47,
   "metadata": {
    "collapsed": false,
    "deletable": true,
    "editable": true,
    "scrolled": false
   },
   "outputs": [
    {
     "data": {
      "text/html": [
       "<ol class=list-inline>\n",
       "\t<li>1</li>\n",
       "\t<li>1</li>\n",
       "\t<li>1</li>\n",
       "\t<li>1</li>\n",
       "\t<li>1</li>\n",
       "\t<li>1</li>\n",
       "\t<li>1</li>\n",
       "\t<li>1</li>\n",
       "\t<li>1</li>\n",
       "\t<li>1</li>\n",
       "\t<li>1</li>\n",
       "\t<li>1</li>\n",
       "\t<li>1</li>\n",
       "\t<li>1</li>\n",
       "\t<li>1</li>\n",
       "\t<li>1</li>\n",
       "\t<li>1</li>\n",
       "\t<li>1</li>\n",
       "\t<li>1</li>\n",
       "\t<li>1</li>\n",
       "\t<li>1</li>\n",
       "\t<li>1</li>\n",
       "\t<li>1</li>\n",
       "\t<li>1</li>\n",
       "\t<li>1</li>\n",
       "\t<li>1</li>\n",
       "\t<li>1</li>\n",
       "\t<li>1</li>\n",
       "\t<li>1</li>\n",
       "\t<li>1</li>\n",
       "\t<li>1</li>\n",
       "\t<li>1</li>\n",
       "\t<li>1</li>\n",
       "\t<li>1</li>\n",
       "</ol>\n"
      ],
      "text/latex": [
       "\\begin{enumerate*}\n",
       "\\item 1\n",
       "\\item 1\n",
       "\\item 1\n",
       "\\item 1\n",
       "\\item 1\n",
       "\\item 1\n",
       "\\item 1\n",
       "\\item 1\n",
       "\\item 1\n",
       "\\item 1\n",
       "\\item 1\n",
       "\\item 1\n",
       "\\item 1\n",
       "\\item 1\n",
       "\\item 1\n",
       "\\item 1\n",
       "\\item 1\n",
       "\\item 1\n",
       "\\item 1\n",
       "\\item 1\n",
       "\\item 1\n",
       "\\item 1\n",
       "\\item 1\n",
       "\\item 1\n",
       "\\item 1\n",
       "\\item 1\n",
       "\\item 1\n",
       "\\item 1\n",
       "\\item 1\n",
       "\\item 1\n",
       "\\item 1\n",
       "\\item 1\n",
       "\\item 1\n",
       "\\item 1\n",
       "\\end{enumerate*}\n"
      ],
      "text/markdown": [
       "1. 1\n",
       "2. 1\n",
       "3. 1\n",
       "4. 1\n",
       "5. 1\n",
       "6. 1\n",
       "7. 1\n",
       "8. 1\n",
       "9. 1\n",
       "10. 1\n",
       "11. 1\n",
       "12. 1\n",
       "13. 1\n",
       "14. 1\n",
       "15. 1\n",
       "16. 1\n",
       "17. 1\n",
       "18. 1\n",
       "19. 1\n",
       "20. 1\n",
       "21. 1\n",
       "22. 1\n",
       "23. 1\n",
       "24. 1\n",
       "25. 1\n",
       "26. 1\n",
       "27. 1\n",
       "28. 1\n",
       "29. 1\n",
       "30. 1\n",
       "31. 1\n",
       "32. 1\n",
       "33. 1\n",
       "34. 1\n",
       "\n",
       "\n"
      ],
      "text/plain": [
       " [1] 1 1 1 1 1 1 1 1 1 1 1 1 1 1 1 1 1 1 1 1 1 1 1 1 1 1 1 1 1 1 1 1 1 1"
      ]
     },
     "metadata": {},
     "output_type": "display_data"
    },
    {
     "data": {
      "text/plain": [
       "Lines_len\n",
       " 1 \n",
       "34 "
      ]
     },
     "metadata": {},
     "output_type": "display_data"
    }
   ],
   "source": [
    "# getClass(\"SpatialLines\")\n",
    "\n",
    "japan <- map(\"world\", \"japan\", plot = FALSE)\n",
    "# Japan here is a list of all the x(Longitude), y(Latitude) coordinate of the boundary of the country\n",
    "\n",
    "# We initialize the projection to be Lat and Long or geospatial coordinate system\n",
    "p4s <- CRS(\"+proj=longlat +ellps=WGS84\")\n",
    "\n",
    "# We retrieve the lines from the \"map\" package and convert them into a \n",
    "# spatialLine object using the map2SpatialLines of the \"maptool\" package\n",
    "SLjapan <- map2SpatialLines(japan, proj4string = p4s)\n",
    "# str(SLjapan, max.level = 2)\n",
    "\n",
    "# Now that we have found out each slots of the lines, we wuld want to know the length of each slot \n",
    "# to have a high level understanding of the data\n",
    "# slot(SLjapan, \"lines\")\n",
    "Lines_len <- sapply(slot(SLjapan, \"lines\"),function(x) length(slot(x,\"Lines\")))\n",
    "Lines_len\n",
    "table(Lines_len)\n",
    "    "
   ]
  },
  {
   "cell_type": "code",
   "execution_count": 55,
   "metadata": {
    "collapsed": false
   },
   "outputs": [
    {
     "data": {
      "text/html": [
       "87"
      ],
      "text/latex": [
       "87"
      ],
      "text/markdown": [
       "87"
      ],
      "text/plain": [
       "[1] 87"
      ]
     },
     "metadata": {},
     "output_type": "display_data"
    },
    {
     "data": {
      "text/html": [
       "61"
      ],
      "text/latex": [
       "61"
      ],
      "text/markdown": [
       "61"
      ],
      "text/plain": [
       "[1] 61"
      ]
     },
     "metadata": {},
     "output_type": "display_data"
    }
   ],
   "source": [
    "nrow(volcano)\n",
    "ncol(volcano)"
   ]
  },
  {
   "cell_type": "code",
   "execution_count": 50,
   "metadata": {
    "collapsed": false
   },
   "outputs": [
    {
     "data": {
      "text/plain": [
       "                                        geometry level\n",
       "C_1           MULTILINESTRING((1 0.5515289 ...))   100\n",
       "C_2           MULTILINESTRING((0.1268403 0 ...))   110\n",
       "C_3           MULTILINESTRING((0.1971154 0 ...))   120\n",
       "C_4  MULTILINESTRING((0.04651163 0.5111111 ...))   130\n",
       "C_5    MULTILINESTRING((0.06976744 0.49967 ...))   140\n",
       "C_6  MULTILINESTRING((0.09302326 0.4944444 ...))   150\n",
       "C_7       MULTILINESTRING((0.1162791 0.475 ...))   160\n",
       "C_8   MULTILINESTRING((0.1395349 0.5151378 ...))   170\n",
       "C_9   MULTILINESTRING((0.1627907 0.4984711 ...))   180\n",
       "C_10  MULTILINESTRING((0.1976744 0.5318044 ...))   190"
      ]
     },
     "metadata": {},
     "output_type": "display_data"
    }
   ],
   "source": [
    "volcano_sl <- ContourLines2SLDF(contourLines(volcano))\n",
    "volcano_sl\n",
    "# t(slot(volcano_sl, \"data\"))"
   ]
  },
  {
   "cell_type": "code",
   "execution_count": 8,
   "metadata": {
    "collapsed": false,
    "deletable": true,
    "editable": true
   },
   "outputs": [
    {
     "name": "stdout",
     "output_type": "stream",
     "text": [
      "Formal class 'SpatialPointsDataFrame' [package \"sp\"] with 5 slots\n",
      "  ..@ data       :'data.frame':\t33361 obs. of  17 variables:\n",
      "  .. ..$ time    : POSIXt[1:33361], format: \"2010-01-01 00:00:00\" \"2010-01-01 00:00:00\" ...\n",
      "  .. ..$ date    : Date[1:33361], format: \"0001-01-20\" \"0001-01-20\" ...\n",
      "  .. ..$ hour    : int [1:33361] 0 0 0 0 0 0 0 0 0 0 ...\n",
      "  .. ..$ premise : chr [1:33361] \"18A\" \"13R\" \"20R\" \"20R\" ...\n",
      "  .. ..$ offense : Factor w/ 7 levels \"aggravated assault\",..: 4 6 1 1 1 3 3 3 3 3 ...\n",
      "  .. ..$ beat    : chr [1:33361] \"15E30\" \"13D10\" \"16E20\" \"2A30\" ...\n",
      "  .. ..$ block   : chr [1:33361] \"9600-9699\" \"4700-4799\" \"5000-5099\" \"1000-1099\" ...\n",
      "  .. ..$ street  : chr [1:33361] \"marlive\" \"telephone\" \"wickview\" \"ashland\" ...\n",
      "  .. ..$ type    : chr [1:33361] \"ln\" \"rd\" \"ln\" \"st\" ...\n",
      "  .. ..$ suffix  : chr [1:33361] \"-\" \"-\" \"-\" \"-\" ...\n",
      "  .. ..$ number  : int [1:33361] 1 1 1 1 1 1 1 1 1 1 ...\n",
      "  .. ..$ month   : Ord.factor w/ 8 levels \"january\"<\"february\"<..: 1 1 1 1 1 1 1 1 1 1 ...\n",
      "  .. ..$ day     : Ord.factor w/ 7 levels \"monday\"<\"tuesday\"<..: 5 5 5 5 5 5 5 5 5 5 ...\n",
      "  .. ..$ location: chr [1:33361] \"apartment parking lot\" \"road / street / sidewalk\" \"residence / house\" \"residence / house\" ...\n",
      "  .. ..$ address : chr [1:33361] \"9650 marlive ln\" \"4750 telephone rd\" \"5050 wickview ln\" \"1050 ashland st\" ...\n",
      "  .. ..$ lon     : num [1:33361] -95.4 -95.3 -95.5 -95.4 -95.4 ...\n",
      "  .. ..$ lat     : num [1:33361] 29.7 29.7 29.6 29.8 29.7 ...\n",
      "  .. ..- attr(*, \"na.action\")=Class 'omit'  Named int [1:52953] 41 81 154 161 187 221 235 248 265 284 ...\n",
      "  .. .. .. ..- attr(*, \"names\")= chr [1:52953] \"82769\" \"82809\" \"82882\" \"82889\" ...\n",
      "  ..@ coords.nrs : num(0) \n",
      "  ..@ coords     : num [1:33361, 1:2] -95.4 -95.3 -95.5 -95.4 -95.4 ...\n",
      "  .. ..- attr(*, \"dimnames\")=List of 2\n",
      "  .. .. ..$ : chr [1:33361] \"82729\" \"82730\" \"82731\" \"82732\" ...\n",
      "  .. .. ..$ : chr [1:2] \"lon\" \"lat\"\n",
      "  ..@ bbox       : num [1:2, 1:2] -96.8 29.5 -91.9 37.3\n",
      "  .. ..- attr(*, \"dimnames\")=List of 2\n",
      "  .. .. ..$ : chr [1:2] \"lon\" \"lat\"\n",
      "  .. .. ..$ : chr [1:2] \"min\" \"max\"\n",
      "  ..@ proj4string:Formal class 'CRS' [package \"sp\"] with 1 slot\n",
      "  .. .. ..@ projargs: chr \"+proj-longlat +ellps=WG584\"\n"
     ]
    },
    {
     "ename": "ERROR",
     "evalue": "Error in eval(expr, envir, enclos): could not find function \"readOGR\"\n",
     "output_type": "error",
     "traceback": [
      "Error in eval(expr, envir, enclos): could not find function \"readOGR\"\nTraceback:\n"
     ]
    }
   ],
   "source": [
    "txsShape_datafile <- '/Users/sam/All-Program/App-DataSet/Study/GeoSpatial-Analysis/tl_2015_48_tract'\n",
    "str(crimeSpatial_DF)\n",
    "txsShape <- readOGR(dsn = \"texasShape_datafile\", layer = \"tl_2015_48_tract\")\n",
    "class(txsShape)"
   ]
  },
  {
   "cell_type": "code",
   "execution_count": null,
   "metadata": {
    "collapsed": true,
    "deletable": true,
    "editable": true
   },
   "outputs": [],
   "source": []
  }
 ],
 "metadata": {
  "anaconda-cloud": {},
  "kernelspec": {
   "display_name": "R",
   "language": "R",
   "name": "ir"
  },
  "language_info": {
   "codemirror_mode": "r",
   "file_extension": ".r",
   "mimetype": "text/x-r-source",
   "name": "R",
   "pygments_lexer": "r",
   "version": "3.3.2"
  }
 },
 "nbformat": 4,
 "nbformat_minor": 2
}
