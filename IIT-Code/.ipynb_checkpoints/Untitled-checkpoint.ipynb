{
 "cells": [
  {
   "cell_type": "code",
   "execution_count": 26,
   "metadata": {
    "collapsed": true,
    "deletable": true,
    "editable": true
   },
   "outputs": [],
   "source": [
    "from __future__ import division\n",
    "from __future__ import print_function\n",
    "import numpy as np"
   ]
  },
  {
   "cell_type": "code",
   "execution_count": 27,
   "metadata": {
    "collapsed": false,
    "deletable": true,
    "editable": true
   },
   "outputs": [],
   "source": [
    "# X = np.array([[1,-0.5,0.2],[1,0.5,1.5],[1,2,1.7]])\n",
    "# Y = np.array([-1,1,-1])\n",
    "# W = np.array([1,1,1])\n",
    "\n",
    "X = np.array([[1,-0.5,0.2],[1,0.5,1.5],[1,2,1.7]])\n",
    "Y = np.array([-1,1,-1])\n",
    "W = np.array([1,1,1])"
   ]
  },
  {
   "cell_type": "code",
   "execution_count": 28,
   "metadata": {
    "collapsed": false,
    "deletable": true,
    "editable": true
   },
   "outputs": [
    {
     "name": "stdout",
     "output_type": "stream",
     "text": [
      "\n",
      "[ 0.   1.5  0.8]\n",
      "\n",
      "[ 0.   1.5  0.8]\n",
      "\n",
      "[-1.  -0.5 -0.9]\n",
      "[-1.  -0.5 -0.9]\n"
     ]
    }
   ],
   "source": [
    "# Q4\n",
    "\n",
    "for row in np.arange(len(X)):\n",
    "    print ()\n",
    "    x = X[row,:]\n",
    "    y = Y[row]\n",
    "    WTX = np.dot(x,W.T)\n",
    "#     print (WTX)\n",
    "#     print (W + (x*y))\n",
    "    if WTX*y <= 0:\n",
    "#         print (W)\n",
    "#         print ((x*y))\n",
    "        W = W + (x*y)\n",
    "    print (W)\n",
    "    \n",
    "print (W)"
   ]
  }
 ],
 "metadata": {
  "anaconda-cloud": {},
  "kernelspec": {
   "display_name": "Python [Root]",
   "language": "python",
   "name": "Python [Root]"
  },
  "language_info": {
   "codemirror_mode": {
    "name": "ipython",
    "version": 3
   },
   "file_extension": ".py",
   "mimetype": "text/x-python",
   "name": "python",
   "nbconvert_exporter": "python",
   "pygments_lexer": "ipython3",
   "version": "3.5.2"
  }
 },
 "nbformat": 4,
 "nbformat_minor": 2
}
