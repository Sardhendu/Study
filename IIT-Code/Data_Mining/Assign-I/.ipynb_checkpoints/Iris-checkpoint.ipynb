{
 "cells": [
  {
   "cell_type": "code",
   "execution_count": 2,
   "metadata": {
    "collapsed": false
   },
   "outputs": [],
   "source": [
    "import numpy as np\n",
    "import pandas as pd\n",
    "\n",
    "iris_df = pd.DataFrame(pd.read_table(\"/Users/sam/All-Program/App-DataSet/IIT-Code/Data-Mining/datasets/iris.tab\"))\n",
    "iris_df = iris_df.ix[2:]\n",
    "\n",
    "# creating numpy attribute matrix to perform PCA and excluding the class label\n",
    "attr = iris_df.ix[:,0:iris_df.shape[1]-1].values\n",
    "# print (attr)\n",
    "labels = iris_df.ix[:,-1].values\n",
    "labels_unq =  np.unique(np.array(labels))\n",
    "# print (labels_unq)"
   ]
  },
  {
   "cell_type": "code",
   "execution_count": 3,
   "metadata": {
    "collapsed": false
   },
   "outputs": [
    {
     "name": "stdout",
     "output_type": "stream",
     "text": [
      "The variance captured by the principal components are:  [ 0.72770452  0.23030523]\n"
     ]
    },
    {
     "name": "stderr",
     "output_type": "stream",
     "text": [
      "/Users/sam/App-Setup/CondaENV/lib/python3.5/site-packages/sklearn/utils/validation.py:420: DataConversionWarning: Data with input dtype object was converted to float64 by StandardScaler.\n",
      "  warnings.warn(msg, DataConversionWarning)\n",
      "/Users/sam/App-Setup/CondaENV/lib/python3.5/site-packages/sklearn/utils/validation.py:420: DataConversionWarning: Data with input dtype object was converted to float64 by StandardScaler.\n",
      "  warnings.warn(msg, DataConversionWarning)\n"
     ]
    }
   ],
   "source": [
    "from sklearn.preprocessing import StandardScaler\n",
    "# Standarizing the input (Preprocessing)\n",
    "attr_std = StandardScaler().fit_transform(attr)\n",
    "\n",
    "# Performing PCA\n",
    "from sklearn.decomposition import PCA\n",
    "pca = PCA(n_components=2)\n",
    "principal_components = pca.fit_transform(attr_std)\n",
    "principal_component1 = principal_components[:,0]\n",
    "principal_component2 = principal_components[:,1]\n",
    "print('The variance captured by the principal components are: ',pca.explained_variance_ratio_)"
   ]
  },
  {
   "cell_type": "code",
   "execution_count": null,
   "metadata": {
    "collapsed": false
   },
   "outputs": [
    {
     "name": "stderr",
     "output_type": "stream",
     "text": [
      "/Users/sam/App-Setup/CondaENV/lib/python3.5/site-packages/matplotlib/tight_layout.py:222: UserWarning: tight_layout : falling back to Agg renderer\n",
      "  warnings.warn(\"tight_layout : falling back to Agg renderer\")\n"
     ]
    }
   ],
   "source": [
    "import matplotlib\n",
    "# matplotlib.use('TkAgg')    # Since the matplotlib backend doesn't know we have to manually implement it \n",
    "from matplotlib import pyplot as plt\n",
    "import seaborn as sns\n",
    "\n",
    "def plot1(X, Y, legend_label=None, xlabel=None, ylabel=None):\n",
    "    color_list = sns.color_palette(\"Set1\", 10)\n",
    "    plt.ion()\n",
    "    with plt.style.context('seaborn-whitegrid'):\n",
    "        plt.figure(figsize=(6, 4))\n",
    "        color_list = color_list[0:len(legend_label)]\n",
    "        for label, color in zip(legend_label,color_list):\n",
    "            plt.scatter(X[labels==label],\n",
    "                        Y[labels==label],\n",
    "                        label=label,\n",
    "                        c=color)\n",
    "        if xlabel and ylabel:\n",
    "            plt.xlabel('Principal Component 1')\n",
    "            plt.ylabel('Principal Component 2')\n",
    "        plt.legend(loc='upper right')\n",
    "#         plt.tight_layout()\n",
    "# \t    plt.show('wait')\n",
    "\n",
    "plot1(principal_component1, \n",
    "      principal_component2, \n",
    "      legend_label=labels_unq, \n",
    "      xlabel='Principal Component 1', \n",
    "      ylabel='Principal Component 2')     \n",
    "    \n",
    "plt.show('wait')"
   ]
  }
 ],
 "metadata": {
  "anaconda-cloud": {},
  "kernelspec": {
   "display_name": "Python [Root]",
   "language": "python",
   "name": "Python [Root]"
  },
  "language_info": {
   "codemirror_mode": {
    "name": "ipython",
    "version": 3
   },
   "file_extension": ".py",
   "mimetype": "text/x-python",
   "name": "python",
   "nbconvert_exporter": "python",
   "pygments_lexer": "ipython3",
   "version": "3.5.2"
  }
 },
 "nbformat": 4,
 "nbformat_minor": 0
}
