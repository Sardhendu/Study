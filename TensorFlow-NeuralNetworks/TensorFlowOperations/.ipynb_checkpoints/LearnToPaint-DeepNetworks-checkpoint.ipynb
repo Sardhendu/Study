{
 "cells": [
  {
   "cell_type": "markdown",
   "metadata": {},
   "source": [
    "## Source: kadenze - Creative Applications of Deep Learning with Tensorflow:\n",
    "------------"
   ]
  },
  {
   "cell_type": "code",
   "execution_count": 1,
   "metadata": {
    "collapsed": true,
    "deletable": true,
    "editable": true
   },
   "outputs": [],
   "source": [
    "from __future__ import division\n",
    "from __future__ import print_function\n",
    "\n",
    "import numpy as np\n",
    "import pandas as pd\n",
    "\n",
    "import tensorflow as tf\n",
    "from tensorflow.python.framework import ops  # ops employs a method named reset_default_graph to reset the graph\n",
    "\n",
    "import matplotlib\n",
    "from matplotlib import pyplot as plt\n",
    "\n",
    "matplotlib.style.use('ggplot')\n",
    "%matplotlib inline"
   ]
  },
  {
   "cell_type": "markdown",
   "metadata": {
    "deletable": true,
    "editable": true
   },
   "source": [
    "# Things to look for before marching to build Deep Networks\n",
    "--------\n",
    "\n",
    "* **Using Scope Variables**: We can create deep networks by writing individual code for each layers. In such a case if we want to go deeper say 10 layers deep, writing the same code would be redundant. Hence, we use scope to make the process more dynamic\n",
    "* **Optimization**: Gradient Descent optimizer is a good optimizer, But why not use something with momentum and adaptive learning rate. Such optimizers are shown to be more powerfull in many applications. Example: Try *RMSPROP (when doing Batch learning)* and *ADAM optimizer (for general cases)* "
   ]
  },
  {
   "cell_type": "code",
   "execution_count": 18,
   "metadata": {
    "collapsed": false,
    "deletable": true,
    "editable": true
   },
   "outputs": [],
   "source": [
    "# Here we create a re-usable funtion to add linear networks layers\n",
    "def linearActivation(x, numInputs, numOutputs, scope=None):\n",
    "    with tf.variable_scope(scope or \"linear\"):\n",
    "        w = tf.get_variable(\n",
    "                dtype='float32',\n",
    "                shape=[numInputs, numOutputs],\n",
    "                initializer=tf.random_normal_initializer(mean=0.0, stddev=0.1),\n",
    "                name='weight')\n",
    "        \n",
    "        b = tf.get_variable(\n",
    "                dtype='float32',\n",
    "                shape=[numOutputs],\n",
    "                initializer=tf.constant_initializer(),\n",
    "                name='bias')\n",
    "        \n",
    "        y_pred = tf.matmul(x,w) + b\n",
    "        \n",
    "        return y_pred        "
   ]
  },
  {
   "cell_type": "code",
   "execution_count": 29,
   "metadata": {
    "collapsed": false,
    "deletable": true,
    "editable": true
   },
   "outputs": [
    {
     "name": "stdout",
     "output_type": "stream",
     "text": [
      "[]\n",
      "(1000, 10)\n"
     ]
    },
    {
     "data": {
      "text/plain": [
       "[<tf.Operation 'Layer1/weight/Initializer/random_normal/shape' type=Const>,\n",
       " <tf.Operation 'Layer1/weight/Initializer/random_normal/mean' type=Const>,\n",
       " <tf.Operation 'Layer1/weight/Initializer/random_normal/stddev' type=Const>,\n",
       " <tf.Operation 'Layer1/weight/Initializer/random_normal/RandomStandardNormal' type=RandomStandardNormal>,\n",
       " <tf.Operation 'Layer1/weight/Initializer/random_normal/mul' type=Mul>,\n",
       " <tf.Operation 'Layer1/weight/Initializer/random_normal' type=Add>,\n",
       " <tf.Operation 'Layer1/weight' type=VariableV2>,\n",
       " <tf.Operation 'Layer1/weight/Assign' type=Assign>,\n",
       " <tf.Operation 'Layer1/weight/read' type=Identity>,\n",
       " <tf.Operation 'Layer1/bias/Initializer/Const' type=Const>,\n",
       " <tf.Operation 'Layer1/bias' type=VariableV2>,\n",
       " <tf.Operation 'Layer1/bias/Assign' type=Assign>,\n",
       " <tf.Operation 'Layer1/bias/read' type=Identity>,\n",
       " <tf.Operation 'Layer1/MatMul/a' type=Const>,\n",
       " <tf.Operation 'Layer1/MatMul' type=MatMul>,\n",
       " <tf.Operation 'Layer1/add' type=Add>]"
      ]
     },
     "execution_count": 29,
     "metadata": {},
     "output_type": "execute_result"
    }
   ],
   "source": [
    "# Clear all graph if one exists:\n",
    "ops.reset_default_graph()\n",
    "\n",
    "\n",
    "# Sanity check if the graph is empty:\n",
    "print ([op for op in tf.get_default_graph().get_operations()])\n",
    "\n",
    "# Create a small dataSet:\n",
    "numDataPoints = 1000\n",
    "numFeatures = 1\n",
    "X = np.array(np.linspace(-3,3,numDataPoints), dtype='float32')\n",
    "X = X.reshape(numDataPoints, 1)\n",
    "\n",
    "# Layer 1: Build the first layer\n",
    "numHid1 = 10\n",
    "y_pred1 = linearActivation(x=X, numInputs=numFeatures, numOutputs=numHid1, scope='Layer1')\n",
    "print (y_pred1.get_shape())\n",
    "\n",
    "# Let us now print all the operations in the network\n",
    "[op for op in tf.get_default_graph().get_operations()]"
   ]
  },
  {
   "cell_type": "code",
   "execution_count": 30,
   "metadata": {
    "collapsed": false,
    "deletable": true,
    "editable": true
   },
   "outputs": [
    {
     "name": "stdout",
     "output_type": "stream",
     "text": [
      "y_pred_2 dimensions (1000, 20)\n",
      "y_pred_3 dimensions (1000, 20)\n",
      "y_pred_4 dimensions (1000, 10)\n"
     ]
    },
    {
     "data": {
      "text/plain": [
       "[<tf.Operation 'Layer1/weight/Initializer/random_normal/shape' type=Const>,\n",
       " <tf.Operation 'Layer1/weight/Initializer/random_normal/mean' type=Const>,\n",
       " <tf.Operation 'Layer1/weight/Initializer/random_normal/stddev' type=Const>,\n",
       " <tf.Operation 'Layer1/weight/Initializer/random_normal/RandomStandardNormal' type=RandomStandardNormal>,\n",
       " <tf.Operation 'Layer1/weight/Initializer/random_normal/mul' type=Mul>,\n",
       " <tf.Operation 'Layer1/weight/Initializer/random_normal' type=Add>,\n",
       " <tf.Operation 'Layer1/weight' type=VariableV2>,\n",
       " <tf.Operation 'Layer1/weight/Assign' type=Assign>,\n",
       " <tf.Operation 'Layer1/weight/read' type=Identity>,\n",
       " <tf.Operation 'Layer1/bias/Initializer/Const' type=Const>,\n",
       " <tf.Operation 'Layer1/bias' type=VariableV2>,\n",
       " <tf.Operation 'Layer1/bias/Assign' type=Assign>,\n",
       " <tf.Operation 'Layer1/bias/read' type=Identity>,\n",
       " <tf.Operation 'Layer1/MatMul/a' type=Const>,\n",
       " <tf.Operation 'Layer1/MatMul' type=MatMul>,\n",
       " <tf.Operation 'Layer1/add' type=Add>,\n",
       " <tf.Operation 'Layer2/weight/Initializer/random_normal/shape' type=Const>,\n",
       " <tf.Operation 'Layer2/weight/Initializer/random_normal/mean' type=Const>,\n",
       " <tf.Operation 'Layer2/weight/Initializer/random_normal/stddev' type=Const>,\n",
       " <tf.Operation 'Layer2/weight/Initializer/random_normal/RandomStandardNormal' type=RandomStandardNormal>,\n",
       " <tf.Operation 'Layer2/weight/Initializer/random_normal/mul' type=Mul>,\n",
       " <tf.Operation 'Layer2/weight/Initializer/random_normal' type=Add>,\n",
       " <tf.Operation 'Layer2/weight' type=VariableV2>,\n",
       " <tf.Operation 'Layer2/weight/Assign' type=Assign>,\n",
       " <tf.Operation 'Layer2/weight/read' type=Identity>,\n",
       " <tf.Operation 'Layer2/bias/Initializer/Const' type=Const>,\n",
       " <tf.Operation 'Layer2/bias' type=VariableV2>,\n",
       " <tf.Operation 'Layer2/bias/Assign' type=Assign>,\n",
       " <tf.Operation 'Layer2/bias/read' type=Identity>,\n",
       " <tf.Operation 'Layer2/MatMul' type=MatMul>,\n",
       " <tf.Operation 'Layer2/add' type=Add>,\n",
       " <tf.Operation 'Layer3/weight/Initializer/random_normal/shape' type=Const>,\n",
       " <tf.Operation 'Layer3/weight/Initializer/random_normal/mean' type=Const>,\n",
       " <tf.Operation 'Layer3/weight/Initializer/random_normal/stddev' type=Const>,\n",
       " <tf.Operation 'Layer3/weight/Initializer/random_normal/RandomStandardNormal' type=RandomStandardNormal>,\n",
       " <tf.Operation 'Layer3/weight/Initializer/random_normal/mul' type=Mul>,\n",
       " <tf.Operation 'Layer3/weight/Initializer/random_normal' type=Add>,\n",
       " <tf.Operation 'Layer3/weight' type=VariableV2>,\n",
       " <tf.Operation 'Layer3/weight/Assign' type=Assign>,\n",
       " <tf.Operation 'Layer3/weight/read' type=Identity>,\n",
       " <tf.Operation 'Layer3/bias/Initializer/Const' type=Const>,\n",
       " <tf.Operation 'Layer3/bias' type=VariableV2>,\n",
       " <tf.Operation 'Layer3/bias/Assign' type=Assign>,\n",
       " <tf.Operation 'Layer3/bias/read' type=Identity>,\n",
       " <tf.Operation 'Layer3/MatMul' type=MatMul>,\n",
       " <tf.Operation 'Layer3/add' type=Add>,\n",
       " <tf.Operation 'Layer4/weight/Initializer/random_normal/shape' type=Const>,\n",
       " <tf.Operation 'Layer4/weight/Initializer/random_normal/mean' type=Const>,\n",
       " <tf.Operation 'Layer4/weight/Initializer/random_normal/stddev' type=Const>,\n",
       " <tf.Operation 'Layer4/weight/Initializer/random_normal/RandomStandardNormal' type=RandomStandardNormal>,\n",
       " <tf.Operation 'Layer4/weight/Initializer/random_normal/mul' type=Mul>,\n",
       " <tf.Operation 'Layer4/weight/Initializer/random_normal' type=Add>,\n",
       " <tf.Operation 'Layer4/weight' type=VariableV2>,\n",
       " <tf.Operation 'Layer4/weight/Assign' type=Assign>,\n",
       " <tf.Operation 'Layer4/weight/read' type=Identity>,\n",
       " <tf.Operation 'Layer4/bias/Initializer/Const' type=Const>,\n",
       " <tf.Operation 'Layer4/bias' type=VariableV2>,\n",
       " <tf.Operation 'Layer4/bias/Assign' type=Assign>,\n",
       " <tf.Operation 'Layer4/bias/read' type=Identity>,\n",
       " <tf.Operation 'Layer4/MatMul' type=MatMul>,\n",
       " <tf.Operation 'Layer4/add' type=Add>]"
      ]
     },
     "execution_count": 30,
     "metadata": {},
     "output_type": "execute_result"
    }
   ],
   "source": [
    "# Layer 2:\n",
    "numHid2 = 20\n",
    "y_pred2 = linearActivation(x=y_pred1, numInputs=numHid1, numOutputs=numHid2, scope='Layer2')\n",
    "print (\"y_pred_2 dimensions\", y_pred2.get_shape())\n",
    "\n",
    "# Layer 3:\n",
    "numHid3 = 20\n",
    "y_pred3 = linearActivation(x=y_pred2, numInputs=numHid2, numOutputs=numHid3, scope='Layer3')\n",
    "print (\"y_pred_3 dimensions\", y_pred3.get_shape())\n",
    "\n",
    "# Layer 4:\n",
    "numHid4 = 10\n",
    "y_pred4 = linearActivation(x=y_pred3, numInputs=numHid3, numOutputs=numHid4, scope='Layer4')\n",
    "print (\"y_pred_4 dimensions\", y_pred4.get_shape())\n",
    "\n",
    "# Now lets print all the operations in the graph:\n",
    "[op for op in tf.get_default_graph().get_operations()]"
   ]
  },
  {
   "cell_type": "markdown",
   "metadata": {},
   "source": [
    "# Painting an Image:\n",
    "-----------\n",
    "\n",
    "Objective: Here we would train a neural network on an image, where its learning task would be to learn the pixels values (R,B,G) given the x and y dimension of the image. As, evident teh iput to the image would be the x and y dimension and output would be [R,B,G] value for the input 2D cell.\n",
    "\n",
    "What the network doest: After the network is trained we pass all the cell (x,y) dimensions one after another and hope that the network reconstruct the image. For example we pass input as [[1,1],[1,2],[1,3],[1,4],........[64,62],[64,63],[64,64]] and the output would be [[R,B,G],[R,B,G],[R,G,B],[R,G,B],.....[R,G,B],[R,G,B],[R,G,B]]\n",
    "\n",
    "Lets venture the would of Creativity !!!"
   ]
  },
  {
   "cell_type": "code",
   "execution_count": 31,
   "metadata": {
    "collapsed": true
   },
   "outputs": [],
   "source": [
    "# We load an image:\n",
    "from skimage.data import astronaut\n",
    "from scipy.misc import imresize"
   ]
  },
  {
   "cell_type": "code",
   "execution_count": 39,
   "metadata": {
    "collapsed": false
   },
   "outputs": [
    {
     "name": "stdout",
     "output_type": "stream",
     "text": [
      "Shape of the image:  (512, 512, 3)\n",
      "Shape after reshape:  (64, 64, 3)\n"
     ]
    },
    {
     "data": {
      "text/plain": [
       "<matplotlib.image.AxesImage at 0x121877f60>"
      ]
     },
     "execution_count": 39,
     "metadata": {},
     "output_type": "execute_result"
    },
    {
     "data": {
      "image/png": "[encoded data removed]",
      "text/plain": [
       "<matplotlib.figure.Figure at 0x1215f02b0>"
      ]
     },
     "metadata": {},
     "output_type": "display_data"
    }
   ],
   "source": [
    "img = astronaut()\n",
    "print ('Shape of the image: ', img.shape)\n",
    "\n",
    "# The size is 512x512, a deep network would take much time to train on it.\n",
    "# Why not resize the image\n",
    "img = imresize(img, (64, 64))\n",
    "print  ('Shape after reshape: ', img.shape)\n",
    "\n",
    "plt.imshow(img)"
   ]
  },
  {
   "cell_type": "markdown",
   "metadata": {},
   "source": [
    "### Data Preparation:\n",
    "--------\n",
    "\n",
    "Here we simply create the input data  that will be feed to the network and the output (RGB) values that we expect the network to learn from. We standarize the input, now this may seem a little weird, beacuse you may think that standarizing pixel values are understood, why the hack are we stanarizing input x,y indices or the row-colum index. \n",
    "\n",
    "Even if we dont standarize, our network would not behave weird because the range of values for each dimension is the same i.e 0-64. However, we should not forget that we are fitting a deep neural net, which comes with the problem of weight eplosion and weight vanish. 64 is not a very big number but with deep network we can think it to accumulate high +ve or -ve weight slowely but gradually, which may bring in the scenario of weight explosion. Therefore, just to be on the safer side we standarize the input. Moreover, the network doesnt care what input we give it, it will learn its best from the input, we just need to ensure that out test input goes through the same procedure as the training input.\n",
    "\n",
    "**Note: We are not doing a column-wise standarization, we are standarizing the whole dataset based on one mean and standard deviation fetched from the whole dataset (the data from both the dimension). This is done to ensure that the inputs are not changed any way. Example input [[0,0],[0,1]] becomes [[-1.70519568 -1.70519568],[-1.70519568 -1.65106248]]** "
   ]
  },
  {
   "cell_type": "code",
   "execution_count": 64,
   "metadata": {
    "collapsed": false
   },
   "outputs": [
    {
     "name": "stdout",
     "output_type": "stream",
     "text": [
      "The shape of X and Y are:  (4096, 2) (4096, 3)\n"
     ]
    }
   ],
   "source": [
    "# Creating the input output data structure.\n",
    "x = []\n",
    "y = []\n",
    "\n",
    "for row in np.arange(img.shape[0]):\n",
    "    for col in np.arange(img.shape[1]):\n",
    "        x.append([row, col])\n",
    "        y.append(img[row,col])\n",
    "        \n",
    "# We shall converet our input into nd arrays.\n",
    "X = np.array(x, dtype='float32')\n",
    "Y = np.array(y, dtype='float32')\n",
    "print ('The shape of X and Y are: ', X.shape, Y.shape)\n",
    "\n",
    "# Standarizing the Input\n",
    "X = (X-np.mean(X))/np.std(X)"
   ]
  },
  {
   "cell_type": "markdown",
   "metadata": {},
   "source": [
    "### Build the Network:\n",
    "---------\n",
    "\n",
    "*** Cost Function and Optimization: ***\n",
    "\n",
    "Since our problem is a (linear regression) continuous-pixel value prediction, we can simply use minimum square error as out cost/loss/error function.\n",
    "\n",
    "We have the following :\n",
    "\n",
    "* Y = [4096x3], i=4096, j=3\n",
    "* y_hat = [4096x3], i=4096, j=3\n",
    "\n",
    "Formula: \n",
    "\n",
    "$$error=\\frac{\\sum_{i=0}^{4096} \\sum_{j=0}^{3} {(Y_{ij} - yhat_{ij})}^2}{4096}$$"
   ]
  },
  {
   "cell_type": "code",
   "execution_count": 65,
   "metadata": {
    "collapsed": true
   },
   "outputs": [],
   "source": [
    "def layerActivation(x, numInputs, numOutputs, nonlinearActivation=False, scope=None):\n",
    "    with tf.variable_scope(scope or \"linear\"):\n",
    "        w = tf.get_variable(\n",
    "                dtype='float32',\n",
    "                shape=[numInputs, numOutputs],\n",
    "                initializer=tf.random_normal_initializer(mean=0.0, stddev=0.1),\n",
    "                name='weight')\n",
    "        \n",
    "        b = tf.get_variable(\n",
    "                dtype='float32',\n",
    "                shape=[numOutputs],\n",
    "                initializer=tf.constant_initializer(),\n",
    "                name='bias')\n",
    "        \n",
    "        y_pred = tf.matmul(x,w) + b\n",
    "        \n",
    "        if nonlinearActivation:\n",
    "            y_pred = tf.nn.relu(y_pred)\n",
    "        \n",
    "        return y_pred  \n",
    "   \n",
    "\n",
    "def miniBatchLearning(xInput, yInput, y_pred, learning_rate, numDataPoints, batchSize, numBatches, num_iteration=False):\n",
    "    if not num_iteration:\n",
    "        num_iteration = 500    \n",
    "        \n",
    "    print ('The mini Batch Size is: ', batchSize)\n",
    "    print ('Number of mini batches is: ', numBatches)\n",
    "    print ('Length of xInput is: ', len(xInput))\n",
    "    print ('Length of yInput is: ', len(yInput))\n",
    "    \n",
    "    print ('shape of tensor object x is: ', x.get_shape().as_list())\n",
    "    print ('shape of tensor object y is: ', y.get_shape().as_list())\n",
    "    print ('shape of tensor object y_pred is: ', y_pred.get_shape().as_list())\n",
    "\n",
    "    ###############################\n",
    "    # Cost function and Optimizer\n",
    "    cost = tf.reduce_mean(tf.squared_difference(y, y_pred))\n",
    "    optimizer = tf.train.GradientDescentOptimizer(learning_rate=0.01).minimize(cost)\n",
    "    ###############################\n",
    "    \n",
    "    with tf.Session() as sess:\n",
    "        sess.run(tf.global_variables_initializer())\n",
    "\n",
    "        prev_trainingCost = 0.0\n",
    "\n",
    "        for i in np.arange(num_iteration):\n",
    "            ###############################\n",
    "            # Create indices for mini batch\n",
    "            # It is good to provide different\n",
    "            # combination of example as different\n",
    "            # batches\n",
    "            idxs = np.arange(numDataPoints)\n",
    "            rand_idxs = np.random.permutation(idxs)\n",
    "            ###############################\n",
    "            \n",
    "            # Call the mini batches\n",
    "            for batch_i in range(numBatches):\n",
    "                index = rand_idxs[batch_i * batchSize : (batch_i + 1) * batchSize]\n",
    "                \n",
    "#                 print (len(xInput[index]))\n",
    "#                 print (len(yInput[index]))\n",
    "                \n",
    "                sess.run(optimizer, \n",
    "                         feed_dict={\n",
    "                             x : xInput[index],\n",
    "                             y : yInput[index]\n",
    "                         })\n",
    "\n",
    "            trainingCost = sess.run(cost,\n",
    "                                   feed_dict={\n",
    "                                       x : xInput,\n",
    "                                       y : yInput\n",
    "                                   })\n",
    "\n",
    "            if (i%10 == 0 or i== num_iteration-1):\n",
    "                pred = y_pred.eval(feed_dict={x : xInput},\n",
    "                                   session = sess)  \n",
    "                # When we use the session in the eval(), \n",
    "                # then we ensure that the ouptut is computed by \n",
    "                # using the lastest values of the session sess\n",
    "\n",
    "                axs.plot(xInput, pred, 'k', alpha= (i+50)/num_iteration)\n",
    "                fig.show()\n",
    "                plt.draw()    \n",
    "\n",
    "                print (trainingCost)\n",
    "            # We print the training cost here, see if the cost decreases every iteration,\n",
    "            # if so then we assume that the network is learning weights\n",
    "\n",
    "            # Sometimes a local minimum is reached before the num_iteration\n",
    "            # IF so them we would want to terminate the program before the iterations are complete\n",
    "            if np.abs(prev_trainingCost - trainingCost) < 0.000001:\n",
    "                break\n",
    "\n",
    "            prev_trainingCost = trainingCost"
   ]
  },
  {
   "cell_type": "code",
   "execution_count": 66,
   "metadata": {
    "collapsed": false
   },
   "outputs": [
    {
     "name": "stdout",
     "output_type": "stream",
     "text": [
      "The shape of output unit is:  (4096, 3)\n"
     ]
    }
   ],
   "source": [
    "# First, we reset teh graph\n",
    "ops.reset_default_graph()\n",
    "\n",
    "# Define how many layers and neurons units\n",
    "unitsPerLayer = [2,64,64,64,128,64,64,3] # [numFeatures, numHid1, numHid2, numHid3,numHid4,numHid5, numhid[6], numOutput]\n",
    "\n",
    "# create the network:\n",
    "currentInput = X\n",
    "for layer_i in range(1,len(unitsPerLayer)):\n",
    "    scope_i = \"layer_\"+ str(layer_i)\n",
    "    \n",
    "    currentInput = layerActivation(x = currentInput, \n",
    "                                   numInputs = unitsPerLayer[layer_i-1], \n",
    "                                   numOutputs = unitsPerLayer[layer_i],\n",
    "                                   nonlinearActivation = True if (layer_i != len(unitsPerLayer)-1) else False,\n",
    "                                   scope = scope_i)\n",
    "\n",
    "y_hat = currentInput\n",
    "print ('The shape of output unit is: ', y_hat.get_shape())\n",
    "\n",
    "# Cost Function and Optimization:\n",
    "cost = tf.reduce_mean(tf.squared_difference(Y, y_hat))\n",
    "optimizer = tf.train.AdamOptimizer(0.001).minimize(cost)"
   ]
  },
  {
   "cell_type": "code",
   "execution_count": null,
   "metadata": {
    "collapsed": true
   },
   "outputs": [],
   "source": [
    "# We creates mini batches\n",
    "\n",
    "fig, axs = plt.subplots(1,1,figsize=(10,5))#,facecolor='w', edgecolor='k')\n",
    "axs.scatter(xData, yData, alpha=0.15, marker='+')\n",
    "\n",
    "numDataPoints = 1000\n",
    "numBatches = 10\n",
    "batchSize = numDataPoints // numBatches\n",
    "\n",
    "xDataND = xData.reshape(numDataPoints, numFeatures)\n",
    "print (xDataND.shape)\n",
    "\n",
    "miniBatchLearning(xInput=xDataND, \n",
    "                  yInput=yData,\n",
    "                  y_pred=y_pred,\n",
    "                  learning_rate=0.001,\n",
    "                  numDataPoints=numDataPoints,\n",
    "                  batchSize=batchSize, \n",
    "                  numBatches=numBatches)"
   ]
  },
  {
   "cell_type": "code",
   "execution_count": null,
   "metadata": {
    "collapsed": true
   },
   "outputs": [],
   "source": []
  },
  {
   "cell_type": "code",
   "execution_count": null,
   "metadata": {
    "collapsed": true
   },
   "outputs": [],
   "source": []
  },
  {
   "cell_type": "code",
   "execution_count": null,
   "metadata": {
    "collapsed": true
   },
   "outputs": [],
   "source": []
  },
  {
   "cell_type": "code",
   "execution_count": 102,
   "metadata": {
    "collapsed": true
   },
   "outputs": [],
   "source": [
    "ops.reset_default_graph()\n",
    "# sess = tf.InteractiveSession()"
   ]
  },
  {
   "cell_type": "code",
   "execution_count": 101,
   "metadata": {
    "collapsed": false
   },
   "outputs": [
    {
     "name": "stdout",
     "output_type": "stream",
     "text": [
      "[[ 1.  5.]\n",
      " [ 2.  3.]]\n",
      "[[ 2.  1.]\n",
      " [ 3.  1.]]\n",
      "[[  1.  16.]\n",
      " [  1.   4.]]\n",
      "5.5\n"
     ]
    }
   ],
   "source": [
    "p = np.array([[1,5],[2,3]], dtype='float32')\n",
    "q = np.array([[2,1],[3,1]], dtype='float32')\n",
    "\n",
    "y=tf.placeholder(shape=[2,2], dtype=tf.float32, name='yy')\n",
    "yhat=tf.placeholder(shape=[2,2], dtype=tf.float32, name='yhat')\n",
    "sqdiff = tf.squared_difference(y, yhat)\n",
    "cost = tf.reduce_mean(sqdiff)\n",
    "# print (a.get_shape().as_list())\n",
    "# print (a.eval())\n",
    "\n",
    "with tf.Session() as sess:\n",
    "    y_y, y_hat, sq_diff, co_st = sess.run([y, yhat, sqdiff, cost], feed_dict={y : p, yhat:q})\n",
    "    print (y_y)\n",
    "    print (y_hat)\n",
    "    print (sq_diff)\n",
    "    print (co_st)"
   ]
  },
  {
   "cell_type": "code",
   "execution_count": null,
   "metadata": {
    "collapsed": true
   },
   "outputs": [],
   "source": []
  }
 ],
 "metadata": {
  "anaconda-cloud": {},
  "kernelspec": {
   "display_name": "Python [Root]",
   "language": "python",
   "name": "Python [Root]"
  },
  "language_info": {
   "codemirror_mode": {
    "name": "ipython",
    "version": 3
   },
   "file_extension": ".py",
   "mimetype": "text/x-python",
   "name": "python",
   "nbconvert_exporter": "python",
   "pygments_lexer": "ipython3",
   "version": "3.5.2"
  }
 },
 "nbformat": 4,
 "nbformat_minor": 2
}
