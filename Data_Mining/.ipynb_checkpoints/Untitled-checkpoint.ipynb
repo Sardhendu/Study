{
 "cells": [
  {
   "cell_type": "code",
   "execution_count": 6,
   "metadata": {
    "collapsed": false
   },
   "outputs": [],
   "source": [
    "import numpy as np\n",
    "import pandas as pd\n",
    "\n",
    "bakery_df = pd.DataFrame(pd.read_csv(\"/Users/sam/All-Program/App-DataSet/IIT-Code/Data-Mining/datasets/75000-out2-final.csv\"))\n",
    "#print (bakery_df)\n"
   ]
  },
  {
   "cell_type": "code",
   "execution_count": 21,
   "metadata": {
    "collapsed": false,
    "scrolled": false
   },
   "outputs": [
    {
     "name": "stdout",
     "output_type": "stream",
     "text": [
      "[[ 1.          0.48556649]\n",
      " [ 0.48556649  1.        ]]\n",
      "75000\n",
      "75000\n",
      "The f11 is :  0.04404\n",
      "aaaaa 6236\n",
      "bbbbbb 6265\n",
      "The f01 is :  0.03949333333333333\n",
      "The f10 is :  0.039106666666666665\n",
      "The f00 is :  0.87736\n",
      "Validating .......\n",
      "Validation complete..... everything's fine you can proceed now:\n",
      "3303\n",
      "2962\n",
      "2933\n",
      "65802\n",
      "2933\n",
      "2962\n"
     ]
    }
   ],
   "source": [
    "cc = np.array(bakery_df['Chocolate Coffee'], dtype='float')\n",
    "ck = np.array(bakery_df['Chocolate Cake'], dtype='float')\n",
    "\n",
    "# Using Numpy:\n",
    "np.corrcoef(cc,ck)\n",
    "# Converting NaN to 0\n",
    "x = [1 if val==1 else 0 for val in cc]\n",
    "y = [1 if val==1 else 0 for val in ck]\n",
    "print (np.corrcoef(x,y))\n",
    "\n",
    "print (len(x))\n",
    "print (len(y))\n",
    "# Second Way Manual calculation\n",
    "# print (cc)\n",
    "index_cc1 = np.where(cc==1)[0]\n",
    "index_ck1 = np.where(ck==1)[0]\n",
    "cnt_cc_ck_11 = len((set(index_cc1).intersection(set(index_ck1))))\n",
    "f11 = cnt_cc_ck_11/75000\n",
    "print ('The f11 is : ', f11 )\n",
    "print ('aaaaa',len(index_cc1))\n",
    "print ('bbbbbb',len(index_ck1))\n",
    "\n",
    "index_cc0 = np.where(cc!=1)[0]\n",
    "cnt_cc_ck_01 = len((set(index_cc0).intersection(set(index_ck1))))\n",
    "cnt_ck_cc_01 = len((set(index_ck0).intersection(set(index_cc1))))\n",
    "\n",
    "f01 = cnt_cc_ck_01/75000\n",
    "print ('The f01 is : ', f01 )\n",
    "\n",
    "index_ck0 = np.where(ck!=1)[0]\n",
    "cnt_cc_ck_10 = len((set(index_cc1).intersection(set(index_ck0))))\n",
    "cnt_ck_cc_10 = len((set(index_ck1).intersection(set(index_cc0))))\n",
    "\n",
    "f10 = cnt_cc_ck_10/75000\n",
    "print ('The f10 is : ', f10 )\n",
    "\n",
    "cnt_cc_ck_00 = len((set(index_cc0).intersection(set(index_ck0))))\n",
    "f00 = cnt_cc_ck_00/75000\n",
    "print ('The f00 is : ', f00 )\n",
    "\n",
    "print ('Validating .......')\n",
    "if (len(np.append(index_cc0,index_cc1))==75000) and (len(np.append(index_ck0,index_ck1))==75000) and ((cnt_cc_ck_11+cnt_cc_ck_01+cnt_cc_ck_10+cnt_cc_ck_00)==75000):\n",
    "    print (\"Validation complete..... everything's fine you can proceed now:\")\n",
    "\n",
    "print (cnt_cc_ck_11)\n",
    "print (cnt_cc_ck_10)\n",
    "print (cnt_cc_ck_01)\n",
    "print (cnt_cc_ck_00)\n",
    "print ('')\n",
    "print (cnt_cc_ck_11)\n",
    "print (cnt_ck_cc_10)\n",
    "print (cnt_ck_cc_01)\n",
    "print (cnt_cc_ck_00)\n",
    "\n",
    "\n",
    "#print (cc.intersection(ck))"
   ]
  },
  {
   "cell_type": "code",
   "execution_count": 20,
   "metadata": {
    "collapsed": false
   },
   "outputs": [
    {
     "name": "stdout",
     "output_type": "stream",
     "text": [
      "The f1_ is :  0.08314666666666666\n",
      "The f_1 is :  0.08353333333333333\n",
      "The f0_ is :  0.9168533333333333\n",
      "The f_0 is :  0.9164666666666667\n",
      "0.48556649252787704\n",
      "3303\n",
      "65802\n",
      "The support are as follows:  0.08314666666666666 0.08353333333333333\n",
      "The confidence for cc->ck is 0.529666 and the confidence for ck->cc is 0.527215 \n",
      "aaaaa 6236\n",
      "bbbbbb 6265\n",
      "bbbbbb 68764\n",
      "bbbbbb 68735\n",
      "0.5296664528543938\n",
      "0.5272146847565842\n",
      "0.9569251352451864\n",
      "0.9573288717538372\n"
     ]
    }
   ],
   "source": [
    "# Finding Correlation\n",
    "from __future__ import division\n",
    "f1_ = len(index_cc1)/75000\n",
    "f_1 = len(index_ck1)/75000\n",
    "f0_ = len(index_cc0)/75000\n",
    "f_0 = len(index_ck0)/75000\n",
    "print ('The f1_ is : ', f1_ )\n",
    "print ('The f_1 is : ', f_1 )\n",
    "print ('The f0_ is : ', f0_ )\n",
    "print ('The f_0 is : ', f_0 )\n",
    "corr = ((f11*f00) - (f10*f01)) / pow((f1_*f_1*f0_*f_0), 0.5)\n",
    "print (corr)\n",
    "\n",
    "co_presence = cnt_cc_ck_11\n",
    "co_absence = cnt_cc_ck_00\n",
    "\n",
    "\n",
    "print (co_presence)\n",
    "print (co_absence)\n",
    "# Association cc -> ck:\n",
    "s_cc = len(index_cc1)/75000\n",
    "s_ck = len(index_ck1)/75000\n",
    "print (\"The support are as follows: \", s_cc, s_ck)\n",
    "c_cc_ck =  (cnt_cc_ck_11/75000)/s_cc\n",
    "c_ck_cc =  (cnt_cc_ck_11/75000)/s_ck\n",
    "\n",
    "print (\"The confidence for cc->ck is %f and the confidence for ck->cc is %f \"%(c_cc_ck, c_ck_cc))\n",
    "\n",
    "\n",
    "\n",
    "print ('aaaaa',len(index_cc1))\n",
    "print ('bbbbbb',len(index_ck1))\n",
    "print ('bbbbbb',len(index_cc0))\n",
    "print ('bbbbbb',len(index_ck0))\n",
    "\n",
    "print (3303/6236)\n",
    "print (3303/6265)\n",
    "print (65802/68764)\n",
    "print (65802/68735)\n",
    "\n"
   ]
  }
 ],
 "metadata": {
  "anaconda-cloud": {},
  "kernelspec": {
   "display_name": "Python [Root]",
   "language": "python",
   "name": "Python [Root]"
  },
  "language_info": {
   "codemirror_mode": {
    "name": "ipython",
    "version": 3
   },
   "file_extension": ".py",
   "mimetype": "text/x-python",
   "name": "python",
   "nbconvert_exporter": "python",
   "pygments_lexer": "ipython3",
   "version": "3.5.2"
  }
 },
 "nbformat": 4,
 "nbformat_minor": 0
}
