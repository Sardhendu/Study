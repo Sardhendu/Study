{
 "cells": [
  {
   "cell_type": "code",
   "execution_count": 8,
   "metadata": {
    "collapsed": false
   },
   "outputs": [
    {
     "name": "stdout",
     "output_type": "stream",
     "text": [
      "1000000000.9536743\n",
      "0.95367431640625\n"
     ]
    }
   ],
   "source": [
    "# Rough\n",
    "# In numerical method when we deal with very large values or with very small values, then in doing so we are introduced\n",
    "# to a lot of error. For example when we add a very small number 0.000001 to a very large number 1000000000\n",
    "from __future__ import division\n",
    "a = 1000000000\n",
    "b = 0.000001\n",
    "c = 1000000000\n",
    "\n",
    "i=0\n",
    "while i<1000000:\n",
    "    a = a+b\n",
    "    i+=1\n",
    "print (a)\n",
    "ans1 = a-c\n",
    "print (ans1)\n",
    "\n",
    "# Ideally we should get 1.0 but here we get an output as 0.953. Which is strage this happens because every time we add\n",
    "# a smaller number we introduce an error."
   ]
  },
  {
   "cell_type": "code",
   "execution_count": 9,
   "metadata": {
    "collapsed": false
   },
   "outputs": [
    {
     "name": "stdout",
     "output_type": "stream",
     "text": [
      "1.9999999999177334\n",
      "0.9999999999177334\n"
     ]
    }
   ],
   "source": [
    "# Here we do the above operation not with very small numbers\n",
    "from __future__ import division\n",
    "a = 1\n",
    "b = 0.000001\n",
    "c = 1\n",
    "\n",
    "i=0\n",
    "while i<1000000:\n",
    "    a = a+b\n",
    "    i+=1\n",
    "print (a)\n",
    "ans1 = a-c\n",
    "print (ans1)\n",
    "\n",
    "# Ideally we should get 1.0 but here we get an output as 0.999. Which is much higher than 0.953. THis happens because\n",
    "# 1,000,000,000 is much much much higher than 0.000001, whereas 1 being higher than 0.000001 is not very much though."
   ]
  }
 ],
 "metadata": {
  "kernelspec": {
   "display_name": "Python [Root]",
   "language": "python",
   "name": "Python [Root]"
  },
  "language_info": {
   "codemirror_mode": {
    "name": "ipython",
    "version": 3
   },
   "file_extension": ".py",
   "mimetype": "text/x-python",
   "name": "python",
   "nbconvert_exporter": "python",
   "pygments_lexer": "ipython3",
   "version": "3.5.2"
  }
 },
 "nbformat": 4,
 "nbformat_minor": 0
}
