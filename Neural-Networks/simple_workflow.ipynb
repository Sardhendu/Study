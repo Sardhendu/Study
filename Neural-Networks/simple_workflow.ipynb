{
 "cells": [
  {
   "cell_type": "code",
   "execution_count": 1,
   "metadata": {
    "collapsed": true
   },
   "outputs": [],
   "source": [
    "import tensorflow as tf"
   ]
  },
  {
   "cell_type": "code",
   "execution_count": 5,
   "metadata": {
    "collapsed": false
   },
   "outputs": [
    {
     "name": "stdout",
     "output_type": "stream",
     "text": [
      "Tensor(\"Placeholder_2:0\", dtype=int16)\n",
      "Tensor(\"Placeholder_3:0\", dtype=int16)\n",
      "Tensor(\"Add:0\", dtype=int16)\n"
     ]
    }
   ],
   "source": [
    "# Step 1: Build Graphs, Tensor Flow's uses graph as its central point.\n",
    "# build a computational graph\n",
    "a = tf.placeholder(tf.int16)\n",
    "b = tf.placeholder(tf.int16)\n",
    "addition = tf.add(a,b)\n",
    "print (a)\n",
    "print (b)\n",
    "print (addition)\n",
    "\n",
    "# These three a, b and addition are just three nodes in a graph that have been provided a function flow\n"
   ]
  },
  {
   "cell_type": "code",
   "execution_count": 6,
   "metadata": {
    "collapsed": true
   },
   "outputs": [],
   "source": [
    "# Step 2: initialze all the variables\n",
    "init = tf.initialize_all_variables()"
   ]
  },
  {
   "cell_type": "code",
   "execution_count": 12,
   "metadata": {
    "collapsed": false
   },
   "outputs": [
    {
     "name": "stdout",
     "output_type": "stream",
     "text": [
      "the additiona of the term is :  5\n"
     ]
    }
   ],
   "source": [
    "# Step 3: Create a session and run the graph providing values for the initial nodes.\n",
    "with tf.Session() as sessn:\n",
    "    sessn.run(init)\n",
    "    output = sessn.run(addition, feed_dict={a:2, b:3})\n",
    "    print ('the additiona of the term is : ', output)\n",
    "    \n",
    "sessn.close()"
   ]
  },
  {
   "cell_type": "code",
   "execution_count": null,
   "metadata": {
    "collapsed": true
   },
   "outputs": [],
   "source": []
  }
 ],
 "metadata": {
  "anaconda-cloud": {},
  "kernelspec": {
   "display_name": "Python [Root]",
   "language": "python",
   "name": "Python [Root]"
  },
  "language_info": {
   "codemirror_mode": {
    "name": "ipython",
    "version": 3
   },
   "file_extension": ".py",
   "mimetype": "text/x-python",
   "name": "python",
   "nbconvert_exporter": "python",
   "pygments_lexer": "ipython3",
   "version": "3.5.2"
  }
 },
 "nbformat": 4,
 "nbformat_minor": 0
}
