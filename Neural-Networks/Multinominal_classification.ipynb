{
 "cells": [
  {
   "cell_type": "code",
   "execution_count": 11,
   "metadata": {
    "collapsed": false
   },
   "outputs": [
    {
     "name": "stdout",
     "output_type": "stream",
     "text": [
      "[ 0.8360188   0.11314284  0.05083836]\n",
      "The scores are  [ 30.  10.   2.]\n",
      "In the below you see that the probabilities are getting more closer towards 0 and 1 whrn we multiply the softmax function by 10\n",
      "[  9.99999998e-01   2.06115362e-09   6.91440009e-13]\n",
      "The scores are  [ 0.3   0.1   0.02]\n",
      "In the below you see that the probabilities are getting more closer to the uniform values whrn we multiply the softmax function by 10\n",
      "[ 0.38842275  0.31801365  0.2935636 ]\n"
     ]
    }
   ],
   "source": [
    "# Understanding the Softmax function:\n",
    "from __future__ import division\n",
    "import numpy as np\n",
    "import matplotlib.pyplot as plt\n",
    "\n",
    "def softmax(x):\n",
    "    return np.exp(x)/np.sum(np.exp(x), axis=0)\n",
    "\n",
    "\n",
    "# With Normal Scores:\n",
    "scores = [3.0, 1.0, 0.2]\n",
    "scores = np.array(scores)\n",
    "print (softmax(scores))\n",
    "\n",
    "# When scores are multiplied to 10\n",
    "scores = [3.0, 1.0, 0.2]\n",
    "scores = np.array(scores)\n",
    "scores = scores * 10\n",
    "print ('The scores are ', scores)\n",
    "print ('In the below you see that the probabilities are getting more closer towards 0 and 1 whrn we multiply the softmax function by 10')\n",
    "print (softmax(scores))\n",
    "\n",
    "# When scores are divided to 10\n",
    "scores = [3.0, 1.0, 0.2]\n",
    "scores = np.array(scores)\n",
    "scores = scores/10\n",
    "print ('The scores are ', scores)\n",
    "print ('In the below you see that the probabilities are getting more closer to the uniform values whrn we multiply the softmax function by 10')\n",
    "print (softmax(scores))\n",
    "\n",
    "# plt.plot(x, softmax(scores).T, linewidth=2)\n",
    "# plt.show()"
   ]
  },
  {
   "cell_type": "code",
   "execution_count": 15,
   "metadata": {
    "collapsed": false
   },
   "outputs": [],
   "source": [
    "# For Multiple scores:\n",
    "# Create randon scores\n",
    "x = np.arange(-2.0, 6.0, 0.1)\n",
    "scores = np.vstack([x, np.ones_like(x), 0.2*np.ones_like(x)])\n",
    "plt.plot(x, softmax(scores).T, linewidth=2)\n",
    "plt.show()"
   ]
  },
  {
   "cell_type": "code",
   "execution_count": null,
   "metadata": {
    "collapsed": true
   },
   "outputs": [],
   "source": []
  }
 ],
 "metadata": {
  "kernelspec": {
   "display_name": "Python [Root]",
   "language": "python",
   "name": "Python [Root]"
  },
  "language_info": {
   "codemirror_mode": {
    "name": "ipython",
    "version": 3
   },
   "file_extension": ".py",
   "mimetype": "text/x-python",
   "name": "python",
   "nbconvert_exporter": "python",
   "pygments_lexer": "ipython3",
   "version": "3.5.2"
  }
 },
 "nbformat": 4,
 "nbformat_minor": 0
}
