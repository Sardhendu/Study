{
 "cells": [
  {
   "cell_type": "code",
   "execution_count": 3,
   "metadata": {
    "collapsed": true
   },
   "outputs": [],
   "source": [
    "# Import all the relevant libraries.\n",
    "import nltk\n",
    "import itertools\n",
    "import numpy as np\n",
    "import csv\n",
    "import tensorflow as tf\n",
    "import tempfile"
   ]
  },
  {
   "cell_type": "code",
   "execution_count": 46,
   "metadata": {
    "collapsed": false
   },
   "outputs": [
    {
     "name": "stdout",
     "output_type": "stream",
     "text": [
      "/var/folders/5w/xz07kq3x5zvdn0s8dk24tdm00000gn/T/tmpx0cgxv93\n",
      "brbrbrbrbrbr\n",
      "[1, 2, 3] [0, 1, 0]\n",
      "context {\n",
      "  feature {\n",
      "    key: \"length\"\n",
      "    value {\n",
      "      int64_list {\n",
      "        value: 3\n",
      "      }\n",
      "    }\n",
      "  }\n",
      "}\n",
      "feature_lists {\n",
      "  feature_list {\n",
      "    key: \"labels\"\n",
      "    value {\n",
      "      feature {\n",
      "        int64_list {\n",
      "          value: 0\n",
      "        }\n",
      "      }\n",
      "      feature {\n",
      "        int64_list {\n",
      "          value: 1\n",
      "        }\n",
      "      }\n",
      "      feature {\n",
      "        int64_list {\n",
      "          value: 0\n",
      "        }\n",
      "      }\n",
      "    }\n",
      "  }\n",
      "  feature_list {\n",
      "    key: \"tokens\"\n",
      "    value {\n",
      "      feature {\n",
      "        int64_list {\n",
      "          value: 1\n",
      "        }\n",
      "      }\n",
      "      feature {\n",
      "        int64_list {\n",
      "          value: 2\n",
      "        }\n",
      "      }\n",
      "      feature {\n",
      "        int64_list {\n",
      "          value: 3\n",
      "        }\n",
      "      }\n",
      "    }\n",
      "  }\n",
      "}\n",
      "\n",
      "brbrbrbrbrbr\n",
      "[4, 5, 1] [1, 0, 0]\n",
      "context {\n",
      "  feature {\n",
      "    key: \"length\"\n",
      "    value {\n",
      "      int64_list {\n",
      "        value: 3\n",
      "      }\n",
      "    }\n",
      "  }\n",
      "}\n",
      "feature_lists {\n",
      "  feature_list {\n",
      "    key: \"labels\"\n",
      "    value {\n",
      "      feature {\n",
      "        int64_list {\n",
      "          value: 1\n",
      "        }\n",
      "      }\n",
      "      feature {\n",
      "        int64_list {\n",
      "          value: 0\n",
      "        }\n",
      "      }\n",
      "      feature {\n",
      "        int64_list {\n",
      "          value: 0\n",
      "        }\n",
      "      }\n",
      "    }\n",
      "  }\n",
      "  feature_list {\n",
      "    key: \"tokens\"\n",
      "    value {\n",
      "      feature {\n",
      "        int64_list {\n",
      "          value: 4\n",
      "        }\n",
      "      }\n",
      "      feature {\n",
      "        int64_list {\n",
      "          value: 5\n",
      "        }\n",
      "      }\n",
      "      feature {\n",
      "        int64_list {\n",
      "          value: 1\n",
      "        }\n",
      "      }\n",
      "    }\n",
      "  }\n",
      "}\n",
      "\n",
      "brbrbrbrbrbr\n",
      "[1, 2] [1, 1]\n",
      "context {\n",
      "  feature {\n",
      "    key: \"length\"\n",
      "    value {\n",
      "      int64_list {\n",
      "        value: 2\n",
      "      }\n",
      "    }\n",
      "  }\n",
      "}\n",
      "feature_lists {\n",
      "  feature_list {\n",
      "    key: \"labels\"\n",
      "    value {\n",
      "      feature {\n",
      "        int64_list {\n",
      "          value: 1\n",
      "        }\n",
      "      }\n",
      "      feature {\n",
      "        int64_list {\n",
      "          value: 1\n",
      "        }\n",
      "      }\n",
      "    }\n",
      "  }\n",
      "  feature_list {\n",
      "    key: \"tokens\"\n",
      "    value {\n",
      "      feature {\n",
      "        int64_list {\n",
      "          value: 1\n",
      "        }\n",
      "      }\n",
      "      feature {\n",
      "        int64_list {\n",
      "          value: 2\n",
      "        }\n",
      "      }\n",
      "    }\n",
      "  }\n",
      "}\n",
      "\n",
      "Wrote to /var/folders/5w/xz07kq3x5zvdn0s8dk24tdm00000gn/T/tmpx0cgxv93\n"
     ]
    }
   ],
   "source": [
    "sequences = [[1, 2, 3], [4, 5, 1], [1, 2]]\n",
    "label_sequences = [[0, 1, 0], [1, 0, 0], [1, 1]]\n",
    "\n",
    "def make_example(sequence, labels):\n",
    "    # The object we return\n",
    "    ex = tf.train.SequenceExample()\n",
    "    # A non-sequential feature of our example\n",
    "    sequence_length = len(sequence)\n",
    "    ex.context.feature[\"length\"].int64_list.value.append(sequence_length)\n",
    "    # Feature lists for the two sequential features of our example\n",
    "    fl_tokens = ex.feature_lists.feature_list[\"tokens\"]\n",
    "    fl_labels = ex.feature_lists.feature_list[\"labels\"]\n",
    "    for token, label in zip(sequence, labels):\n",
    "        fl_tokens.feature.add().int64_list.value.append(token)\n",
    "        fl_labels.feature.add().int64_list.value.append(label)\n",
    "    return ex\n",
    "\n",
    "# Write all examples into a TFRecords file\n",
    "with tempfile.NamedTemporaryFile(delete=False) as fp:\n",
    "    print (fp.name)\n",
    "    writer = tf.python_io.TFRecordWriter(fp.name)\n",
    "    for sequence, label_sequence in zip(sequences, label_sequences):\n",
    "        print ('brbrbrbrbrbr')\n",
    "        print (sequence, label_sequence)\n",
    "        ex = make_example(sequence, label_sequence)\n",
    "        print (ex)\n",
    "        writer.write(ex.SerializeToString())\n",
    "    writer.close()\n",
    "    print(\"Wrote to {}\".format(fp.name))"
   ]
  },
  {
   "cell_type": "code",
   "execution_count": 43,
   "metadata": {
    "collapsed": false
   },
   "outputs": [
    {
     "name": "stdout",
     "output_type": "stream",
     "text": [
      "b'\\n\\x11\\n\\x0f\\n\\x06length\\x12\\x05\\x1a\\x03\\n\\x01\\x03\\x12B\\n\\x1f\\n\\x06tokens\\x12\\x15\\n\\x05\\x1a\\x03\\n\\x01\\x01\\n\\x05\\x1a\\x03\\n\\x01\\x02\\n\\x05\\x1a\\x03\\n\\x01\\x03\\n\\x1f\\n\\x06labels\\x12\\x15\\n\\x05\\x1a\\x03\\n\\x01\\x00\\n\\x05\\x1a\\x03\\n\\x01\\x01\\n\\x05\\x1a\\x03\\n\\x01\\x00'\n"
     ]
    }
   ],
   "source": [
    "ex = make_example([1, 2, 3], [0, 1, 0]).SerializeToString()\n",
    "print (ex)"
   ]
  },
  {
   "cell_type": "code",
   "execution_count": 1,
   "metadata": {
    "collapsed": false
   },
   "outputs": [
    {
     "name": "stdout",
     "output_type": "stream",
     "text": [
      "[10, 6]\n",
      "Tensor(\"RNN/transpose:0\", shape=(2, 10, 64), dtype=float64)\n",
      "LSTMStateTuple(c=<tf.Tensor 'RNN/while/Exit_2:0' shape=(?, 64) dtype=float64>, h=<tf.Tensor 'RNN/while/Exit_3:0' shape=(?, 64) dtype=float64>)\n",
      "[[[-0.04873879  0.10236598  0.0021114  ..., -0.06977061 -0.00206842\n",
      "   -0.046741  ]\n",
      "  [-0.01891798 -0.00677315  0.0438622  ..., -0.08005247 -0.02644221\n",
      "   -0.0076705 ]\n",
      "  [-0.09608614 -0.00132416  0.07090155 ..., -0.1006073   0.10859604\n",
      "   -0.12559532]\n",
      "  ..., \n",
      "  [-0.13227843  0.04518689  0.06229541 ..., -0.00873055 -0.10966313\n",
      "   -0.13659457]\n",
      "  [-0.08084598  0.13268095  0.0869037  ..., -0.23884922 -0.12731657\n",
      "   -0.07712269]\n",
      "  [-0.09825347  0.12436559  0.09828475 ..., -0.29004013 -0.1091157\n",
      "   -0.03407121]]\n",
      "\n",
      " [[ 0.04929381 -0.0422543   0.12561429 ..., -0.14302551 -0.00308286\n",
      "    0.07752118]\n",
      "  [ 0.08865711  0.04189393  0.1380182  ..., -0.15630243  0.13257326\n",
      "    0.03757834]\n",
      "  [-0.00509037  0.07774722  0.11640103 ..., -0.03791107  0.13381177\n",
      "   -0.06342925]\n",
      "  ..., \n",
      "  [ 0.          0.          0.         ...,  0.          0.          0.        ]\n",
      "  [ 0.          0.          0.         ...,  0.          0.          0.        ]\n",
      "  [ 0.          0.          0.         ...,  0.          0.          0.        ]]]\n",
      "\n",
      "LSTMStateTuple(c=array([[-0.22707658,  0.20608178,  0.19708552, -0.17727697, -0.08895553,\n",
      "        -0.02532217,  0.06267688,  0.06633367, -0.20865002,  0.31949746,\n",
      "         0.19901539,  0.23353842, -0.39040675, -0.05341103, -0.04888656,\n",
      "        -0.21706701, -0.20984447, -0.16362561,  0.21635754, -0.12739728,\n",
      "        -0.02800278,  0.08085997, -0.39020539,  0.16489645, -0.11215492,\n",
      "        -0.20748423, -0.42955081, -0.33100664, -0.04222551,  0.06205679,\n",
      "        -0.07463858, -0.14031983, -0.07032898,  0.14610133,  0.02967826,\n",
      "        -0.07572289, -0.03596394,  0.04696939,  0.66466683, -0.36753975,\n",
      "        -0.05997361,  0.26260301,  0.41072281,  0.16615302, -0.14574847,\n",
      "        -0.21440518, -0.20864869,  0.00536136,  0.33383334,  0.27298615,\n",
      "         0.25064259, -0.12520371, -0.06699934,  0.00222812,  0.23236104,\n",
      "        -0.38717387,  0.09164212,  0.28122454, -0.29087877, -0.16543726,\n",
      "         0.43817337, -0.48513408, -0.29036659, -0.07491449],\n",
      "       [ 0.1495819 , -0.14823861,  0.25028966, -0.33191912, -0.07615418,\n",
      "        -0.06221551,  0.08964472, -0.45941354,  0.06357446,  0.07448941,\n",
      "         0.22872628, -0.14920999, -0.02651899,  0.06133657,  0.16610522,\n",
      "        -0.03338777, -0.18625321, -0.17067004, -0.05138605,  0.11927638,\n",
      "         0.13516151, -0.32898905, -0.6096946 , -0.21581606,  0.37857745,\n",
      "         0.29780134,  0.16440316, -0.10521428, -0.61683671,  0.29823969,\n",
      "        -0.12099942,  0.23295364, -0.12691298,  0.06517773, -0.21913749,\n",
      "        -0.23364662,  0.17523247,  0.08342241,  0.0323851 ,  0.15275568,\n",
      "         0.02967088,  0.09412443, -0.10939251, -0.20788471,  0.15569021,\n",
      "        -0.19442392,  0.09455015,  0.01294311,  0.37405247, -0.03082575,\n",
      "        -0.16039931, -0.22139281, -0.19833786,  0.13806483,  0.47048881,\n",
      "        -0.40524228,  0.0187059 , -0.09140924, -0.11715751, -0.70096447,\n",
      "         0.13731977,  0.1714947 , -0.06543879, -0.06875864]]), h=array([[-0.09825347,  0.12436559,  0.09828475, -0.08811671, -0.04829479,\n",
      "        -0.00922509,  0.02168723,  0.03575279, -0.08944387,  0.16547027,\n",
      "         0.09603787,  0.11347582, -0.25054797, -0.0270812 , -0.01872964,\n",
      "        -0.11397641, -0.11639981, -0.10448669,  0.10987437, -0.07533783,\n",
      "        -0.01261243,  0.0513318 , -0.16006048,  0.08413086, -0.06419345,\n",
      "        -0.1123867 , -0.22114585, -0.20846778, -0.02607648,  0.0298036 ,\n",
      "        -0.04656515, -0.06233455, -0.03646387,  0.07930139,  0.01630734,\n",
      "        -0.03536607, -0.01532708,  0.01808741,  0.3146425 , -0.16638842,\n",
      "        -0.0283006 ,  0.1557399 ,  0.20418276,  0.0710762 , -0.08690886,\n",
      "        -0.07450352, -0.12240105,  0.0028622 ,  0.12840945,  0.11630628,\n",
      "         0.09817381, -0.0579941 , -0.03337885,  0.00137727,  0.11839289,\n",
      "        -0.19070586,  0.05181944,  0.15278626, -0.11882559, -0.08714698,\n",
      "         0.24149746, -0.29004013, -0.1091157 , -0.03407121],\n",
      "       [ 0.04574373, -0.09540155,  0.1571963 , -0.1394257 , -0.04231326,\n",
      "        -0.02739908,  0.04177779, -0.18099306,  0.03062044,  0.03494167,\n",
      "         0.12466793, -0.07904239, -0.0177113 ,  0.03775557,  0.07754558,\n",
      "        -0.01703475, -0.10969974, -0.09530761, -0.02820664,  0.05341343,\n",
      "         0.04901504, -0.17334495, -0.27732285, -0.12968097,  0.2309943 ,\n",
      "         0.18421231,  0.07993175, -0.05532438, -0.34597796,  0.09069657,\n",
      "        -0.06872668,  0.0918371 , -0.06270683,  0.02370697, -0.07832904,\n",
      "        -0.13116969,  0.08839143,  0.03504391,  0.01245614,  0.07379005,\n",
      "         0.02022666,  0.0560635 , -0.0403833 , -0.10692703,  0.08265359,\n",
      "        -0.07549648,  0.04872084,  0.00535745,  0.2109017 , -0.01630329,\n",
      "        -0.0665376 , -0.09868589, -0.11479778,  0.09221071,  0.23822701,\n",
      "        -0.20349631,  0.01178   , -0.05706538, -0.05948158, -0.2864656 ,\n",
      "         0.07625413,  0.07159192, -0.03720844, -0.04626004]]))\n",
      "\n",
      "(2, 10, 64)\n",
      "\n"
     ]
    },
    {
     "ename": "AttributeError",
     "evalue": "'LSTMStateTuple' object has no attribute 'shape'",
     "output_type": "error",
     "traceback": [
      "\u001b[0;31m---------------------------------------------------------------------------\u001b[0m",
      "\u001b[0;31mAttributeError\u001b[0m                            Traceback (most recent call last)",
      "\u001b[0;32m<ipython-input-1-e8bf9bfe202b>\u001b[0m in \u001b[0;36m<module>\u001b[0;34m()\u001b[0m\n\u001b[1;32m     38\u001b[0m \u001b[0mprint\u001b[0m \u001b[0;34m(\u001b[0m\u001b[0mresult\u001b[0m\u001b[0;34m[\u001b[0m\u001b[0;36m0\u001b[0m\u001b[0;34m]\u001b[0m\u001b[0;34m[\u001b[0m\u001b[0;34m'outputs'\u001b[0m\u001b[0;34m]\u001b[0m\u001b[0;34m.\u001b[0m\u001b[0mshape\u001b[0m\u001b[0;34m)\u001b[0m\u001b[0;34m\u001b[0m\u001b[0m\n\u001b[1;32m     39\u001b[0m \u001b[0mprint\u001b[0m \u001b[0;34m(\u001b[0m\u001b[0;34m''\u001b[0m\u001b[0;34m)\u001b[0m\u001b[0;34m\u001b[0m\u001b[0m\n\u001b[0;32m---> 40\u001b[0;31m \u001b[0mprint\u001b[0m \u001b[0;34m(\u001b[0m\u001b[0mresult\u001b[0m\u001b[0;34m[\u001b[0m\u001b[0;36m0\u001b[0m\u001b[0;34m]\u001b[0m\u001b[0;34m[\u001b[0m\u001b[0;34m'last_states'\u001b[0m\u001b[0;34m]\u001b[0m\u001b[0;34m.\u001b[0m\u001b[0mshape\u001b[0m\u001b[0;34m)\u001b[0m\u001b[0;34m\u001b[0m\u001b[0m\n\u001b[0m\u001b[1;32m     41\u001b[0m \u001b[0;31m# assert result[0][\"outputs\"].shape == (2, 10, 64)\u001b[0m\u001b[0;34m\u001b[0m\u001b[0;34m\u001b[0m\u001b[0m\n\u001b[1;32m     42\u001b[0m \u001b[0;34m\u001b[0m\u001b[0m\n",
      "\u001b[0;31mAttributeError\u001b[0m: 'LSTMStateTuple' object has no attribute 'shape'"
     ]
    }
   ],
   "source": [
    "import nltk\n",
    "import itertools\n",
    "import numpy as np\n",
    "import csv\n",
    "import tensorflow as tf\n",
    "import tempfile\n",
    "\n",
    "# Create input data\n",
    "X = np.random.randn(2, 10, 8)\n",
    "#print (X)\n",
    "\n",
    "# The second example is of length 6 \n",
    "X[1,6:] = 0\n",
    "X_lengths = [10, 6]\n",
    "#print (X) \n",
    "cell = tf.nn.rnn_cell.LSTMCell(num_units=64, state_is_tuple=True)\n",
    "\n",
    "print (X_lengths)\n",
    "\n",
    "outputs, last_states = tf.nn.dynamic_rnn(\n",
    "    cell=cell,\n",
    "    dtype=tf.float64,\n",
    "    sequence_length=X_lengths,\n",
    "    inputs=X)\n",
    "print (outputs)\n",
    "print (last_states)\n",
    "\n",
    "result = tf.contrib.learn.run_n(\n",
    "    {\"outputs\": outputs, \"last_states\": last_states},\n",
    "    n=1,\n",
    "    feed_dict=None)\n",
    "\n",
    "print (result[0]['outputs'])\n",
    "print ('')\n",
    "print (result[0]['last_states'])\n",
    "\n",
    "print ('')\n",
    "print (result[0]['outputs'].shape)\n",
    "print ('')\n",
    "print (result[0]['last_states'].shape)\n",
    "# assert result[0][\"outputs\"].shape == (2, 10, 64)\n",
    " \n",
    "# # Outputs for the second example past past length 6 should be 0\n",
    "# assert (result[0][\"outputs\"][1,7,:] == np.zeros(cell.output_size)).all()"
   ]
  },
  {
   "cell_type": "code",
   "execution_count": 2,
   "metadata": {
    "collapsed": false
   },
   "outputs": [
    {
     "name": "stdout",
     "output_type": "stream",
     "text": [
      "[[[ 0.71729017  0.38172224 -0.19956801  0.18194343  0.4226487   1.26298561\n",
      "    0.26444865  1.14601832]\n",
      "  [-1.69835228  0.36769151 -0.97402884 -0.22190664 -1.32952568  1.90069161\n",
      "   -0.73010785  2.58890676]\n",
      "  [-0.29910887  1.0506534   1.2457377   0.7183096  -1.09795046  0.22264103\n",
      "    0.80217631  1.13985377]\n",
      "  [-1.49979326  0.10177676  1.03760234 -0.26978718  0.11370536 -0.13927117\n",
      "    0.67128343  0.37829628]\n",
      "  [-0.66523676  0.3780318  -1.60910249  0.34122314 -0.3043356   0.48667331\n",
      "    1.77451634 -0.15910965]\n",
      "  [-0.20552565  0.89049555 -0.83274045  0.92981967  0.0352854   0.45086225\n",
      "    0.89434934  0.64517888]\n",
      "  [ 0.56322204  2.08886899  0.90857296 -0.1386985   0.08930235  1.80820731\n",
      "   -0.42374246  0.26622877]\n",
      "  [ 1.32100964  1.22270941  0.4910494   0.42273964 -0.29738031  0.50211067\n",
      "    0.94574481  1.20778073]\n",
      "  [ 0.48940962 -0.35273309 -0.62539853 -0.53045273  0.0611717  -0.53763615\n",
      "    0.98887272 -1.6986863 ]\n",
      "  [-0.74387118  0.58016334 -1.43500145  0.34712719  0.88307306  0.15158896\n",
      "    0.34300728  1.3109133 ]]\n",
      "\n",
      " [[ 0.20306762 -1.44683485  0.47050095 -1.90215936  0.96951277  0.78591149\n",
      "   -0.78514821 -1.58075645]\n",
      "  [ 2.16164587 -0.46182806 -0.24825224  0.18737262  0.37504196  2.02786568\n",
      "   -0.00642802  1.03487619]\n",
      "  [-0.71198833  1.29896757  1.28841822 -1.44261578  0.4441021   0.3239106\n",
      "    1.26973513  1.18243354]\n",
      "  [-0.97410917  0.14182088 -0.4820568   1.79878645 -1.86941863  0.09484741\n",
      "   -0.26246427  0.48371746]\n",
      "  [ 0.78220413 -0.20464083  0.24771682 -0.12133609 -0.7691629   0.22735827\n",
      "   -1.1262618  -0.71542124]\n",
      "  [-0.73093626  0.87831543  0.59566455 -0.07689408  0.50009297 -0.05698804\n",
      "   -1.43511047 -0.94309109]\n",
      "  [ 0.          0.          0.          0.          0.          0.          0.\n",
      "    0.        ]\n",
      "  [ 0.          0.          0.          0.          0.          0.          0.\n",
      "    0.        ]\n",
      "  [ 0.          0.          0.          0.          0.          0.          0.\n",
      "    0.        ]\n",
      "  [ 0.          0.          0.          0.          0.          0.          0.\n",
      "    0.        ]]]\n"
     ]
    }
   ],
   "source": [
    "X = np.random.randn(2, 10, 8)\n",
    "X[1,6:] = 0\n",
    "X_lengths = [10, 6]\n",
    "print (X)"
   ]
  },
  {
   "cell_type": "code",
   "execution_count": 4,
   "metadata": {
    "collapsed": true
   },
   "outputs": [],
   "source": [
    "cell = tf.nn.rnn_cell.LSTMCell(num_units=64, state_is_tuple=True)\n",
    "outputs, last_states = tf.nn.dynamic_rnn(\n",
    "    cell=cell,\n",
    "    dtype=tf.float64,\n",
    "    sequence_length=X_lengths,\n",
    "    inputs=X)"
   ]
  },
  {
   "cell_type": "code",
   "execution_count": 5,
   "metadata": {
    "collapsed": true
   },
   "outputs": [],
   "source": [
    "result = tf.contrib.learn.run_n(\n",
    "    {\"outputs\": outputs, \"last_states\": last_states},\n",
    "    n=1,\n",
    "    feed_dict=None)"
   ]
  },
  {
   "cell_type": "code",
   "execution_count": 6,
   "metadata": {
    "collapsed": true
   },
   "outputs": [],
   "source": [
    "assert result[0][\"outputs\"].shape == (2, 10, 64)\n",
    " \n",
    "# Outputs for the second example past past length 6 should be 0\n",
    "assert (result[0][\"outputs\"][1,7,:] == np.zeros(cell.output_size)).all()"
   ]
  },
  {
   "cell_type": "code",
   "execution_count": 11,
   "metadata": {
    "collapsed": true
   },
   "outputs": [],
   "source": [
    "# Batch size\n",
    "B = 4\n",
    "# (Maximum) number of time steps in this batch\n",
    "T = 8\n",
    "RNN_DIM = 128\n",
    "NUM_CLASSES = 10\n",
    " \n",
    "# The *acutal* length of the examples\n",
    "example_len = [1, 2, 3, 8]"
   ]
  },
  {
   "cell_type": "code",
   "execution_count": 13,
   "metadata": {
    "collapsed": false
   },
   "outputs": [
    {
     "name": "stdout",
     "output_type": "stream",
     "text": [
      "[[7 0 0 0 0 0 0 0]\n",
      " [7 5 0 0 0 0 0 0]\n",
      " [1 4 6 0 0 0 0 0]\n",
      " [3 2 7 2 6 3 6 1]]\n"
     ]
    }
   ],
   "source": [
    "y = np.random.randint(1, 10, [B, T])\n",
    "# print (y)\n",
    "for i, length in enumerate(example_len):\n",
    "    y[i, length:] = 0\n",
    "print (y)"
   ]
  },
  {
   "cell_type": "code",
   "execution_count": 10,
   "metadata": {
    "collapsed": false
   },
   "outputs": [
    {
     "name": "stdout",
     "output_type": "stream",
     "text": [
      "[[[ 1.24816858 -1.02868492 -0.32723761 ...,  0.89143523  1.29687748\n",
      "    1.41751645]\n",
      "  [ 0.78750023  0.07460371  0.62385024 ..., -0.05200256 -0.79829592\n",
      "    0.05485426]\n",
      "  [ 1.62101833 -0.33461718 -0.04583753 ...,  0.5211199  -1.63472385\n",
      "   -0.53852207]\n",
      "  ..., \n",
      "  [ 0.15       -1.92283121  0.50407152 ...,  1.0857052   0.40723821\n",
      "   -0.0592604 ]\n",
      "  [-1.22547093  1.06354622  1.14514789 ..., -0.82929861 -0.70123027\n",
      "    0.35377178]\n",
      "  [ 1.37172679  0.62591802  0.12420518 ..., -0.40507739  1.06380225\n",
      "    0.83426676]]\n",
      "\n",
      " [[ 1.24284251 -0.74996992 -0.87424085 ..., -1.12416666 -0.37375604\n",
      "   -0.41404776]\n",
      "  [-0.42914737  1.01445022  0.66648177 ..., -0.33892189 -0.97711094\n",
      "    0.71569148]\n",
      "  [ 2.3953511  -0.06444704  0.53516596 ...,  0.5042704  -0.45069737\n",
      "    0.6900618 ]\n",
      "  ..., \n",
      "  [-0.31629941  1.13576453 -0.282383   ...,  1.10215908 -0.86170042\n",
      "   -0.81889879]\n",
      "  [-0.77989527  0.28624587  1.1382271  ...,  0.7663907  -0.77374105\n",
      "   -0.00796684]\n",
      "  [ 1.29787243 -0.43243785  0.5627917  ..., -0.21650726  0.19702998\n",
      "   -0.27679697]]\n",
      "\n",
      " [[ 1.10086911  0.68159021 -0.20246804 ...,  0.20999528  0.91042895\n",
      "    0.42850703]\n",
      "  [-0.82185538  0.50700815 -0.13320238 ..., -1.18735685  1.34167215\n",
      "   -1.36716863]\n",
      "  [-1.84426651  0.837366    0.34121847 ...,  0.65113463 -0.1901809\n",
      "   -1.17466773]\n",
      "  ..., \n",
      "  [-0.50892197  0.40744417 -0.93073295 ..., -0.47122584  0.55176708\n",
      "    1.36972224]\n",
      "  [ 0.60788195 -0.65335512  0.41998824 ..., -1.68041908  0.85512134\n",
      "   -0.54652169]\n",
      "  [ 2.45824998  0.29041998  0.6165711  ...,  0.67210507 -0.67272454\n",
      "    0.01317655]]\n",
      "\n",
      " [[ 0.43988329 -0.76619845  1.52957351 ...,  1.50982758  1.22952273\n",
      "    2.74793641]\n",
      "  [ 0.31547868  0.89647409 -2.44047456 ...,  0.10666442 -1.52553925\n",
      "   -1.52608153]\n",
      "  [-1.93334473  1.75921746  0.00726673 ...,  0.02540962  0.28635761\n",
      "    0.11600041]\n",
      "  ..., \n",
      "  [ 0.60491098  0.40975118  0.41415229 ...,  0.34496335  1.47360253\n",
      "    1.13145836]\n",
      "  [ 0.54262805 -0.7009029  -0.1135603  ..., -1.26376516 -1.09779992\n",
      "    1.17811781]\n",
      "  [-0.57459317  0.94684528  1.06704462 ..., -1.32039527 -0.02632685\n",
      "   -0.5290155 ]]]\n"
     ]
    }
   ],
   "source": [
    "print (np.random.randn(B, T, RNN_DIM))\n",
    "rnn_outputs = tf.convert_to_tensor(np.random.randn(B, T, RNN_DIM), dtype=tf.float32)"
   ]
  },
  {
   "cell_type": "code",
   "execution_count": 14,
   "metadata": {
    "collapsed": true
   },
   "outputs": [],
   "source": [
    "W = tf.get_variable(\n",
    "    name=\"W\",\n",
    "    initializer=tf.random_normal_initializer(),\n",
    "    shape=[RNN_DIM, NUM_CLASSES])\n",
    " \n",
    "\n"
   ]
  },
  {
   "cell_type": "code",
   "execution_count": 4,
   "metadata": {
    "collapsed": false
   },
   "outputs": [
    {
     "name": "stdout",
     "output_type": "stream",
     "text": [
      "[[[  8.31628272e-01  -9.51258190e-01  -1.04584514e+00   8.49072735e-01\n",
      "    -1.48134684e+00   2.57791010e-01  -5.34378495e-01  -2.35166282e-01]\n",
      "  [  2.90960523e-01  -1.82827690e+00  -1.71681322e-02   5.76078651e-01\n",
      "    -1.07068828e+00  -3.96379153e-02   7.94747875e-01   9.80964214e-02]\n",
      "  [  1.04343754e+00  -7.82537709e-01   1.55866738e+00  -1.53077798e-01\n",
      "     5.87398368e-01  -3.94689237e-01  -5.31558823e-01  -2.60934876e-02]\n",
      "  [  1.01955015e+00  -1.29134367e+00   1.87678729e-01   9.43079541e-01\n",
      "     1.54198861e+00  -1.55184666e-01   3.25353825e-01  -1.90262942e-01]\n",
      "  [  3.20225521e-01  -8.81380227e-01  -8.61900314e-01  -8.52258155e-01\n",
      "     2.73513882e-01   6.67043804e-01   1.19761469e+00   4.83434182e-01]\n",
      "  [  2.11721673e-03  -5.74893415e-02  -7.35234707e-01   2.60533348e-01\n",
      "     1.73545180e-01  -1.18199060e+00   1.95716322e+00  -1.50267564e-01]\n",
      "  [  5.90561765e-01  -4.50174188e-01  -1.04528783e+00   1.00861189e+00\n",
      "    -7.60281574e-01   6.98109033e-02  -1.14628515e+00   4.68023206e-01]\n",
      "  [  5.08683432e-01  -8.46488651e-01  -4.48771599e-01  -2.22704372e-01\n",
      "     1.60090791e+00  -1.52282493e+00  -3.05705445e-01  -1.28205270e+00]\n",
      "  [  1.49252010e+00  -6.21377153e-02  -1.12558061e+00   1.90654101e-01\n",
      "     1.78942046e+00  -8.20779882e-01   3.83811026e-01  -7.33639057e-01]\n",
      "  [ -6.90821434e-01  -3.67071033e-01  -1.44395604e+00  -4.80885641e-01\n",
      "     3.19638377e-01  -7.63641295e-02   4.84832217e-02  -2.05772522e-01]]\n",
      "\n",
      " [[ -1.10813806e+00   5.47768506e-01   1.14023182e-01  -1.63789410e-01\n",
      "     2.25024199e+00  -4.24017571e-01  -5.96427017e-02  -4.21602640e-01]\n",
      "  [  6.32484207e-01   1.16590630e+00  -5.88249896e-01   2.86073095e+00\n",
      "    -9.09023013e-01   2.09007286e-01  -7.83302649e-01  -7.97685986e-01]\n",
      "  [ -1.43969874e+00  -9.89787815e-01  -2.00015777e-01  -1.60297735e+00\n",
      "    -7.97289454e-01  -8.04631175e-01   6.02961732e-01  -1.66967656e+00]\n",
      "  [  1.70028051e+00   3.62875870e-01   1.33519311e+00   4.11731262e-01\n",
      "    -3.32215811e-01  -1.38529818e+00  -7.21918007e-02  -5.89126141e-01]\n",
      "  [ -1.68116000e+00   5.16434803e-01  -1.15545441e+00   1.42682487e+00\n",
      "     6.02804753e-01  -5.37696552e-01  -9.50146476e-01   2.20664741e-01]\n",
      "  [ -4.21127457e-01  -1.50836184e-02  -9.44046168e-01  -3.57461326e-01\n",
      "     7.77025069e-01  -2.00869951e-01   6.15430383e-01   4.70041872e-01]\n",
      "  [  0.00000000e+00   0.00000000e+00   0.00000000e+00   0.00000000e+00\n",
      "     0.00000000e+00   0.00000000e+00   0.00000000e+00   0.00000000e+00]\n",
      "  [  0.00000000e+00   0.00000000e+00   0.00000000e+00   0.00000000e+00\n",
      "     0.00000000e+00   0.00000000e+00   0.00000000e+00   0.00000000e+00]\n",
      "  [  0.00000000e+00   0.00000000e+00   0.00000000e+00   0.00000000e+00\n",
      "     0.00000000e+00   0.00000000e+00   0.00000000e+00   0.00000000e+00]\n",
      "  [  0.00000000e+00   0.00000000e+00   0.00000000e+00   0.00000000e+00\n",
      "     0.00000000e+00   0.00000000e+00   0.00000000e+00   0.00000000e+00]]]\n"
     ]
    }
   ],
   "source": [
    "# From here we start the output \n",
    "\n",
    "# first we define a X\n",
    "X = np.random.randn(2, 10, 8)\n",
    "X[1,6:] = 0\n",
    "print (X)\n",
    "\n",
    "# Define the lenght of the X, this will be used by the model to specify how much is the sequence length for every \n",
    "# row data in the batch.\n",
    "X_lengths = [10, 6]  # the length of the first row is 10 and the second is 6"
   ]
  },
  {
   "cell_type": "code",
   "execution_count": 5,
   "metadata": {
    "collapsed": false
   },
   "outputs": [],
   "source": [
    "# Model :\n",
    "# Define the type of optimization we need:\n",
    "cell = tf.nn.rnn_cell.LSTMCell(num_units=64, state_is_tuple=True) # Here we choose LSTM\n",
    "# We then wrap the abobe objects with a RNN wrapper with dynamic\n",
    "outputs, last_states = tf.nn.dynamic_rnn(\n",
    "    cell=cell,\n",
    "    dtype=tf.float64,\n",
    "    sequence_length=X_lengths,\n",
    "    inputs=X)"
   ]
  },
  {
   "cell_type": "code",
   "execution_count": 6,
   "metadata": {
    "collapsed": true
   },
   "outputs": [],
   "source": [
    "# Define the variable where to store the result:\n",
    "result = tf.contrib.learn.run_n(\n",
    "    {\"outputs\": outputs, \"last_states\": last_states},\n",
    "    n=1,\n",
    "    feed_dict=None)"
   ]
  },
  {
   "cell_type": "code",
   "execution_count": 9,
   "metadata": {
    "collapsed": false
   },
   "outputs": [],
   "source": [
    "assert result[0][\"outputs\"].shape == (2, 10, 64)   # The shape is 2, 10, 64 \n",
    "# where 2 indicates the number of batches\n",
    "# 10 indicates the number of classes"
   ]
  },
  {
   "cell_type": "code",
   "execution_count": null,
   "metadata": {
    "collapsed": true
   },
   "outputs": [],
   "source": []
  }
 ],
 "metadata": {
  "anaconda-cloud": {},
  "kernelspec": {
   "display_name": "Python [Root]",
   "language": "python",
   "name": "Python [Root]"
  },
  "language_info": {
   "codemirror_mode": {
    "name": "ipython",
    "version": 3
   },
   "file_extension": ".py",
   "mimetype": "text/x-python",
   "name": "python",
   "nbconvert_exporter": "python",
   "pygments_lexer": "ipython3",
   "version": "3.5.2"
  }
 },
 "nbformat": 4,
 "nbformat_minor": 0
}
