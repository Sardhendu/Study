{
 "cells": [
  {
   "cell_type": "code",
   "execution_count": 3,
   "metadata": {},
   "outputs": [],
   "source": [
    "a = [3,1,3,4,7,2]"
   ]
  },
  {
   "cell_type": "code",
   "execution_count": 4,
   "metadata": {},
   "outputs": [
    {
     "data": {
      "text/plain": [
       "[(1, 1), (5, 2), (0, 3), (2, 3), (3, 4), (4, 7)]"
      ]
     },
     "execution_count": 4,
     "metadata": {},
     "output_type": "execute_result"
    }
   ],
   "source": [
    "sorted(enumerate(a), key=lambda x: x[1])"
   ]
  },
  {
   "cell_type": "code",
   "execution_count": 6,
   "metadata": {},
   "outputs": [
    {
     "data": {
      "text/plain": [
       "[1, 5, 0, 2, 3, 4]"
      ]
     },
     "execution_count": 6,
     "metadata": {},
     "output_type": "execute_result"
    }
   ],
   "source": [
    "sorted(range(len(a)), key=lambda x:a[x])"
   ]
  },
  {
   "cell_type": "code",
   "execution_count": 8,
   "metadata": {},
   "outputs": [
    {
     "data": {
      "text/plain": [
       "3"
      ]
     },
     "execution_count": 8,
     "metadata": {},
     "output_type": "execute_result"
    }
   ],
   "source": [
    "a.pop(0)"
   ]
  },
  {
   "cell_type": "code",
   "execution_count": 23,
   "metadata": {},
   "outputs": [
    {
     "name": "stdout",
     "output_type": "stream",
     "text": [
      "[4]\n",
      "['s']\n",
      "[0]\n",
      "[4, 3]\n",
      "['s', 'a']\n",
      "[1, 0]\n",
      "[3, 4, 1]\n",
      "['a', 's', 'e']\n",
      "[2, 0, 1]\n",
      "[4, 3, 4]\n",
      "['r', 'a', 's']\n",
      "[1, 0, 2]\n",
      "[5, 4, 4]\n",
      "['t', 'r', 's']\n",
      "[1, 2, 0]\n",
      "[4, 4, 5, 4]\n",
      "['r', 's', 't', 'y']\n",
      "[0, 1, 3, 2]\n",
      "[4, 4, 4, 5]\n",
      "['r', 's', 'y', 't']\n",
      "[0, 1, 2, 3]\n",
      "['r', 's', 'y']\n"
     ]
    }
   ],
   "source": [
    "score_ = [4,3,1,4,5,4,3]\n",
    "name_ = ['s','a','e','r','t','y','o']\n",
    "\n",
    "score_arr = []\n",
    "person_arr = []\n",
    "for score, name in zip(score_, name_):\n",
    "    if len(score_arr) <=2:\n",
    "            score_arr += [score]\n",
    "            person_arr += [name]\n",
    "    else:            \n",
    "        if score > min(score_arr) and len(set(score_arr))>1:\n",
    "            score_arr[0] = score\n",
    "            person_arr[0] = name\n",
    "        elif score == min(score_arr) or score > min(score_arr):\n",
    "            score_arr += [score]\n",
    "            person_arr += [name]\n",
    "        else:\n",
    "            pass\n",
    "\n",
    "    print (score_arr)\n",
    "    print(person_arr)\n",
    "    ind_srt = sorted(range(len(score_arr)), key=lambda x:score_arr[x])\n",
    "    print (ind_srt)\n",
    "    score_arr = [score_arr[i] for i in ind_srt]\n",
    "    person_arr = [person_arr[i] for i in ind_srt]\n",
    "\n",
    "print(person_arr[:-1])"
   ]
  },
  {
   "cell_type": "code",
   "execution_count": null,
   "metadata": {
    "collapsed": true
   },
   "outputs": [],
   "source": []
  }
 ],
 "metadata": {
  "kernelspec": {
   "display_name": "Python 3",
   "language": "python",
   "name": "python3"
  },
  "language_info": {
   "codemirror_mode": {
    "name": "ipython",
    "version": 3
   },
   "file_extension": ".py",
   "mimetype": "text/x-python",
   "name": "python",
   "nbconvert_exporter": "python",
   "pygments_lexer": "ipython3",
   "version": "3.5.4"
  }
 },
 "nbformat": 4,
 "nbformat_minor": 2
}
